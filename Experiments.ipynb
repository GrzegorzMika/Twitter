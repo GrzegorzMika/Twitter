{
 "cells": [
  {
   "cell_type": "code",
   "execution_count": 2,
   "metadata": {},
   "outputs": [],
   "source": [
    "import pandas as pd\n",
    "import numpy as np\n",
    "import matplotlib.pyplot as plt\n",
    "import tweepy as tw\n",
    "import json as json\n",
    "import datetime as datetime\n",
    "import time as time"
   ]
  },
  {
   "cell_type": "code",
   "execution_count": 3,
   "metadata": {},
   "outputs": [],
   "source": [
    "twitter_keys = {\n",
    "    'consumer_key':        'g3OU7SzfpnE2AoPzWzC7My8O9',\n",
    "    'consumer_secret':     'kIOJAjk4Zun00BvCNCgK4NCSq2X5suMb88IJ12UcSzQUhVLiie',\n",
    "    'access_token_key':    '953693483012902912-fXIsILeot5yu6LLk7BBxUiEfi4DwrQD',\n",
    "    'access_token_secret': 'vNhUqPByb1SZQMIVuGwhJX8BaGAkROiEMVQ3N6JyYEB2l'\n",
    "}"
   ]
  },
  {
   "cell_type": "code",
   "execution_count": 4,
   "metadata": {},
   "outputs": [],
   "source": [
    "auth = tw.OAuthHandler(twitter_keys['consumer_key'], twitter_keys['consumer_secret'])\n",
    "auth.set_access_token(twitter_keys['access_token_key'], twitter_keys['access_token_secret'])"
   ]
  },
  {
   "cell_type": "code",
   "execution_count": 5,
   "metadata": {},
   "outputs": [],
   "source": [
    "api = tw.API(auth, wait_on_rate_limit_notify = True, wait_on_rate_limit=True)"
   ]
  },
  {
   "cell_type": "code",
   "execution_count": 40,
   "metadata": {},
   "outputs": [
    {
     "name": "stdout",
     "output_type": "stream",
     "text": [
      "Status(_api=<tweepy.api.API object at 0x7f7b53a36510>, _json={'created_at': 'Wed Oct 23 14:24:24 +0000 2019', 'id': 1187011898677649408, 'id_str': '1187011898677649408', 'text': 'RT @Neon_Knight23: The @UKLabour MP @jreynoldsMP just said that the UK fishing industry ‘does not matter’ \\n\\n#Brexit @MrMasonMills @Iromg ht…', 'truncated': False, 'entities': {'hashtags': [{'text': 'Brexit', 'indices': [108, 115]}], 'symbols': [], 'user_mentions': [{'screen_name': 'Neon_Knight23', 'name': 'Neo 🇬🇧', 'id': 837244821962166272, 'id_str': '837244821962166272', 'indices': [3, 17]}, {'screen_name': 'UKLabour', 'name': 'The Labour Party', 'id': 14291684, 'id_str': '14291684', 'indices': [23, 32]}, {'screen_name': 'jreynoldsMP', 'name': 'Jonathan Reynolds', 'id': 18632946, 'id_str': '18632946', 'indices': [36, 48]}, {'screen_name': 'MrMasonMills', 'name': 'Mason Mills', 'id': 817330618577092609, 'id_str': '817330618577092609', 'indices': [116, 129]}, {'screen_name': 'Iromg', 'name': 'Mike Graham 🍾', 'id': 207739658, 'id_str': '207739658', 'indices': [130, 136]}], 'urls': []}, 'metadata': {'iso_language_code': 'en', 'result_type': 'recent'}, 'source': '<a href=\"https://mobile.twitter.com\" rel=\"nofollow\">Twitter Web App</a>', 'in_reply_to_status_id': None, 'in_reply_to_status_id_str': None, 'in_reply_to_user_id': None, 'in_reply_to_user_id_str': None, 'in_reply_to_screen_name': None, 'user': {'id': 960619339, 'id_str': '960619339', 'name': 'Steve Ratcliffe', 'screen_name': 'Steve_Ratcliffe', 'location': '', 'description': 'Facebook : https://t.co/PBKWvPYZkG', 'url': None, 'entities': {'description': {'urls': [{'url': 'https://t.co/PBKWvPYZkG', 'expanded_url': 'http://www.facebook.com/steve.ratcliffe.165', 'display_url': 'facebook.com/steve.ratcliff…', 'indices': [11, 34]}]}}, 'protected': False, 'followers_count': 277, 'friends_count': 422, 'listed_count': 27, 'created_at': 'Tue Nov 20 14:53:36 +0000 2012', 'favourites_count': 10662, 'utc_offset': None, 'time_zone': None, 'geo_enabled': False, 'verified': False, 'statuses_count': 103619, 'lang': None, 'contributors_enabled': False, 'is_translator': False, 'is_translation_enabled': False, 'profile_background_color': 'C0DEED', 'profile_background_image_url': 'http://abs.twimg.com/images/themes/theme1/bg.png', 'profile_background_image_url_https': 'https://abs.twimg.com/images/themes/theme1/bg.png', 'profile_background_tile': False, 'profile_image_url': 'http://pbs.twimg.com/profile_images/959821437585502208/NF_BJUXQ_normal.jpg', 'profile_image_url_https': 'https://pbs.twimg.com/profile_images/959821437585502208/NF_BJUXQ_normal.jpg', 'profile_banner_url': 'https://pbs.twimg.com/profile_banners/960619339/1353791485', 'profile_link_color': '1DA1F2', 'profile_sidebar_border_color': 'C0DEED', 'profile_sidebar_fill_color': 'DDEEF6', 'profile_text_color': '333333', 'profile_use_background_image': True, 'has_extended_profile': False, 'default_profile': True, 'default_profile_image': False, 'following': False, 'follow_request_sent': False, 'notifications': False, 'translator_type': 'none'}, 'geo': None, 'coordinates': None, 'place': None, 'contributors': None, 'retweeted_status': {'created_at': 'Tue Oct 22 17:08:11 +0000 2019', 'id': 1186690727914496000, 'id_str': '1186690727914496000', 'text': 'The @UKLabour MP @jreynoldsMP just said that the UK fishing industry ‘does not matter’ \\n\\n#Brexit @MrMasonMills… https://t.co/9iAlEw76nk', 'truncated': True, 'entities': {'hashtags': [{'text': 'Brexit', 'indices': [89, 96]}], 'symbols': [], 'user_mentions': [{'screen_name': 'UKLabour', 'name': 'The Labour Party', 'id': 14291684, 'id_str': '14291684', 'indices': [4, 13]}, {'screen_name': 'jreynoldsMP', 'name': 'Jonathan Reynolds', 'id': 18632946, 'id_str': '18632946', 'indices': [17, 29]}, {'screen_name': 'MrMasonMills', 'name': 'Mason Mills', 'id': 817330618577092609, 'id_str': '817330618577092609', 'indices': [97, 110]}], 'urls': [{'url': 'https://t.co/9iAlEw76nk', 'expanded_url': 'https://twitter.com/i/web/status/1186690727914496000', 'display_url': 'twitter.com/i/web/status/1…', 'indices': [112, 135]}]}, 'metadata': {'iso_language_code': 'en', 'result_type': 'recent'}, 'source': '<a href=\"http://twitter.com/download/iphone\" rel=\"nofollow\">Twitter for iPhone</a>', 'in_reply_to_status_id': None, 'in_reply_to_status_id_str': None, 'in_reply_to_user_id': None, 'in_reply_to_user_id_str': None, 'in_reply_to_screen_name': None, 'user': {'id': 837244821962166272, 'id_str': '837244821962166272', 'name': 'Neo 🇬🇧', 'screen_name': 'Neon_Knight23', 'location': 'Midlands UK', 'description': 'Coffee, Wine, @wolves ⚽️ @WorcsWarriors .. Music, Politics & Reading. Detest feminists & Political Correctness, Atheist, Love Europe not EU.', 'url': None, 'entities': {'description': {'urls': []}}, 'protected': False, 'followers_count': 554, 'friends_count': 873, 'listed_count': 4, 'created_at': 'Thu Mar 02 10:14:55 +0000 2017', 'favourites_count': 417, 'utc_offset': None, 'time_zone': None, 'geo_enabled': False, 'verified': False, 'statuses_count': 4292, 'lang': None, 'contributors_enabled': False, 'is_translator': False, 'is_translation_enabled': False, 'profile_background_color': 'F5F8FA', 'profile_background_image_url': None, 'profile_background_image_url_https': None, 'profile_background_tile': False, 'profile_image_url': 'http://pbs.twimg.com/profile_images/1184547973008691200/9sDwZO6t_normal.jpg', 'profile_image_url_https': 'https://pbs.twimg.com/profile_images/1184547973008691200/9sDwZO6t_normal.jpg', 'profile_banner_url': 'https://pbs.twimg.com/profile_banners/837244821962166272/1568122100', 'profile_link_color': '1DA1F2', 'profile_sidebar_border_color': 'C0DEED', 'profile_sidebar_fill_color': 'DDEEF6', 'profile_text_color': '333333', 'profile_use_background_image': True, 'has_extended_profile': False, 'default_profile': True, 'default_profile_image': False, 'following': False, 'follow_request_sent': False, 'notifications': False, 'translator_type': 'none'}, 'geo': None, 'coordinates': None, 'place': None, 'contributors': None, 'is_quote_status': False, 'retweet_count': 1415, 'favorite_count': 1090, 'favorited': False, 'retweeted': False, 'possibly_sensitive': False, 'lang': 'en'}, 'is_quote_status': False, 'retweet_count': 1415, 'favorite_count': 0, 'favorited': False, 'retweeted': False, 'lang': 'en'}, created_at=datetime.datetime(2019, 10, 23, 14, 24, 24), id=1187011898677649408, id_str='1187011898677649408', text='RT @Neon_Knight23: The @UKLabour MP @jreynoldsMP just said that the UK fishing industry ‘does not matter’ \\n\\n#Brexit @MrMasonMills @Iromg ht…', truncated=False, entities={'hashtags': [{'text': 'Brexit', 'indices': [108, 115]}], 'symbols': [], 'user_mentions': [{'screen_name': 'Neon_Knight23', 'name': 'Neo 🇬🇧', 'id': 837244821962166272, 'id_str': '837244821962166272', 'indices': [3, 17]}, {'screen_name': 'UKLabour', 'name': 'The Labour Party', 'id': 14291684, 'id_str': '14291684', 'indices': [23, 32]}, {'screen_name': 'jreynoldsMP', 'name': 'Jonathan Reynolds', 'id': 18632946, 'id_str': '18632946', 'indices': [36, 48]}, {'screen_name': 'MrMasonMills', 'name': 'Mason Mills', 'id': 817330618577092609, 'id_str': '817330618577092609', 'indices': [116, 129]}, {'screen_name': 'Iromg', 'name': 'Mike Graham 🍾', 'id': 207739658, 'id_str': '207739658', 'indices': [130, 136]}], 'urls': []}, metadata={'iso_language_code': 'en', 'result_type': 'recent'}, source='Twitter Web App', source_url='https://mobile.twitter.com', in_reply_to_status_id=None, in_reply_to_status_id_str=None, in_reply_to_user_id=None, in_reply_to_user_id_str=None, in_reply_to_screen_name=None, author=User(_api=<tweepy.api.API object at 0x7f7b53a36510>, _json={'id': 960619339, 'id_str': '960619339', 'name': 'Steve Ratcliffe', 'screen_name': 'Steve_Ratcliffe', 'location': '', 'description': 'Facebook : https://t.co/PBKWvPYZkG', 'url': None, 'entities': {'description': {'urls': [{'url': 'https://t.co/PBKWvPYZkG', 'expanded_url': 'http://www.facebook.com/steve.ratcliffe.165', 'display_url': 'facebook.com/steve.ratcliff…', 'indices': [11, 34]}]}}, 'protected': False, 'followers_count': 277, 'friends_count': 422, 'listed_count': 27, 'created_at': 'Tue Nov 20 14:53:36 +0000 2012', 'favourites_count': 10662, 'utc_offset': None, 'time_zone': None, 'geo_enabled': False, 'verified': False, 'statuses_count': 103619, 'lang': None, 'contributors_enabled': False, 'is_translator': False, 'is_translation_enabled': False, 'profile_background_color': 'C0DEED', 'profile_background_image_url': 'http://abs.twimg.com/images/themes/theme1/bg.png', 'profile_background_image_url_https': 'https://abs.twimg.com/images/themes/theme1/bg.png', 'profile_background_tile': False, 'profile_image_url': 'http://pbs.twimg.com/profile_images/959821437585502208/NF_BJUXQ_normal.jpg', 'profile_image_url_https': 'https://pbs.twimg.com/profile_images/959821437585502208/NF_BJUXQ_normal.jpg', 'profile_banner_url': 'https://pbs.twimg.com/profile_banners/960619339/1353791485', 'profile_link_color': '1DA1F2', 'profile_sidebar_border_color': 'C0DEED', 'profile_sidebar_fill_color': 'DDEEF6', 'profile_text_color': '333333', 'profile_use_background_image': True, 'has_extended_profile': False, 'default_profile': True, 'default_profile_image': False, 'following': False, 'follow_request_sent': False, 'notifications': False, 'translator_type': 'none'}, id=960619339, id_str='960619339', name='Steve Ratcliffe', screen_name='Steve_Ratcliffe', location='', description='Facebook : https://t.co/PBKWvPYZkG', url=None, entities={'description': {'urls': [{'url': 'https://t.co/PBKWvPYZkG', 'expanded_url': 'http://www.facebook.com/steve.ratcliffe.165', 'display_url': 'facebook.com/steve.ratcliff…', 'indices': [11, 34]}]}}, protected=False, followers_count=277, friends_count=422, listed_count=27, created_at=datetime.datetime(2012, 11, 20, 14, 53, 36), favourites_count=10662, utc_offset=None, time_zone=None, geo_enabled=False, verified=False, statuses_count=103619, lang=None, contributors_enabled=False, is_translator=False, is_translation_enabled=False, profile_background_color='C0DEED', profile_background_image_url='http://abs.twimg.com/images/themes/theme1/bg.png', profile_background_image_url_https='https://abs.twimg.com/images/themes/theme1/bg.png', profile_background_tile=False, profile_image_url='http://pbs.twimg.com/profile_images/959821437585502208/NF_BJUXQ_normal.jpg', profile_image_url_https='https://pbs.twimg.com/profile_images/959821437585502208/NF_BJUXQ_normal.jpg', profile_banner_url='https://pbs.twimg.com/profile_banners/960619339/1353791485', profile_link_color='1DA1F2', profile_sidebar_border_color='C0DEED', profile_sidebar_fill_color='DDEEF6', profile_text_color='333333', profile_use_background_image=True, has_extended_profile=False, default_profile=True, default_profile_image=False, following=False, follow_request_sent=False, notifications=False, translator_type='none'), user=User(_api=<tweepy.api.API object at 0x7f7b53a36510>, _json={'id': 960619339, 'id_str': '960619339', 'name': 'Steve Ratcliffe', 'screen_name': 'Steve_Ratcliffe', 'location': '', 'description': 'Facebook : https://t.co/PBKWvPYZkG', 'url': None, 'entities': {'description': {'urls': [{'url': 'https://t.co/PBKWvPYZkG', 'expanded_url': 'http://www.facebook.com/steve.ratcliffe.165', 'display_url': 'facebook.com/steve.ratcliff…', 'indices': [11, 34]}]}}, 'protected': False, 'followers_count': 277, 'friends_count': 422, 'listed_count': 27, 'created_at': 'Tue Nov 20 14:53:36 +0000 2012', 'favourites_count': 10662, 'utc_offset': None, 'time_zone': None, 'geo_enabled': False, 'verified': False, 'statuses_count': 103619, 'lang': None, 'contributors_enabled': False, 'is_translator': False, 'is_translation_enabled': False, 'profile_background_color': 'C0DEED', 'profile_background_image_url': 'http://abs.twimg.com/images/themes/theme1/bg.png', 'profile_background_image_url_https': 'https://abs.twimg.com/images/themes/theme1/bg.png', 'profile_background_tile': False, 'profile_image_url': 'http://pbs.twimg.com/profile_images/959821437585502208/NF_BJUXQ_normal.jpg', 'profile_image_url_https': 'https://pbs.twimg.com/profile_images/959821437585502208/NF_BJUXQ_normal.jpg', 'profile_banner_url': 'https://pbs.twimg.com/profile_banners/960619339/1353791485', 'profile_link_color': '1DA1F2', 'profile_sidebar_border_color': 'C0DEED', 'profile_sidebar_fill_color': 'DDEEF6', 'profile_text_color': '333333', 'profile_use_background_image': True, 'has_extended_profile': False, 'default_profile': True, 'default_profile_image': False, 'following': False, 'follow_request_sent': False, 'notifications': False, 'translator_type': 'none'}, id=960619339, id_str='960619339', name='Steve Ratcliffe', screen_name='Steve_Ratcliffe', location='', description='Facebook : https://t.co/PBKWvPYZkG', url=None, entities={'description': {'urls': [{'url': 'https://t.co/PBKWvPYZkG', 'expanded_url': 'http://www.facebook.com/steve.ratcliffe.165', 'display_url': 'facebook.com/steve.ratcliff…', 'indices': [11, 34]}]}}, protected=False, followers_count=277, friends_count=422, listed_count=27, created_at=datetime.datetime(2012, 11, 20, 14, 53, 36), favourites_count=10662, utc_offset=None, time_zone=None, geo_enabled=False, verified=False, statuses_count=103619, lang=None, contributors_enabled=False, is_translator=False, is_translation_enabled=False, profile_background_color='C0DEED', profile_background_image_url='http://abs.twimg.com/images/themes/theme1/bg.png', profile_background_image_url_https='https://abs.twimg.com/images/themes/theme1/bg.png', profile_background_tile=False, profile_image_url='http://pbs.twimg.com/profile_images/959821437585502208/NF_BJUXQ_normal.jpg', profile_image_url_https='https://pbs.twimg.com/profile_images/959821437585502208/NF_BJUXQ_normal.jpg', profile_banner_url='https://pbs.twimg.com/profile_banners/960619339/1353791485', profile_link_color='1DA1F2', profile_sidebar_border_color='C0DEED', profile_sidebar_fill_color='DDEEF6', profile_text_color='333333', profile_use_background_image=True, has_extended_profile=False, default_profile=True, default_profile_image=False, following=False, follow_request_sent=False, notifications=False, translator_type='none'), geo=None, coordinates=None, place=None, contributors=None, retweeted_status=Status(_api=<tweepy.api.API object at 0x7f7b53a36510>, _json={'created_at': 'Tue Oct 22 17:08:11 +0000 2019', 'id': 1186690727914496000, 'id_str': '1186690727914496000', 'text': 'The @UKLabour MP @jreynoldsMP just said that the UK fishing industry ‘does not matter’ \\n\\n#Brexit @MrMasonMills… https://t.co/9iAlEw76nk', 'truncated': True, 'entities': {'hashtags': [{'text': 'Brexit', 'indices': [89, 96]}], 'symbols': [], 'user_mentions': [{'screen_name': 'UKLabour', 'name': 'The Labour Party', 'id': 14291684, 'id_str': '14291684', 'indices': [4, 13]}, {'screen_name': 'jreynoldsMP', 'name': 'Jonathan Reynolds', 'id': 18632946, 'id_str': '18632946', 'indices': [17, 29]}, {'screen_name': 'MrMasonMills', 'name': 'Mason Mills', 'id': 817330618577092609, 'id_str': '817330618577092609', 'indices': [97, 110]}], 'urls': [{'url': 'https://t.co/9iAlEw76nk', 'expanded_url': 'https://twitter.com/i/web/status/1186690727914496000', 'display_url': 'twitter.com/i/web/status/1…', 'indices': [112, 135]}]}, 'metadata': {'iso_language_code': 'en', 'result_type': 'recent'}, 'source': '<a href=\"http://twitter.com/download/iphone\" rel=\"nofollow\">Twitter for iPhone</a>', 'in_reply_to_status_id': None, 'in_reply_to_status_id_str': None, 'in_reply_to_user_id': None, 'in_reply_to_user_id_str': None, 'in_reply_to_screen_name': None, 'user': {'id': 837244821962166272, 'id_str': '837244821962166272', 'name': 'Neo 🇬🇧', 'screen_name': 'Neon_Knight23', 'location': 'Midlands UK', 'description': 'Coffee, Wine, @wolves ⚽️ @WorcsWarriors .. Music, Politics & Reading. Detest feminists & Political Correctness, Atheist, Love Europe not EU.', 'url': None, 'entities': {'description': {'urls': []}}, 'protected': False, 'followers_count': 554, 'friends_count': 873, 'listed_count': 4, 'created_at': 'Thu Mar 02 10:14:55 +0000 2017', 'favourites_count': 417, 'utc_offset': None, 'time_zone': None, 'geo_enabled': False, 'verified': False, 'statuses_count': 4292, 'lang': None, 'contributors_enabled': False, 'is_translator': False, 'is_translation_enabled': False, 'profile_background_color': 'F5F8FA', 'profile_background_image_url': None, 'profile_background_image_url_https': None, 'profile_background_tile': False, 'profile_image_url': 'http://pbs.twimg.com/profile_images/1184547973008691200/9sDwZO6t_normal.jpg', 'profile_image_url_https': 'https://pbs.twimg.com/profile_images/1184547973008691200/9sDwZO6t_normal.jpg', 'profile_banner_url': 'https://pbs.twimg.com/profile_banners/837244821962166272/1568122100', 'profile_link_color': '1DA1F2', 'profile_sidebar_border_color': 'C0DEED', 'profile_sidebar_fill_color': 'DDEEF6', 'profile_text_color': '333333', 'profile_use_background_image': True, 'has_extended_profile': False, 'default_profile': True, 'default_profile_image': False, 'following': False, 'follow_request_sent': False, 'notifications': False, 'translator_type': 'none'}, 'geo': None, 'coordinates': None, 'place': None, 'contributors': None, 'is_quote_status': False, 'retweet_count': 1415, 'favorite_count': 1090, 'favorited': False, 'retweeted': False, 'possibly_sensitive': False, 'lang': 'en'}, created_at=datetime.datetime(2019, 10, 22, 17, 8, 11), id=1186690727914496000, id_str='1186690727914496000', text='The @UKLabour MP @jreynoldsMP just said that the UK fishing industry ‘does not matter’ \\n\\n#Brexit @MrMasonMills… https://t.co/9iAlEw76nk', truncated=True, entities={'hashtags': [{'text': 'Brexit', 'indices': [89, 96]}], 'symbols': [], 'user_mentions': [{'screen_name': 'UKLabour', 'name': 'The Labour Party', 'id': 14291684, 'id_str': '14291684', 'indices': [4, 13]}, {'screen_name': 'jreynoldsMP', 'name': 'Jonathan Reynolds', 'id': 18632946, 'id_str': '18632946', 'indices': [17, 29]}, {'screen_name': 'MrMasonMills', 'name': 'Mason Mills', 'id': 817330618577092609, 'id_str': '817330618577092609', 'indices': [97, 110]}], 'urls': [{'url': 'https://t.co/9iAlEw76nk', 'expanded_url': 'https://twitter.com/i/web/status/1186690727914496000', 'display_url': 'twitter.com/i/web/status/1…', 'indices': [112, 135]}]}, metadata={'iso_language_code': 'en', 'result_type': 'recent'}, source='Twitter for iPhone', source_url='http://twitter.com/download/iphone', in_reply_to_status_id=None, in_reply_to_status_id_str=None, in_reply_to_user_id=None, in_reply_to_user_id_str=None, in_reply_to_screen_name=None, author=User(_api=<tweepy.api.API object at 0x7f7b53a36510>, _json={'id': 837244821962166272, 'id_str': '837244821962166272', 'name': 'Neo 🇬🇧', 'screen_name': 'Neon_Knight23', 'location': 'Midlands UK', 'description': 'Coffee, Wine, @wolves ⚽️ @WorcsWarriors .. Music, Politics & Reading. Detest feminists & Political Correctness, Atheist, Love Europe not EU.', 'url': None, 'entities': {'description': {'urls': []}}, 'protected': False, 'followers_count': 554, 'friends_count': 873, 'listed_count': 4, 'created_at': 'Thu Mar 02 10:14:55 +0000 2017', 'favourites_count': 417, 'utc_offset': None, 'time_zone': None, 'geo_enabled': False, 'verified': False, 'statuses_count': 4292, 'lang': None, 'contributors_enabled': False, 'is_translator': False, 'is_translation_enabled': False, 'profile_background_color': 'F5F8FA', 'profile_background_image_url': None, 'profile_background_image_url_https': None, 'profile_background_tile': False, 'profile_image_url': 'http://pbs.twimg.com/profile_images/1184547973008691200/9sDwZO6t_normal.jpg', 'profile_image_url_https': 'https://pbs.twimg.com/profile_images/1184547973008691200/9sDwZO6t_normal.jpg', 'profile_banner_url': 'https://pbs.twimg.com/profile_banners/837244821962166272/1568122100', 'profile_link_color': '1DA1F2', 'profile_sidebar_border_color': 'C0DEED', 'profile_sidebar_fill_color': 'DDEEF6', 'profile_text_color': '333333', 'profile_use_background_image': True, 'has_extended_profile': False, 'default_profile': True, 'default_profile_image': False, 'following': False, 'follow_request_sent': False, 'notifications': False, 'translator_type': 'none'}, id=837244821962166272, id_str='837244821962166272', name='Neo 🇬🇧', screen_name='Neon_Knight23', location='Midlands UK', description='Coffee, Wine, @wolves ⚽️ @WorcsWarriors .. Music, Politics & Reading. Detest feminists & Political Correctness, Atheist, Love Europe not EU.', url=None, entities={'description': {'urls': []}}, protected=False, followers_count=554, friends_count=873, listed_count=4, created_at=datetime.datetime(2017, 3, 2, 10, 14, 55), favourites_count=417, utc_offset=None, time_zone=None, geo_enabled=False, verified=False, statuses_count=4292, lang=None, contributors_enabled=False, is_translator=False, is_translation_enabled=False, profile_background_color='F5F8FA', profile_background_image_url=None, profile_background_image_url_https=None, profile_background_tile=False, profile_image_url='http://pbs.twimg.com/profile_images/1184547973008691200/9sDwZO6t_normal.jpg', profile_image_url_https='https://pbs.twimg.com/profile_images/1184547973008691200/9sDwZO6t_normal.jpg', profile_banner_url='https://pbs.twimg.com/profile_banners/837244821962166272/1568122100', profile_link_color='1DA1F2', profile_sidebar_border_color='C0DEED', profile_sidebar_fill_color='DDEEF6', profile_text_color='333333', profile_use_background_image=True, has_extended_profile=False, default_profile=True, default_profile_image=False, following=False, follow_request_sent=False, notifications=False, translator_type='none'), user=User(_api=<tweepy.api.API object at 0x7f7b53a36510>, _json={'id': 837244821962166272, 'id_str': '837244821962166272', 'name': 'Neo 🇬🇧', 'screen_name': 'Neon_Knight23', 'location': 'Midlands UK', 'description': 'Coffee, Wine, @wolves ⚽️ @WorcsWarriors .. Music, Politics & Reading. Detest feminists & Political Correctness, Atheist, Love Europe not EU.', 'url': None, 'entities': {'description': {'urls': []}}, 'protected': False, 'followers_count': 554, 'friends_count': 873, 'listed_count': 4, 'created_at': 'Thu Mar 02 10:14:55 +0000 2017', 'favourites_count': 417, 'utc_offset': None, 'time_zone': None, 'geo_enabled': False, 'verified': False, 'statuses_count': 4292, 'lang': None, 'contributors_enabled': False, 'is_translator': False, 'is_translation_enabled': False, 'profile_background_color': 'F5F8FA', 'profile_background_image_url': None, 'profile_background_image_url_https': None, 'profile_background_tile': False, 'profile_image_url': 'http://pbs.twimg.com/profile_images/1184547973008691200/9sDwZO6t_normal.jpg', 'profile_image_url_https': 'https://pbs.twimg.com/profile_images/1184547973008691200/9sDwZO6t_normal.jpg', 'profile_banner_url': 'https://pbs.twimg.com/profile_banners/837244821962166272/1568122100', 'profile_link_color': '1DA1F2', 'profile_sidebar_border_color': 'C0DEED', 'profile_sidebar_fill_color': 'DDEEF6', 'profile_text_color': '333333', 'profile_use_background_image': True, 'has_extended_profile': False, 'default_profile': True, 'default_profile_image': False, 'following': False, 'follow_request_sent': False, 'notifications': False, 'translator_type': 'none'}, id=837244821962166272, id_str='837244821962166272', name='Neo 🇬🇧', screen_name='Neon_Knight23', location='Midlands UK', description='Coffee, Wine, @wolves ⚽️ @WorcsWarriors .. Music, Politics & Reading. Detest feminists & Political Correctness, Atheist, Love Europe not EU.', url=None, entities={'description': {'urls': []}}, protected=False, followers_count=554, friends_count=873, listed_count=4, created_at=datetime.datetime(2017, 3, 2, 10, 14, 55), favourites_count=417, utc_offset=None, time_zone=None, geo_enabled=False, verified=False, statuses_count=4292, lang=None, contributors_enabled=False, is_translator=False, is_translation_enabled=False, profile_background_color='F5F8FA', profile_background_image_url=None, profile_background_image_url_https=None, profile_background_tile=False, profile_image_url='http://pbs.twimg.com/profile_images/1184547973008691200/9sDwZO6t_normal.jpg', profile_image_url_https='https://pbs.twimg.com/profile_images/1184547973008691200/9sDwZO6t_normal.jpg', profile_banner_url='https://pbs.twimg.com/profile_banners/837244821962166272/1568122100', profile_link_color='1DA1F2', profile_sidebar_border_color='C0DEED', profile_sidebar_fill_color='DDEEF6', profile_text_color='333333', profile_use_background_image=True, has_extended_profile=False, default_profile=True, default_profile_image=False, following=False, follow_request_sent=False, notifications=False, translator_type='none'), geo=None, coordinates=None, place=None, contributors=None, is_quote_status=False, retweet_count=1415, favorite_count=1090, favorited=False, retweeted=False, possibly_sensitive=False, lang='en'), is_quote_status=False, retweet_count=1415, favorite_count=0, favorited=False, retweeted=False, lang='en')\n",
      "Status(_api=<tweepy.api.API object at 0x7f7b53a36510>, _json={'created_at': 'Wed Oct 23 14:24:23 +0000 2019', 'id': 1187011891790565376, 'id_str': '1187011891790565376', 'text': 'RT @gardensinboots: I know of so many, mainly young and talented, Brits who have moved to the EU to take advantage of free movement whilst…', 'truncated': False, 'entities': {'hashtags': [], 'symbols': [], 'user_mentions': [{'screen_name': 'gardensinboots', 'name': 'Izzy Knowles🔶🇬🇧🇪🇺', 'id': 20379267, 'id_str': '20379267', 'indices': [3, 18]}], 'urls': []}, 'metadata': {'iso_language_code': 'en', 'result_type': 'recent'}, 'source': '<a href=\"http://twitter.com/download/android\" rel=\"nofollow\">Twitter for Android</a>', 'in_reply_to_status_id': None, 'in_reply_to_status_id_str': None, 'in_reply_to_user_id': None, 'in_reply_to_user_id_str': None, 'in_reply_to_screen_name': None, 'user': {'id': 3334614563, 'id_str': '3334614563', 'name': 'Chris Wheatley🔸️', 'screen_name': 'cmwheatley56', 'location': 'Brent, London', 'description': '', 'url': None, 'entities': {'description': {'urls': []}}, 'protected': False, 'followers_count': 2386, 'friends_count': 851, 'listed_count': 176, 'created_at': 'Fri Jun 19 11:48:27 +0000 2015', 'favourites_count': 231879, 'utc_offset': None, 'time_zone': None, 'geo_enabled': False, 'verified': False, 'statuses_count': 250453, 'lang': None, 'contributors_enabled': False, 'is_translator': False, 'is_translation_enabled': False, 'profile_background_color': 'C0DEED', 'profile_background_image_url': 'http://abs.twimg.com/images/themes/theme1/bg.png', 'profile_background_image_url_https': 'https://abs.twimg.com/images/themes/theme1/bg.png', 'profile_background_tile': False, 'profile_image_url': 'http://pbs.twimg.com/profile_images/1153918164834639872/mKSvW0C-_normal.jpg', 'profile_image_url_https': 'https://pbs.twimg.com/profile_images/1153918164834639872/mKSvW0C-_normal.jpg', 'profile_link_color': '1DA1F2', 'profile_sidebar_border_color': 'C0DEED', 'profile_sidebar_fill_color': 'DDEEF6', 'profile_text_color': '333333', 'profile_use_background_image': True, 'has_extended_profile': True, 'default_profile': True, 'default_profile_image': False, 'following': False, 'follow_request_sent': False, 'notifications': False, 'translator_type': 'none'}, 'geo': None, 'coordinates': None, 'place': None, 'contributors': None, 'retweeted_status': {'created_at': 'Wed Oct 23 08:28:25 +0000 2019', 'id': 1186922309673721856, 'id_str': '1186922309673721856', 'text': 'I know of so many, mainly young and talented, Brits who have moved to the EU to take advantage of free movement whi… https://t.co/TuBahY7UO2', 'truncated': True, 'entities': {'hashtags': [], 'symbols': [], 'user_mentions': [], 'urls': [{'url': 'https://t.co/TuBahY7UO2', 'expanded_url': 'https://twitter.com/i/web/status/1186922309673721856', 'display_url': 'twitter.com/i/web/status/1…', 'indices': [117, 140]}]}, 'metadata': {'iso_language_code': 'en', 'result_type': 'recent'}, 'source': '<a href=\"http://twitter.com/download/iphone\" rel=\"nofollow\">Twitter for iPhone</a>', 'in_reply_to_status_id': None, 'in_reply_to_status_id_str': None, 'in_reply_to_user_id': None, 'in_reply_to_user_id_str': None, 'in_reply_to_screen_name': None, 'user': {'id': 20379267, 'id_str': '20379267', 'name': 'Izzy Knowles🔶🇬🇧🇪🇺', 'screen_name': 'gardensinboots', 'location': 'Moseley, Birmingham, UK', 'description': 'Passionate Brummie. Hands on #LibDem. PPC for Bham Hall Green. #Sparkbrook #Sparkhill #Moseley #KingsHeath #BalsallHeath #HallGreen #StopBrexit', 'url': 'https://t.co/Cg7KyT7r8L', 'entities': {'url': {'urls': [{'url': 'https://t.co/Cg7KyT7r8L', 'expanded_url': 'http://www.moseleylibdems.com', 'display_url': 'moseleylibdems.com', 'indices': [0, 23]}]}, 'description': {'urls': []}}, 'protected': False, 'followers_count': 2078, 'friends_count': 2972, 'listed_count': 36, 'created_at': 'Sun Feb 08 17:31:37 +0000 2009', 'favourites_count': 27088, 'utc_offset': None, 'time_zone': None, 'geo_enabled': True, 'verified': False, 'statuses_count': 22186, 'lang': None, 'contributors_enabled': False, 'is_translator': False, 'is_translation_enabled': True, 'profile_background_color': '000000', 'profile_background_image_url': 'http://abs.twimg.com/images/themes/theme18/bg.gif', 'profile_background_image_url_https': 'https://abs.twimg.com/images/themes/theme18/bg.gif', 'profile_background_tile': False, 'profile_image_url': 'http://pbs.twimg.com/profile_images/953245849773015040/2Pp1uyxP_normal.jpg', 'profile_image_url_https': 'https://pbs.twimg.com/profile_images/953245849773015040/2Pp1uyxP_normal.jpg', 'profile_banner_url': 'https://pbs.twimg.com/profile_banners/20379267/1567284961', 'profile_link_color': 'FAB81E', 'profile_sidebar_border_color': '000000', 'profile_sidebar_fill_color': '000000', 'profile_text_color': '000000', 'profile_use_background_image': False, 'has_extended_profile': False, 'default_profile': False, 'default_profile_image': False, 'following': False, 'follow_request_sent': False, 'notifications': False, 'translator_type': 'none'}, 'geo': None, 'coordinates': None, 'place': None, 'contributors': None, 'is_quote_status': True, 'quoted_status_id': 1186660508633575426, 'quoted_status_id_str': '1186660508633575426', 'quoted_status': {'created_at': 'Tue Oct 22 15:08:07 +0000 2019', 'id': 1186660508633575426, 'id_str': '1186660508633575426', 'text': 'Brexit blamed as emigration from Britain to EU hits 10-year high\\n\\nNumber of Brits moving to the continent has spike… https://t.co/uXZSCIfOlm', 'truncated': True, 'entities': {'hashtags': [], 'symbols': [], 'user_mentions': [], 'urls': [{'url': 'https://t.co/uXZSCIfOlm', 'expanded_url': 'https://twitter.com/i/web/status/1186660508633575426', 'display_url': 'twitter.com/i/web/status/1…', 'indices': [117, 140]}]}, 'metadata': {'iso_language_code': 'en', 'result_type': 'recent'}, 'source': '<a href=\"http://twitter.com\" rel=\"nofollow\">Twitter Web Client</a>', 'in_reply_to_status_id': None, 'in_reply_to_status_id_str': None, 'in_reply_to_user_id': None, 'in_reply_to_user_id_str': None, 'in_reply_to_screen_name': None, 'user': {'id': 2210251178, 'id_str': '2210251178', 'name': 'Random Bits 🔶 #FBPE #FinalSay', 'screen_name': 'Rand0mB1tsUK', 'location': 'UK', 'description': 'English, British, European - EU wife. Interested in Technology, Networking, Gadgets, opposed to Brexit, unimpressed with spineless MPs #FBPE', 'url': None, 'entities': {'description': {'urls': []}}, 'protected': False, 'followers_count': 3903, 'friends_count': 3856, 'listed_count': 42, 'created_at': 'Sat Nov 23 08:06:02 +0000 2013', 'favourites_count': 8094, 'utc_offset': None, 'time_zone': None, 'geo_enabled': False, 'verified': False, 'statuses_count': 68428, 'lang': None, 'contributors_enabled': False, 'is_translator': False, 'is_translation_enabled': False, 'profile_background_color': 'C0DEED', 'profile_background_image_url': 'http://abs.twimg.com/images/themes/theme1/bg.png', 'profile_background_image_url_https': 'https://abs.twimg.com/images/themes/theme1/bg.png', 'profile_background_tile': False, 'profile_image_url': 'http://pbs.twimg.com/profile_images/839932505386061824/jc2I3U6E_normal.jpg', 'profile_image_url_https': 'https://pbs.twimg.com/profile_images/839932505386061824/jc2I3U6E_normal.jpg', 'profile_banner_url': 'https://pbs.twimg.com/profile_banners/2210251178/1489940444', 'profile_link_color': '1DA1F2', 'profile_sidebar_border_color': 'C0DEED', 'profile_sidebar_fill_color': 'DDEEF6', 'profile_text_color': '333333', 'profile_use_background_image': True, 'has_extended_profile': False, 'default_profile': True, 'default_profile_image': False, 'following': False, 'follow_request_sent': False, 'notifications': False, 'translator_type': 'none'}, 'geo': None, 'coordinates': None, 'place': None, 'contributors': None, 'is_quote_status': False, 'retweet_count': 199, 'favorite_count': 281, 'favorited': False, 'retweeted': False, 'possibly_sensitive': False, 'lang': 'en'}, 'retweet_count': 5, 'favorite_count': 10, 'favorited': False, 'retweeted': False, 'possibly_sensitive': False, 'lang': 'en'}, 'is_quote_status': True, 'quoted_status_id': 1186660508633575426, 'quoted_status_id_str': '1186660508633575426', 'retweet_count': 5, 'favorite_count': 0, 'favorited': False, 'retweeted': False, 'lang': 'en'}, created_at=datetime.datetime(2019, 10, 23, 14, 24, 23), id=1187011891790565376, id_str='1187011891790565376', text='RT @gardensinboots: I know of so many, mainly young and talented, Brits who have moved to the EU to take advantage of free movement whilst…', truncated=False, entities={'hashtags': [], 'symbols': [], 'user_mentions': [{'screen_name': 'gardensinboots', 'name': 'Izzy Knowles🔶🇬🇧🇪🇺', 'id': 20379267, 'id_str': '20379267', 'indices': [3, 18]}], 'urls': []}, metadata={'iso_language_code': 'en', 'result_type': 'recent'}, source='Twitter for Android', source_url='http://twitter.com/download/android', in_reply_to_status_id=None, in_reply_to_status_id_str=None, in_reply_to_user_id=None, in_reply_to_user_id_str=None, in_reply_to_screen_name=None, author=User(_api=<tweepy.api.API object at 0x7f7b53a36510>, _json={'id': 3334614563, 'id_str': '3334614563', 'name': 'Chris Wheatley🔸️', 'screen_name': 'cmwheatley56', 'location': 'Brent, London', 'description': '', 'url': None, 'entities': {'description': {'urls': []}}, 'protected': False, 'followers_count': 2386, 'friends_count': 851, 'listed_count': 176, 'created_at': 'Fri Jun 19 11:48:27 +0000 2015', 'favourites_count': 231879, 'utc_offset': None, 'time_zone': None, 'geo_enabled': False, 'verified': False, 'statuses_count': 250453, 'lang': None, 'contributors_enabled': False, 'is_translator': False, 'is_translation_enabled': False, 'profile_background_color': 'C0DEED', 'profile_background_image_url': 'http://abs.twimg.com/images/themes/theme1/bg.png', 'profile_background_image_url_https': 'https://abs.twimg.com/images/themes/theme1/bg.png', 'profile_background_tile': False, 'profile_image_url': 'http://pbs.twimg.com/profile_images/1153918164834639872/mKSvW0C-_normal.jpg', 'profile_image_url_https': 'https://pbs.twimg.com/profile_images/1153918164834639872/mKSvW0C-_normal.jpg', 'profile_link_color': '1DA1F2', 'profile_sidebar_border_color': 'C0DEED', 'profile_sidebar_fill_color': 'DDEEF6', 'profile_text_color': '333333', 'profile_use_background_image': True, 'has_extended_profile': True, 'default_profile': True, 'default_profile_image': False, 'following': False, 'follow_request_sent': False, 'notifications': False, 'translator_type': 'none'}, id=3334614563, id_str='3334614563', name='Chris Wheatley🔸️', screen_name='cmwheatley56', location='Brent, London', description='', url=None, entities={'description': {'urls': []}}, protected=False, followers_count=2386, friends_count=851, listed_count=176, created_at=datetime.datetime(2015, 6, 19, 11, 48, 27), favourites_count=231879, utc_offset=None, time_zone=None, geo_enabled=False, verified=False, statuses_count=250453, lang=None, contributors_enabled=False, is_translator=False, is_translation_enabled=False, profile_background_color='C0DEED', profile_background_image_url='http://abs.twimg.com/images/themes/theme1/bg.png', profile_background_image_url_https='https://abs.twimg.com/images/themes/theme1/bg.png', profile_background_tile=False, profile_image_url='http://pbs.twimg.com/profile_images/1153918164834639872/mKSvW0C-_normal.jpg', profile_image_url_https='https://pbs.twimg.com/profile_images/1153918164834639872/mKSvW0C-_normal.jpg', profile_link_color='1DA1F2', profile_sidebar_border_color='C0DEED', profile_sidebar_fill_color='DDEEF6', profile_text_color='333333', profile_use_background_image=True, has_extended_profile=True, default_profile=True, default_profile_image=False, following=False, follow_request_sent=False, notifications=False, translator_type='none'), user=User(_api=<tweepy.api.API object at 0x7f7b53a36510>, _json={'id': 3334614563, 'id_str': '3334614563', 'name': 'Chris Wheatley🔸️', 'screen_name': 'cmwheatley56', 'location': 'Brent, London', 'description': '', 'url': None, 'entities': {'description': {'urls': []}}, 'protected': False, 'followers_count': 2386, 'friends_count': 851, 'listed_count': 176, 'created_at': 'Fri Jun 19 11:48:27 +0000 2015', 'favourites_count': 231879, 'utc_offset': None, 'time_zone': None, 'geo_enabled': False, 'verified': False, 'statuses_count': 250453, 'lang': None, 'contributors_enabled': False, 'is_translator': False, 'is_translation_enabled': False, 'profile_background_color': 'C0DEED', 'profile_background_image_url': 'http://abs.twimg.com/images/themes/theme1/bg.png', 'profile_background_image_url_https': 'https://abs.twimg.com/images/themes/theme1/bg.png', 'profile_background_tile': False, 'profile_image_url': 'http://pbs.twimg.com/profile_images/1153918164834639872/mKSvW0C-_normal.jpg', 'profile_image_url_https': 'https://pbs.twimg.com/profile_images/1153918164834639872/mKSvW0C-_normal.jpg', 'profile_link_color': '1DA1F2', 'profile_sidebar_border_color': 'C0DEED', 'profile_sidebar_fill_color': 'DDEEF6', 'profile_text_color': '333333', 'profile_use_background_image': True, 'has_extended_profile': True, 'default_profile': True, 'default_profile_image': False, 'following': False, 'follow_request_sent': False, 'notifications': False, 'translator_type': 'none'}, id=3334614563, id_str='3334614563', name='Chris Wheatley🔸️', screen_name='cmwheatley56', location='Brent, London', description='', url=None, entities={'description': {'urls': []}}, protected=False, followers_count=2386, friends_count=851, listed_count=176, created_at=datetime.datetime(2015, 6, 19, 11, 48, 27), favourites_count=231879, utc_offset=None, time_zone=None, geo_enabled=False, verified=False, statuses_count=250453, lang=None, contributors_enabled=False, is_translator=False, is_translation_enabled=False, profile_background_color='C0DEED', profile_background_image_url='http://abs.twimg.com/images/themes/theme1/bg.png', profile_background_image_url_https='https://abs.twimg.com/images/themes/theme1/bg.png', profile_background_tile=False, profile_image_url='http://pbs.twimg.com/profile_images/1153918164834639872/mKSvW0C-_normal.jpg', profile_image_url_https='https://pbs.twimg.com/profile_images/1153918164834639872/mKSvW0C-_normal.jpg', profile_link_color='1DA1F2', profile_sidebar_border_color='C0DEED', profile_sidebar_fill_color='DDEEF6', profile_text_color='333333', profile_use_background_image=True, has_extended_profile=True, default_profile=True, default_profile_image=False, following=False, follow_request_sent=False, notifications=False, translator_type='none'), geo=None, coordinates=None, place=None, contributors=None, retweeted_status=Status(_api=<tweepy.api.API object at 0x7f7b53a36510>, _json={'created_at': 'Wed Oct 23 08:28:25 +0000 2019', 'id': 1186922309673721856, 'id_str': '1186922309673721856', 'text': 'I know of so many, mainly young and talented, Brits who have moved to the EU to take advantage of free movement whi… https://t.co/TuBahY7UO2', 'truncated': True, 'entities': {'hashtags': [], 'symbols': [], 'user_mentions': [], 'urls': [{'url': 'https://t.co/TuBahY7UO2', 'expanded_url': 'https://twitter.com/i/web/status/1186922309673721856', 'display_url': 'twitter.com/i/web/status/1…', 'indices': [117, 140]}]}, 'metadata': {'iso_language_code': 'en', 'result_type': 'recent'}, 'source': '<a href=\"http://twitter.com/download/iphone\" rel=\"nofollow\">Twitter for iPhone</a>', 'in_reply_to_status_id': None, 'in_reply_to_status_id_str': None, 'in_reply_to_user_id': None, 'in_reply_to_user_id_str': None, 'in_reply_to_screen_name': None, 'user': {'id': 20379267, 'id_str': '20379267', 'name': 'Izzy Knowles🔶🇬🇧🇪🇺', 'screen_name': 'gardensinboots', 'location': 'Moseley, Birmingham, UK', 'description': 'Passionate Brummie. Hands on #LibDem. PPC for Bham Hall Green. #Sparkbrook #Sparkhill #Moseley #KingsHeath #BalsallHeath #HallGreen #StopBrexit', 'url': 'https://t.co/Cg7KyT7r8L', 'entities': {'url': {'urls': [{'url': 'https://t.co/Cg7KyT7r8L', 'expanded_url': 'http://www.moseleylibdems.com', 'display_url': 'moseleylibdems.com', 'indices': [0, 23]}]}, 'description': {'urls': []}}, 'protected': False, 'followers_count': 2078, 'friends_count': 2972, 'listed_count': 36, 'created_at': 'Sun Feb 08 17:31:37 +0000 2009', 'favourites_count': 27088, 'utc_offset': None, 'time_zone': None, 'geo_enabled': True, 'verified': False, 'statuses_count': 22186, 'lang': None, 'contributors_enabled': False, 'is_translator': False, 'is_translation_enabled': True, 'profile_background_color': '000000', 'profile_background_image_url': 'http://abs.twimg.com/images/themes/theme18/bg.gif', 'profile_background_image_url_https': 'https://abs.twimg.com/images/themes/theme18/bg.gif', 'profile_background_tile': False, 'profile_image_url': 'http://pbs.twimg.com/profile_images/953245849773015040/2Pp1uyxP_normal.jpg', 'profile_image_url_https': 'https://pbs.twimg.com/profile_images/953245849773015040/2Pp1uyxP_normal.jpg', 'profile_banner_url': 'https://pbs.twimg.com/profile_banners/20379267/1567284961', 'profile_link_color': 'FAB81E', 'profile_sidebar_border_color': '000000', 'profile_sidebar_fill_color': '000000', 'profile_text_color': '000000', 'profile_use_background_image': False, 'has_extended_profile': False, 'default_profile': False, 'default_profile_image': False, 'following': False, 'follow_request_sent': False, 'notifications': False, 'translator_type': 'none'}, 'geo': None, 'coordinates': None, 'place': None, 'contributors': None, 'is_quote_status': True, 'quoted_status_id': 1186660508633575426, 'quoted_status_id_str': '1186660508633575426', 'quoted_status': {'created_at': 'Tue Oct 22 15:08:07 +0000 2019', 'id': 1186660508633575426, 'id_str': '1186660508633575426', 'text': 'Brexit blamed as emigration from Britain to EU hits 10-year high\\n\\nNumber of Brits moving to the continent has spike… https://t.co/uXZSCIfOlm', 'truncated': True, 'entities': {'hashtags': [], 'symbols': [], 'user_mentions': [], 'urls': [{'url': 'https://t.co/uXZSCIfOlm', 'expanded_url': 'https://twitter.com/i/web/status/1186660508633575426', 'display_url': 'twitter.com/i/web/status/1…', 'indices': [117, 140]}]}, 'metadata': {'iso_language_code': 'en', 'result_type': 'recent'}, 'source': '<a href=\"http://twitter.com\" rel=\"nofollow\">Twitter Web Client</a>', 'in_reply_to_status_id': None, 'in_reply_to_status_id_str': None, 'in_reply_to_user_id': None, 'in_reply_to_user_id_str': None, 'in_reply_to_screen_name': None, 'user': {'id': 2210251178, 'id_str': '2210251178', 'name': 'Random Bits 🔶 #FBPE #FinalSay', 'screen_name': 'Rand0mB1tsUK', 'location': 'UK', 'description': 'English, British, European - EU wife. Interested in Technology, Networking, Gadgets, opposed to Brexit, unimpressed with spineless MPs #FBPE', 'url': None, 'entities': {'description': {'urls': []}}, 'protected': False, 'followers_count': 3903, 'friends_count': 3856, 'listed_count': 42, 'created_at': 'Sat Nov 23 08:06:02 +0000 2013', 'favourites_count': 8094, 'utc_offset': None, 'time_zone': None, 'geo_enabled': False, 'verified': False, 'statuses_count': 68428, 'lang': None, 'contributors_enabled': False, 'is_translator': False, 'is_translation_enabled': False, 'profile_background_color': 'C0DEED', 'profile_background_image_url': 'http://abs.twimg.com/images/themes/theme1/bg.png', 'profile_background_image_url_https': 'https://abs.twimg.com/images/themes/theme1/bg.png', 'profile_background_tile': False, 'profile_image_url': 'http://pbs.twimg.com/profile_images/839932505386061824/jc2I3U6E_normal.jpg', 'profile_image_url_https': 'https://pbs.twimg.com/profile_images/839932505386061824/jc2I3U6E_normal.jpg', 'profile_banner_url': 'https://pbs.twimg.com/profile_banners/2210251178/1489940444', 'profile_link_color': '1DA1F2', 'profile_sidebar_border_color': 'C0DEED', 'profile_sidebar_fill_color': 'DDEEF6', 'profile_text_color': '333333', 'profile_use_background_image': True, 'has_extended_profile': False, 'default_profile': True, 'default_profile_image': False, 'following': False, 'follow_request_sent': False, 'notifications': False, 'translator_type': 'none'}, 'geo': None, 'coordinates': None, 'place': None, 'contributors': None, 'is_quote_status': False, 'retweet_count': 199, 'favorite_count': 281, 'favorited': False, 'retweeted': False, 'possibly_sensitive': False, 'lang': 'en'}, 'retweet_count': 5, 'favorite_count': 10, 'favorited': False, 'retweeted': False, 'possibly_sensitive': False, 'lang': 'en'}, created_at=datetime.datetime(2019, 10, 23, 8, 28, 25), id=1186922309673721856, id_str='1186922309673721856', text='I know of so many, mainly young and talented, Brits who have moved to the EU to take advantage of free movement whi… https://t.co/TuBahY7UO2', truncated=True, entities={'hashtags': [], 'symbols': [], 'user_mentions': [], 'urls': [{'url': 'https://t.co/TuBahY7UO2', 'expanded_url': 'https://twitter.com/i/web/status/1186922309673721856', 'display_url': 'twitter.com/i/web/status/1…', 'indices': [117, 140]}]}, metadata={'iso_language_code': 'en', 'result_type': 'recent'}, source='Twitter for iPhone', source_url='http://twitter.com/download/iphone', in_reply_to_status_id=None, in_reply_to_status_id_str=None, in_reply_to_user_id=None, in_reply_to_user_id_str=None, in_reply_to_screen_name=None, author=User(_api=<tweepy.api.API object at 0x7f7b53a36510>, _json={'id': 20379267, 'id_str': '20379267', 'name': 'Izzy Knowles🔶🇬🇧🇪🇺', 'screen_name': 'gardensinboots', 'location': 'Moseley, Birmingham, UK', 'description': 'Passionate Brummie. Hands on #LibDem. PPC for Bham Hall Green. #Sparkbrook #Sparkhill #Moseley #KingsHeath #BalsallHeath #HallGreen #StopBrexit', 'url': 'https://t.co/Cg7KyT7r8L', 'entities': {'url': {'urls': [{'url': 'https://t.co/Cg7KyT7r8L', 'expanded_url': 'http://www.moseleylibdems.com', 'display_url': 'moseleylibdems.com', 'indices': [0, 23]}]}, 'description': {'urls': []}}, 'protected': False, 'followers_count': 2078, 'friends_count': 2972, 'listed_count': 36, 'created_at': 'Sun Feb 08 17:31:37 +0000 2009', 'favourites_count': 27088, 'utc_offset': None, 'time_zone': None, 'geo_enabled': True, 'verified': False, 'statuses_count': 22186, 'lang': None, 'contributors_enabled': False, 'is_translator': False, 'is_translation_enabled': True, 'profile_background_color': '000000', 'profile_background_image_url': 'http://abs.twimg.com/images/themes/theme18/bg.gif', 'profile_background_image_url_https': 'https://abs.twimg.com/images/themes/theme18/bg.gif', 'profile_background_tile': False, 'profile_image_url': 'http://pbs.twimg.com/profile_images/953245849773015040/2Pp1uyxP_normal.jpg', 'profile_image_url_https': 'https://pbs.twimg.com/profile_images/953245849773015040/2Pp1uyxP_normal.jpg', 'profile_banner_url': 'https://pbs.twimg.com/profile_banners/20379267/1567284961', 'profile_link_color': 'FAB81E', 'profile_sidebar_border_color': '000000', 'profile_sidebar_fill_color': '000000', 'profile_text_color': '000000', 'profile_use_background_image': False, 'has_extended_profile': False, 'default_profile': False, 'default_profile_image': False, 'following': False, 'follow_request_sent': False, 'notifications': False, 'translator_type': 'none'}, id=20379267, id_str='20379267', name='Izzy Knowles🔶🇬🇧🇪🇺', screen_name='gardensinboots', location='Moseley, Birmingham, UK', description='Passionate Brummie. Hands on #LibDem. PPC for Bham Hall Green. #Sparkbrook #Sparkhill #Moseley #KingsHeath #BalsallHeath #HallGreen #StopBrexit', url='https://t.co/Cg7KyT7r8L', entities={'url': {'urls': [{'url': 'https://t.co/Cg7KyT7r8L', 'expanded_url': 'http://www.moseleylibdems.com', 'display_url': 'moseleylibdems.com', 'indices': [0, 23]}]}, 'description': {'urls': []}}, protected=False, followers_count=2078, friends_count=2972, listed_count=36, created_at=datetime.datetime(2009, 2, 8, 17, 31, 37), favourites_count=27088, utc_offset=None, time_zone=None, geo_enabled=True, verified=False, statuses_count=22186, lang=None, contributors_enabled=False, is_translator=False, is_translation_enabled=True, profile_background_color='000000', profile_background_image_url='http://abs.twimg.com/images/themes/theme18/bg.gif', profile_background_image_url_https='https://abs.twimg.com/images/themes/theme18/bg.gif', profile_background_tile=False, profile_image_url='http://pbs.twimg.com/profile_images/953245849773015040/2Pp1uyxP_normal.jpg', profile_image_url_https='https://pbs.twimg.com/profile_images/953245849773015040/2Pp1uyxP_normal.jpg', profile_banner_url='https://pbs.twimg.com/profile_banners/20379267/1567284961', profile_link_color='FAB81E', profile_sidebar_border_color='000000', profile_sidebar_fill_color='000000', profile_text_color='000000', profile_use_background_image=False, has_extended_profile=False, default_profile=False, default_profile_image=False, following=False, follow_request_sent=False, notifications=False, translator_type='none'), user=User(_api=<tweepy.api.API object at 0x7f7b53a36510>, _json={'id': 20379267, 'id_str': '20379267', 'name': 'Izzy Knowles🔶🇬🇧🇪🇺', 'screen_name': 'gardensinboots', 'location': 'Moseley, Birmingham, UK', 'description': 'Passionate Brummie. Hands on #LibDem. PPC for Bham Hall Green. #Sparkbrook #Sparkhill #Moseley #KingsHeath #BalsallHeath #HallGreen #StopBrexit', 'url': 'https://t.co/Cg7KyT7r8L', 'entities': {'url': {'urls': [{'url': 'https://t.co/Cg7KyT7r8L', 'expanded_url': 'http://www.moseleylibdems.com', 'display_url': 'moseleylibdems.com', 'indices': [0, 23]}]}, 'description': {'urls': []}}, 'protected': False, 'followers_count': 2078, 'friends_count': 2972, 'listed_count': 36, 'created_at': 'Sun Feb 08 17:31:37 +0000 2009', 'favourites_count': 27088, 'utc_offset': None, 'time_zone': None, 'geo_enabled': True, 'verified': False, 'statuses_count': 22186, 'lang': None, 'contributors_enabled': False, 'is_translator': False, 'is_translation_enabled': True, 'profile_background_color': '000000', 'profile_background_image_url': 'http://abs.twimg.com/images/themes/theme18/bg.gif', 'profile_background_image_url_https': 'https://abs.twimg.com/images/themes/theme18/bg.gif', 'profile_background_tile': False, 'profile_image_url': 'http://pbs.twimg.com/profile_images/953245849773015040/2Pp1uyxP_normal.jpg', 'profile_image_url_https': 'https://pbs.twimg.com/profile_images/953245849773015040/2Pp1uyxP_normal.jpg', 'profile_banner_url': 'https://pbs.twimg.com/profile_banners/20379267/1567284961', 'profile_link_color': 'FAB81E', 'profile_sidebar_border_color': '000000', 'profile_sidebar_fill_color': '000000', 'profile_text_color': '000000', 'profile_use_background_image': False, 'has_extended_profile': False, 'default_profile': False, 'default_profile_image': False, 'following': False, 'follow_request_sent': False, 'notifications': False, 'translator_type': 'none'}, id=20379267, id_str='20379267', name='Izzy Knowles🔶🇬🇧🇪🇺', screen_name='gardensinboots', location='Moseley, Birmingham, UK', description='Passionate Brummie. Hands on #LibDem. PPC for Bham Hall Green. #Sparkbrook #Sparkhill #Moseley #KingsHeath #BalsallHeath #HallGreen #StopBrexit', url='https://t.co/Cg7KyT7r8L', entities={'url': {'urls': [{'url': 'https://t.co/Cg7KyT7r8L', 'expanded_url': 'http://www.moseleylibdems.com', 'display_url': 'moseleylibdems.com', 'indices': [0, 23]}]}, 'description': {'urls': []}}, protected=False, followers_count=2078, friends_count=2972, listed_count=36, created_at=datetime.datetime(2009, 2, 8, 17, 31, 37), favourites_count=27088, utc_offset=None, time_zone=None, geo_enabled=True, verified=False, statuses_count=22186, lang=None, contributors_enabled=False, is_translator=False, is_translation_enabled=True, profile_background_color='000000', profile_background_image_url='http://abs.twimg.com/images/themes/theme18/bg.gif', profile_background_image_url_https='https://abs.twimg.com/images/themes/theme18/bg.gif', profile_background_tile=False, profile_image_url='http://pbs.twimg.com/profile_images/953245849773015040/2Pp1uyxP_normal.jpg', profile_image_url_https='https://pbs.twimg.com/profile_images/953245849773015040/2Pp1uyxP_normal.jpg', profile_banner_url='https://pbs.twimg.com/profile_banners/20379267/1567284961', profile_link_color='FAB81E', profile_sidebar_border_color='000000', profile_sidebar_fill_color='000000', profile_text_color='000000', profile_use_background_image=False, has_extended_profile=False, default_profile=False, default_profile_image=False, following=False, follow_request_sent=False, notifications=False, translator_type='none'), geo=None, coordinates=None, place=None, contributors=None, is_quote_status=True, quoted_status_id=1186660508633575426, quoted_status_id_str='1186660508633575426', quoted_status=Status(_api=<tweepy.api.API object at 0x7f7b53a36510>, _json={'created_at': 'Tue Oct 22 15:08:07 +0000 2019', 'id': 1186660508633575426, 'id_str': '1186660508633575426', 'text': 'Brexit blamed as emigration from Britain to EU hits 10-year high\\n\\nNumber of Brits moving to the continent has spike… https://t.co/uXZSCIfOlm', 'truncated': True, 'entities': {'hashtags': [], 'symbols': [], 'user_mentions': [], 'urls': [{'url': 'https://t.co/uXZSCIfOlm', 'expanded_url': 'https://twitter.com/i/web/status/1186660508633575426', 'display_url': 'twitter.com/i/web/status/1…', 'indices': [117, 140]}]}, 'metadata': {'iso_language_code': 'en', 'result_type': 'recent'}, 'source': '<a href=\"http://twitter.com\" rel=\"nofollow\">Twitter Web Client</a>', 'in_reply_to_status_id': None, 'in_reply_to_status_id_str': None, 'in_reply_to_user_id': None, 'in_reply_to_user_id_str': None, 'in_reply_to_screen_name': None, 'user': {'id': 2210251178, 'id_str': '2210251178', 'name': 'Random Bits 🔶 #FBPE #FinalSay', 'screen_name': 'Rand0mB1tsUK', 'location': 'UK', 'description': 'English, British, European - EU wife. Interested in Technology, Networking, Gadgets, opposed to Brexit, unimpressed with spineless MPs #FBPE', 'url': None, 'entities': {'description': {'urls': []}}, 'protected': False, 'followers_count': 3903, 'friends_count': 3856, 'listed_count': 42, 'created_at': 'Sat Nov 23 08:06:02 +0000 2013', 'favourites_count': 8094, 'utc_offset': None, 'time_zone': None, 'geo_enabled': False, 'verified': False, 'statuses_count': 68428, 'lang': None, 'contributors_enabled': False, 'is_translator': False, 'is_translation_enabled': False, 'profile_background_color': 'C0DEED', 'profile_background_image_url': 'http://abs.twimg.com/images/themes/theme1/bg.png', 'profile_background_image_url_https': 'https://abs.twimg.com/images/themes/theme1/bg.png', 'profile_background_tile': False, 'profile_image_url': 'http://pbs.twimg.com/profile_images/839932505386061824/jc2I3U6E_normal.jpg', 'profile_image_url_https': 'https://pbs.twimg.com/profile_images/839932505386061824/jc2I3U6E_normal.jpg', 'profile_banner_url': 'https://pbs.twimg.com/profile_banners/2210251178/1489940444', 'profile_link_color': '1DA1F2', 'profile_sidebar_border_color': 'C0DEED', 'profile_sidebar_fill_color': 'DDEEF6', 'profile_text_color': '333333', 'profile_use_background_image': True, 'has_extended_profile': False, 'default_profile': True, 'default_profile_image': False, 'following': False, 'follow_request_sent': False, 'notifications': False, 'translator_type': 'none'}, 'geo': None, 'coordinates': None, 'place': None, 'contributors': None, 'is_quote_status': False, 'retweet_count': 199, 'favorite_count': 281, 'favorited': False, 'retweeted': False, 'possibly_sensitive': False, 'lang': 'en'}, created_at=datetime.datetime(2019, 10, 22, 15, 8, 7), id=1186660508633575426, id_str='1186660508633575426', text='Brexit blamed as emigration from Britain to EU hits 10-year high\\n\\nNumber of Brits moving to the continent has spike… https://t.co/uXZSCIfOlm', truncated=True, entities={'hashtags': [], 'symbols': [], 'user_mentions': [], 'urls': [{'url': 'https://t.co/uXZSCIfOlm', 'expanded_url': 'https://twitter.com/i/web/status/1186660508633575426', 'display_url': 'twitter.com/i/web/status/1…', 'indices': [117, 140]}]}, metadata={'iso_language_code': 'en', 'result_type': 'recent'}, source='Twitter Web Client', source_url='http://twitter.com', in_reply_to_status_id=None, in_reply_to_status_id_str=None, in_reply_to_user_id=None, in_reply_to_user_id_str=None, in_reply_to_screen_name=None, author=User(_api=<tweepy.api.API object at 0x7f7b53a36510>, _json={'id': 2210251178, 'id_str': '2210251178', 'name': 'Random Bits 🔶 #FBPE #FinalSay', 'screen_name': 'Rand0mB1tsUK', 'location': 'UK', 'description': 'English, British, European - EU wife. Interested in Technology, Networking, Gadgets, opposed to Brexit, unimpressed with spineless MPs #FBPE', 'url': None, 'entities': {'description': {'urls': []}}, 'protected': False, 'followers_count': 3903, 'friends_count': 3856, 'listed_count': 42, 'created_at': 'Sat Nov 23 08:06:02 +0000 2013', 'favourites_count': 8094, 'utc_offset': None, 'time_zone': None, 'geo_enabled': False, 'verified': False, 'statuses_count': 68428, 'lang': None, 'contributors_enabled': False, 'is_translator': False, 'is_translation_enabled': False, 'profile_background_color': 'C0DEED', 'profile_background_image_url': 'http://abs.twimg.com/images/themes/theme1/bg.png', 'profile_background_image_url_https': 'https://abs.twimg.com/images/themes/theme1/bg.png', 'profile_background_tile': False, 'profile_image_url': 'http://pbs.twimg.com/profile_images/839932505386061824/jc2I3U6E_normal.jpg', 'profile_image_url_https': 'https://pbs.twimg.com/profile_images/839932505386061824/jc2I3U6E_normal.jpg', 'profile_banner_url': 'https://pbs.twimg.com/profile_banners/2210251178/1489940444', 'profile_link_color': '1DA1F2', 'profile_sidebar_border_color': 'C0DEED', 'profile_sidebar_fill_color': 'DDEEF6', 'profile_text_color': '333333', 'profile_use_background_image': True, 'has_extended_profile': False, 'default_profile': True, 'default_profile_image': False, 'following': False, 'follow_request_sent': False, 'notifications': False, 'translator_type': 'none'}, id=2210251178, id_str='2210251178', name='Random Bits 🔶 #FBPE #FinalSay', screen_name='Rand0mB1tsUK', location='UK', description='English, British, European - EU wife. Interested in Technology, Networking, Gadgets, opposed to Brexit, unimpressed with spineless MPs #FBPE', url=None, entities={'description': {'urls': []}}, protected=False, followers_count=3903, friends_count=3856, listed_count=42, created_at=datetime.datetime(2013, 11, 23, 8, 6, 2), favourites_count=8094, utc_offset=None, time_zone=None, geo_enabled=False, verified=False, statuses_count=68428, lang=None, contributors_enabled=False, is_translator=False, is_translation_enabled=False, profile_background_color='C0DEED', profile_background_image_url='http://abs.twimg.com/images/themes/theme1/bg.png', profile_background_image_url_https='https://abs.twimg.com/images/themes/theme1/bg.png', profile_background_tile=False, profile_image_url='http://pbs.twimg.com/profile_images/839932505386061824/jc2I3U6E_normal.jpg', profile_image_url_https='https://pbs.twimg.com/profile_images/839932505386061824/jc2I3U6E_normal.jpg', profile_banner_url='https://pbs.twimg.com/profile_banners/2210251178/1489940444', profile_link_color='1DA1F2', profile_sidebar_border_color='C0DEED', profile_sidebar_fill_color='DDEEF6', profile_text_color='333333', profile_use_background_image=True, has_extended_profile=False, default_profile=True, default_profile_image=False, following=False, follow_request_sent=False, notifications=False, translator_type='none'), user=User(_api=<tweepy.api.API object at 0x7f7b53a36510>, _json={'id': 2210251178, 'id_str': '2210251178', 'name': 'Random Bits 🔶 #FBPE #FinalSay', 'screen_name': 'Rand0mB1tsUK', 'location': 'UK', 'description': 'English, British, European - EU wife. Interested in Technology, Networking, Gadgets, opposed to Brexit, unimpressed with spineless MPs #FBPE', 'url': None, 'entities': {'description': {'urls': []}}, 'protected': False, 'followers_count': 3903, 'friends_count': 3856, 'listed_count': 42, 'created_at': 'Sat Nov 23 08:06:02 +0000 2013', 'favourites_count': 8094, 'utc_offset': None, 'time_zone': None, 'geo_enabled': False, 'verified': False, 'statuses_count': 68428, 'lang': None, 'contributors_enabled': False, 'is_translator': False, 'is_translation_enabled': False, 'profile_background_color': 'C0DEED', 'profile_background_image_url': 'http://abs.twimg.com/images/themes/theme1/bg.png', 'profile_background_image_url_https': 'https://abs.twimg.com/images/themes/theme1/bg.png', 'profile_background_tile': False, 'profile_image_url': 'http://pbs.twimg.com/profile_images/839932505386061824/jc2I3U6E_normal.jpg', 'profile_image_url_https': 'https://pbs.twimg.com/profile_images/839932505386061824/jc2I3U6E_normal.jpg', 'profile_banner_url': 'https://pbs.twimg.com/profile_banners/2210251178/1489940444', 'profile_link_color': '1DA1F2', 'profile_sidebar_border_color': 'C0DEED', 'profile_sidebar_fill_color': 'DDEEF6', 'profile_text_color': '333333', 'profile_use_background_image': True, 'has_extended_profile': False, 'default_profile': True, 'default_profile_image': False, 'following': False, 'follow_request_sent': False, 'notifications': False, 'translator_type': 'none'}, id=2210251178, id_str='2210251178', name='Random Bits 🔶 #FBPE #FinalSay', screen_name='Rand0mB1tsUK', location='UK', description='English, British, European - EU wife. Interested in Technology, Networking, Gadgets, opposed to Brexit, unimpressed with spineless MPs #FBPE', url=None, entities={'description': {'urls': []}}, protected=False, followers_count=3903, friends_count=3856, listed_count=42, created_at=datetime.datetime(2013, 11, 23, 8, 6, 2), favourites_count=8094, utc_offset=None, time_zone=None, geo_enabled=False, verified=False, statuses_count=68428, lang=None, contributors_enabled=False, is_translator=False, is_translation_enabled=False, profile_background_color='C0DEED', profile_background_image_url='http://abs.twimg.com/images/themes/theme1/bg.png', profile_background_image_url_https='https://abs.twimg.com/images/themes/theme1/bg.png', profile_background_tile=False, profile_image_url='http://pbs.twimg.com/profile_images/839932505386061824/jc2I3U6E_normal.jpg', profile_image_url_https='https://pbs.twimg.com/profile_images/839932505386061824/jc2I3U6E_normal.jpg', profile_banner_url='https://pbs.twimg.com/profile_banners/2210251178/1489940444', profile_link_color='1DA1F2', profile_sidebar_border_color='C0DEED', profile_sidebar_fill_color='DDEEF6', profile_text_color='333333', profile_use_background_image=True, has_extended_profile=False, default_profile=True, default_profile_image=False, following=False, follow_request_sent=False, notifications=False, translator_type='none'), geo=None, coordinates=None, place=None, contributors=None, is_quote_status=False, retweet_count=199, favorite_count=281, favorited=False, retweeted=False, possibly_sensitive=False, lang='en'), retweet_count=5, favorite_count=10, favorited=False, retweeted=False, possibly_sensitive=False, lang='en'), is_quote_status=True, quoted_status_id=1186660508633575426, quoted_status_id_str='1186660508633575426', retweet_count=5, favorite_count=0, favorited=False, retweeted=False, lang='en')\n"
     ]
    }
   ],
   "source": [
    "tweets = api.search('#brexit', count = 2, lang = 'en')\n",
    "for tweet in tweets:\n",
    "    print(tweet)"
   ]
  },
  {
   "cell_type": "code",
   "execution_count": 41,
   "metadata": {},
   "outputs": [
    {
     "name": "stdout",
     "output_type": "stream",
     "text": [
      "2019-10-23 14:36:10 RT @petermacmahon: Thread: Asked by @IanBlackfordMP about Scottish parliament + Welsh Assembly having to give legislative consent to #Brexi…\n"
     ]
    }
   ],
   "source": [
    "for tweet in tw.Cursor(api.search, q=\"#brexit\", since = str(datetime.date.today()), lang = 'en').items(1):\n",
    "    print (tweet.created_at, tweet.text)"
   ]
  },
  {
   "cell_type": "code",
   "execution_count": 7,
   "metadata": {},
   "outputs": [
    {
     "name": "stdout",
     "output_type": "stream",
     "text": [
      "Hoping it's a successful week for everyone at #INFORMS in Seattle! Wiley is pleased to be in the city - say hello to the team at booth #56 👋\n",
      "Mark Zuckerberg is wrong: young people aren't smarter.  https://t.co/jf421CtjUp\n",
      "📚📖Właśnie się rozpoczął! Tydzień ze znakomitą literaturą!  Do 27.10 Kraków będzie gościł najwybitniejszych! Prawdzi… https://t.co/i7vPjbeEyX\n",
      "Could you be the next graduate Mango?  {https://t.co/yLxbgLoG71} #rstats #DataScience\n",
      "RT @Pierre_Markuse: Metis Shoal Volcano🌋 still active #Tonga🇹🇴 20 October 2019 Enh. nat. col. with IR overlay #Copernicus #Sentinel-2🛰️ Ful…\n",
      "These apps can turn your smart speaker into a spying device. https://t.co/HfCkmHUVOc\n",
      "Can't. Stop. Watching! \n",
      "\n",
      "H/T @rcbbsstark 🎥\n",
      "\n",
      "https://t.co/j1aEoYeg90\n",
      "HAPPENING NOW: A news conference live from @Space_Station about our historic #AllWomanSpacewalk. 👩‍🚀 👩‍🚀 Tune in to… https://t.co/4HcYkrTO0s\n",
      "Whereas conventional crystals are orderly states of matter whose patterns repeat at regular intervals in space, tim… https://t.co/iPwghRrWw4\n",
      "\"When I was starting as a student in a different experiment, I was at a collaboration meeting. I was going to every… https://t.co/KeZp0pTWPI\n",
      "The second mysterious interstellar object found zipping through the solar system, 2I/Borisov, looks like a run-of-t… https://t.co/WWBcYMH9Yw\n",
      "AMSTAT NEWS | In preparation for #ICHPS2020, we’re running a series of interviews with previous #healthpolicy award… https://t.co/8L0TUrktm1\n",
      "It turns out the Russian intelligence hackers known as Cozy Bear never went away at all. \n",
      "\n",
      "And the details of their… https://t.co/F2E7oPxaYD\n",
      "#Hungary's 🇭🇺 capital city, #Budapest, is one of the #EU's largest cities. \n",
      "\n",
      "The Danube river, #Europe's second lon… https://t.co/MNfkBV12hf\n",
      "RT @erum2020_conf: Our program committee is working very hard on bringing  the most brilliant speakers to #erum2020, and you can help! Whic…\n",
      "What do @Astro_Jessica and @Astro_Christina have to say about their historic #AllWomanSpacewalk? Find out this afte… https://t.co/Foym9utM3b\n",
      "🎥 What does one year in space look like for #BepiColombo? One of the #selfie cams on our @ESA_MTM collected these 2… https://t.co/RG765ciN6H\n",
      "@antonioregalado @Harvard @liugroup @nature In fact, @liugroup claims \"prime editing\" is capable of repairing any o… https://t.co/dAPUdgQfai\n",
      "@antonioregalado The new CRISPR technology uses an engineered protein that, according to a report by @Harvard biolo… https://t.co/OO1pRpyvsf\n",
      "RT @suduhegde01: Yes✌️...Yes ✌️ This feels great 🔥. Graduated from @udacity  😎 A pretty intense yet rewarding journey of learning. Inspired…\n"
     ]
    }
   ],
   "source": [
    "public_tweets = api.home_timeline()\n",
    "for tweet in public_tweets:\n",
    "    print(tweet.text)"
   ]
  },
  {
   "cell_type": "code",
   "execution_count": 8,
   "metadata": {},
   "outputs": [
    {
     "data": {
      "text/plain": [
       "Status(_api=<tweepy.api.API object at 0x7f03cdafa4d0>, _json={'created_at': 'Mon Oct 21 16:15:30 +0000 2019', 'id': 1186315082495602700, 'id_str': '1186315082495602700', 'text': \"Hoping it's a successful week for everyone at #INFORMS in Seattle! Wiley is pleased to be in the city - say hello to the team at booth #56 👋\", 'truncated': False, 'entities': {'hashtags': [{'text': 'INFORMS', 'indices': [46, 54]}], 'symbols': [], 'user_mentions': [], 'urls': []}, 'source': '<a href=\"https://www.hootsuite.com\" rel=\"nofollow\">Hootsuite Inc.</a>', 'in_reply_to_status_id': None, 'in_reply_to_status_id_str': None, 'in_reply_to_user_id': None, 'in_reply_to_user_id_str': None, 'in_reply_to_screen_name': None, 'user': {'id': 26804376, 'id_str': '26804376', 'name': 'Wiley Statistics and Math', 'screen_name': 'Wiley_Stats', 'location': '', 'description': 'We publish statistics and math research and books. We’ll help you build your career, get published and connect you with the latest articles.', 'url': 'https://t.co/0Src3prFrg', 'entities': {'url': {'urls': [{'url': 'https://t.co/0Src3prFrg', 'expanded_url': 'http://www.wiley.com', 'display_url': 'wiley.com', 'indices': [0, 23]}]}, 'description': {'urls': []}}, 'protected': False, 'followers_count': 4579, 'friends_count': 715, 'listed_count': 178, 'created_at': 'Thu Mar 26 17:53:37 +0000 2009', 'favourites_count': 77, 'utc_offset': None, 'time_zone': None, 'geo_enabled': False, 'verified': False, 'statuses_count': 5528, 'lang': None, 'contributors_enabled': False, 'is_translator': False, 'is_translation_enabled': False, 'profile_background_color': '17B0E8', 'profile_background_image_url': 'http://abs.twimg.com/images/themes/theme10/bg.gif', 'profile_background_image_url_https': 'https://abs.twimg.com/images/themes/theme10/bg.gif', 'profile_background_tile': True, 'profile_image_url': 'http://pbs.twimg.com/profile_images/1082656175521452037/4SKqUM0h_normal.jpg', 'profile_image_url_https': 'https://pbs.twimg.com/profile_images/1082656175521452037/4SKqUM0h_normal.jpg', 'profile_banner_url': 'https://pbs.twimg.com/profile_banners/26804376/1546960338', 'profile_link_color': '981CEB', 'profile_sidebar_border_color': 'FFFFFF', 'profile_sidebar_fill_color': '7AC3EE', 'profile_text_color': '3D1957', 'profile_use_background_image': False, 'has_extended_profile': False, 'default_profile': False, 'default_profile_image': False, 'following': True, 'follow_request_sent': False, 'notifications': False, 'translator_type': 'none'}, 'geo': None, 'coordinates': None, 'place': None, 'contributors': None, 'is_quote_status': False, 'retweet_count': 0, 'favorite_count': 0, 'favorited': False, 'retweeted': False, 'lang': 'en'}, created_at=datetime.datetime(2019, 10, 21, 16, 15, 30), id=1186315082495602700, id_str='1186315082495602700', text=\"Hoping it's a successful week for everyone at #INFORMS in Seattle! Wiley is pleased to be in the city - say hello to the team at booth #56 👋\", truncated=False, entities={'hashtags': [{'text': 'INFORMS', 'indices': [46, 54]}], 'symbols': [], 'user_mentions': [], 'urls': []}, source='Hootsuite Inc.', source_url='https://www.hootsuite.com', in_reply_to_status_id=None, in_reply_to_status_id_str=None, in_reply_to_user_id=None, in_reply_to_user_id_str=None, in_reply_to_screen_name=None, author=User(_api=<tweepy.api.API object at 0x7f03cdafa4d0>, _json={'id': 26804376, 'id_str': '26804376', 'name': 'Wiley Statistics and Math', 'screen_name': 'Wiley_Stats', 'location': '', 'description': 'We publish statistics and math research and books. We’ll help you build your career, get published and connect you with the latest articles.', 'url': 'https://t.co/0Src3prFrg', 'entities': {'url': {'urls': [{'url': 'https://t.co/0Src3prFrg', 'expanded_url': 'http://www.wiley.com', 'display_url': 'wiley.com', 'indices': [0, 23]}]}, 'description': {'urls': []}}, 'protected': False, 'followers_count': 4579, 'friends_count': 715, 'listed_count': 178, 'created_at': 'Thu Mar 26 17:53:37 +0000 2009', 'favourites_count': 77, 'utc_offset': None, 'time_zone': None, 'geo_enabled': False, 'verified': False, 'statuses_count': 5528, 'lang': None, 'contributors_enabled': False, 'is_translator': False, 'is_translation_enabled': False, 'profile_background_color': '17B0E8', 'profile_background_image_url': 'http://abs.twimg.com/images/themes/theme10/bg.gif', 'profile_background_image_url_https': 'https://abs.twimg.com/images/themes/theme10/bg.gif', 'profile_background_tile': True, 'profile_image_url': 'http://pbs.twimg.com/profile_images/1082656175521452037/4SKqUM0h_normal.jpg', 'profile_image_url_https': 'https://pbs.twimg.com/profile_images/1082656175521452037/4SKqUM0h_normal.jpg', 'profile_banner_url': 'https://pbs.twimg.com/profile_banners/26804376/1546960338', 'profile_link_color': '981CEB', 'profile_sidebar_border_color': 'FFFFFF', 'profile_sidebar_fill_color': '7AC3EE', 'profile_text_color': '3D1957', 'profile_use_background_image': False, 'has_extended_profile': False, 'default_profile': False, 'default_profile_image': False, 'following': True, 'follow_request_sent': False, 'notifications': False, 'translator_type': 'none'}, id=26804376, id_str='26804376', name='Wiley Statistics and Math', screen_name='Wiley_Stats', location='', description='We publish statistics and math research and books. We’ll help you build your career, get published and connect you with the latest articles.', url='https://t.co/0Src3prFrg', entities={'url': {'urls': [{'url': 'https://t.co/0Src3prFrg', 'expanded_url': 'http://www.wiley.com', 'display_url': 'wiley.com', 'indices': [0, 23]}]}, 'description': {'urls': []}}, protected=False, followers_count=4579, friends_count=715, listed_count=178, created_at=datetime.datetime(2009, 3, 26, 17, 53, 37), favourites_count=77, utc_offset=None, time_zone=None, geo_enabled=False, verified=False, statuses_count=5528, lang=None, contributors_enabled=False, is_translator=False, is_translation_enabled=False, profile_background_color='17B0E8', profile_background_image_url='http://abs.twimg.com/images/themes/theme10/bg.gif', profile_background_image_url_https='https://abs.twimg.com/images/themes/theme10/bg.gif', profile_background_tile=True, profile_image_url='http://pbs.twimg.com/profile_images/1082656175521452037/4SKqUM0h_normal.jpg', profile_image_url_https='https://pbs.twimg.com/profile_images/1082656175521452037/4SKqUM0h_normal.jpg', profile_banner_url='https://pbs.twimg.com/profile_banners/26804376/1546960338', profile_link_color='981CEB', profile_sidebar_border_color='FFFFFF', profile_sidebar_fill_color='7AC3EE', profile_text_color='3D1957', profile_use_background_image=False, has_extended_profile=False, default_profile=False, default_profile_image=False, following=True, follow_request_sent=False, notifications=False, translator_type='none'), user=User(_api=<tweepy.api.API object at 0x7f03cdafa4d0>, _json={'id': 26804376, 'id_str': '26804376', 'name': 'Wiley Statistics and Math', 'screen_name': 'Wiley_Stats', 'location': '', 'description': 'We publish statistics and math research and books. We’ll help you build your career, get published and connect you with the latest articles.', 'url': 'https://t.co/0Src3prFrg', 'entities': {'url': {'urls': [{'url': 'https://t.co/0Src3prFrg', 'expanded_url': 'http://www.wiley.com', 'display_url': 'wiley.com', 'indices': [0, 23]}]}, 'description': {'urls': []}}, 'protected': False, 'followers_count': 4579, 'friends_count': 715, 'listed_count': 178, 'created_at': 'Thu Mar 26 17:53:37 +0000 2009', 'favourites_count': 77, 'utc_offset': None, 'time_zone': None, 'geo_enabled': False, 'verified': False, 'statuses_count': 5528, 'lang': None, 'contributors_enabled': False, 'is_translator': False, 'is_translation_enabled': False, 'profile_background_color': '17B0E8', 'profile_background_image_url': 'http://abs.twimg.com/images/themes/theme10/bg.gif', 'profile_background_image_url_https': 'https://abs.twimg.com/images/themes/theme10/bg.gif', 'profile_background_tile': True, 'profile_image_url': 'http://pbs.twimg.com/profile_images/1082656175521452037/4SKqUM0h_normal.jpg', 'profile_image_url_https': 'https://pbs.twimg.com/profile_images/1082656175521452037/4SKqUM0h_normal.jpg', 'profile_banner_url': 'https://pbs.twimg.com/profile_banners/26804376/1546960338', 'profile_link_color': '981CEB', 'profile_sidebar_border_color': 'FFFFFF', 'profile_sidebar_fill_color': '7AC3EE', 'profile_text_color': '3D1957', 'profile_use_background_image': False, 'has_extended_profile': False, 'default_profile': False, 'default_profile_image': False, 'following': True, 'follow_request_sent': False, 'notifications': False, 'translator_type': 'none'}, id=26804376, id_str='26804376', name='Wiley Statistics and Math', screen_name='Wiley_Stats', location='', description='We publish statistics and math research and books. We’ll help you build your career, get published and connect you with the latest articles.', url='https://t.co/0Src3prFrg', entities={'url': {'urls': [{'url': 'https://t.co/0Src3prFrg', 'expanded_url': 'http://www.wiley.com', 'display_url': 'wiley.com', 'indices': [0, 23]}]}, 'description': {'urls': []}}, protected=False, followers_count=4579, friends_count=715, listed_count=178, created_at=datetime.datetime(2009, 3, 26, 17, 53, 37), favourites_count=77, utc_offset=None, time_zone=None, geo_enabled=False, verified=False, statuses_count=5528, lang=None, contributors_enabled=False, is_translator=False, is_translation_enabled=False, profile_background_color='17B0E8', profile_background_image_url='http://abs.twimg.com/images/themes/theme10/bg.gif', profile_background_image_url_https='https://abs.twimg.com/images/themes/theme10/bg.gif', profile_background_tile=True, profile_image_url='http://pbs.twimg.com/profile_images/1082656175521452037/4SKqUM0h_normal.jpg', profile_image_url_https='https://pbs.twimg.com/profile_images/1082656175521452037/4SKqUM0h_normal.jpg', profile_banner_url='https://pbs.twimg.com/profile_banners/26804376/1546960338', profile_link_color='981CEB', profile_sidebar_border_color='FFFFFF', profile_sidebar_fill_color='7AC3EE', profile_text_color='3D1957', profile_use_background_image=False, has_extended_profile=False, default_profile=False, default_profile_image=False, following=True, follow_request_sent=False, notifications=False, translator_type='none'), geo=None, coordinates=None, place=None, contributors=None, is_quote_status=False, retweet_count=0, favorite_count=0, favorited=False, retweeted=False, lang='en')"
      ]
     },
     "execution_count": 8,
     "metadata": {},
     "output_type": "execute_result"
    }
   ],
   "source": [
    "public_tweets[0]"
   ]
  },
  {
   "cell_type": "code",
   "execution_count": 10,
   "metadata": {},
   "outputs": [],
   "source": [
    "status = public_tweets[0]"
   ]
  },
  {
   "cell_type": "code",
   "execution_count": 15,
   "metadata": {},
   "outputs": [],
   "source": [
    "json_str = json.dumps(status._json)"
   ]
  },
  {
   "cell_type": "code",
   "execution_count": 17,
   "metadata": {},
   "outputs": [],
   "source": [
    "parsed = json.loads(json_str)"
   ]
  },
  {
   "cell_type": "code",
   "execution_count": 37,
   "metadata": {},
   "outputs": [
    {
     "ename": "NameError",
     "evalue": "name 'parsed' is not defined",
     "output_type": "error",
     "traceback": [
      "\u001b[0;31m---------------------------------------------------------------------------\u001b[0m",
      "\u001b[0;31mNameError\u001b[0m                                 Traceback (most recent call last)",
      "\u001b[0;32m<ipython-input-37-f011bb1c2b48>\u001b[0m in \u001b[0;36m<module>\u001b[0;34m\u001b[0m\n\u001b[0;32m----> 1\u001b[0;31m \u001b[0mparsed\u001b[0m\u001b[0;34m\u001b[0m\u001b[0;34m\u001b[0m\u001b[0m\n\u001b[0m",
      "\u001b[0;31mNameError\u001b[0m: name 'parsed' is not defined"
     ]
    }
   ],
   "source": [
    "parsed"
   ]
  },
  {
   "cell_type": "code",
   "execution_count": 19,
   "metadata": {},
   "outputs": [
    {
     "name": "stdout",
     "output_type": "stream",
     "text": [
      "{\n",
      "    \"contributors\": null,\n",
      "    \"coordinates\": null,\n",
      "    \"created_at\": \"Mon Oct 21 16:15:30 +0000 2019\",\n",
      "    \"entities\": {\n",
      "        \"hashtags\": [\n",
      "            {\n",
      "                \"indices\": [\n",
      "                    46,\n",
      "                    54\n",
      "                ],\n",
      "                \"text\": \"INFORMS\"\n",
      "            }\n",
      "        ],\n",
      "        \"symbols\": [],\n",
      "        \"urls\": [],\n",
      "        \"user_mentions\": []\n",
      "    },\n",
      "    \"favorite_count\": 0,\n",
      "    \"favorited\": false,\n",
      "    \"geo\": null,\n",
      "    \"id\": 1186315082495602700,\n",
      "    \"id_str\": \"1186315082495602700\",\n",
      "    \"in_reply_to_screen_name\": null,\n",
      "    \"in_reply_to_status_id\": null,\n",
      "    \"in_reply_to_status_id_str\": null,\n",
      "    \"in_reply_to_user_id\": null,\n",
      "    \"in_reply_to_user_id_str\": null,\n",
      "    \"is_quote_status\": false,\n",
      "    \"lang\": \"en\",\n",
      "    \"place\": null,\n",
      "    \"retweet_count\": 0,\n",
      "    \"retweeted\": false,\n",
      "    \"source\": \"<a href=\\\"https://www.hootsuite.com\\\" rel=\\\"nofollow\\\">Hootsuite Inc.</a>\",\n",
      "    \"text\": \"Hoping it's a successful week for everyone at #INFORMS in Seattle! Wiley is pleased to be in the city - say hello to the team at booth #56 \\ud83d\\udc4b\",\n",
      "    \"truncated\": false,\n",
      "    \"user\": {\n",
      "        \"contributors_enabled\": false,\n",
      "        \"created_at\": \"Thu Mar 26 17:53:37 +0000 2009\",\n",
      "        \"default_profile\": false,\n",
      "        \"default_profile_image\": false,\n",
      "        \"description\": \"We publish statistics and math research and books. We\\u2019ll help you build your career, get published and connect you with the latest articles.\",\n",
      "        \"entities\": {\n",
      "            \"description\": {\n",
      "                \"urls\": []\n",
      "            },\n",
      "            \"url\": {\n",
      "                \"urls\": [\n",
      "                    {\n",
      "                        \"display_url\": \"wiley.com\",\n",
      "                        \"expanded_url\": \"http://www.wiley.com\",\n",
      "                        \"indices\": [\n",
      "                            0,\n",
      "                            23\n",
      "                        ],\n",
      "                        \"url\": \"https://t.co/0Src3prFrg\"\n",
      "                    }\n",
      "                ]\n",
      "            }\n",
      "        },\n",
      "        \"favourites_count\": 77,\n",
      "        \"follow_request_sent\": false,\n",
      "        \"followers_count\": 4579,\n",
      "        \"following\": true,\n",
      "        \"friends_count\": 715,\n",
      "        \"geo_enabled\": false,\n",
      "        \"has_extended_profile\": false,\n",
      "        \"id\": 26804376,\n",
      "        \"id_str\": \"26804376\",\n",
      "        \"is_translation_enabled\": false,\n",
      "        \"is_translator\": false,\n",
      "        \"lang\": null,\n",
      "        \"listed_count\": 178,\n",
      "        \"location\": \"\",\n",
      "        \"name\": \"Wiley Statistics and Math\",\n",
      "        \"notifications\": false,\n",
      "        \"profile_background_color\": \"17B0E8\",\n",
      "        \"profile_background_image_url\": \"http://abs.twimg.com/images/themes/theme10/bg.gif\",\n",
      "        \"profile_background_image_url_https\": \"https://abs.twimg.com/images/themes/theme10/bg.gif\",\n",
      "        \"profile_background_tile\": true,\n",
      "        \"profile_banner_url\": \"https://pbs.twimg.com/profile_banners/26804376/1546960338\",\n",
      "        \"profile_image_url\": \"http://pbs.twimg.com/profile_images/1082656175521452037/4SKqUM0h_normal.jpg\",\n",
      "        \"profile_image_url_https\": \"https://pbs.twimg.com/profile_images/1082656175521452037/4SKqUM0h_normal.jpg\",\n",
      "        \"profile_link_color\": \"981CEB\",\n",
      "        \"profile_sidebar_border_color\": \"FFFFFF\",\n",
      "        \"profile_sidebar_fill_color\": \"7AC3EE\",\n",
      "        \"profile_text_color\": \"3D1957\",\n",
      "        \"profile_use_background_image\": false,\n",
      "        \"protected\": false,\n",
      "        \"screen_name\": \"Wiley_Stats\",\n",
      "        \"statuses_count\": 5528,\n",
      "        \"time_zone\": null,\n",
      "        \"translator_type\": \"none\",\n",
      "        \"url\": \"https://t.co/0Src3prFrg\",\n",
      "        \"utc_offset\": null,\n",
      "        \"verified\": false\n",
      "    }\n",
      "}\n"
     ]
    }
   ],
   "source": [
    "print(json.dumps(parsed, indent=4, sort_keys=True))"
   ]
  },
  {
   "cell_type": "code",
   "execution_count": 21,
   "metadata": {},
   "outputs": [
    {
     "data": {
      "text/plain": [
       "\"Hoping it's a successful week for everyone at #INFORMS in Seattle! Wiley is pleased to be in the city - say hello to the team at booth #56 👋\""
      ]
     },
     "execution_count": 21,
     "metadata": {},
     "output_type": "execute_result"
    }
   ],
   "source": [
    "parsed['text']"
   ]
  },
  {
   "cell_type": "code",
   "execution_count": 22,
   "metadata": {},
   "outputs": [
    {
     "data": {
      "text/plain": [
       "\"Hoping it's a successful week for everyone at #INFORMS in Seattle! Wiley is pleased to be in the city - say hello to the team at booth #56 👋\""
      ]
     },
     "execution_count": 22,
     "metadata": {},
     "output_type": "execute_result"
    }
   ],
   "source": [
    "status.text"
   ]
  },
  {
   "cell_type": "code",
   "execution_count": 30,
   "metadata": {},
   "outputs": [],
   "source": [
    "class TweetMiner(object):\n",
    "\n",
    "    result_limit    =   20    \n",
    "    data            =   []\n",
    "    api             =   False\n",
    "    \n",
    "    twitter_keys = {\n",
    "        'consumer_key':        'g3OU7SzfpnE2AoPzWzC7My8O9',\n",
    "        'consumer_secret':     'kIOJAjk4Zun00BvCNCgK4NCSq2X5suMb88IJ12UcSzQUhVLiie',\n",
    "        'access_token_key':    '953693483012902912-fXIsILeot5yu6LLk7BBxUiEfi4DwrQD',\n",
    "        'access_token_secret': 'vNhUqPByb1SZQMIVuGwhJX8BaGAkROiEMVQ3N6JyYEB2l'\n",
    "    }\n",
    "    \n",
    "    \n",
    "    def __init__(self, keys_dict=twitter_keys, api=api, result_limit = 20):\n",
    "        \n",
    "        self.twitter_keys = keys_dict\n",
    "        \n",
    "        auth = tw.OAuthHandler(keys_dict['consumer_key'], keys_dict['consumer_secret'])\n",
    "        auth.set_access_token(keys_dict['access_token_key'], keys_dict['access_token_secret'])\n",
    "        \n",
    "        self.api = tw.API(auth)\n",
    "        self.twitter_keys = keys_dict\n",
    "        \n",
    "        self.result_limit = result_limit\n",
    "        \n",
    "\n",
    "    def mine_user_tweets(self, user=\"dril\", #BECAUSE WHO ELSE!\n",
    "                         mine_rewteets=False,\n",
    "                         max_pages=5):\n",
    "\n",
    "        data           =  []\n",
    "        last_tweet_id  =  False\n",
    "        page           =  1\n",
    "        \n",
    "        while page <= max_pages:\n",
    "            if last_tweet_id:\n",
    "                statuses   =   self.api.user_timeline(screen_name=user,\n",
    "                                                     count=self.result_limit,\n",
    "                                                     max_id=last_tweet_id - 1,\n",
    "                                                     tweet_mode = 'extended',\n",
    "                                                     include_retweets=True\n",
    "                                                    )        \n",
    "            else:\n",
    "                statuses   =   self.api.user_timeline(screen_name=user,\n",
    "                                                        count=self.result_limit,\n",
    "                                                        tweet_mode = 'extended',\n",
    "                                                        include_retweets=True)\n",
    "                \n",
    "            for item in statuses:\n",
    "\n",
    "                mined = {\n",
    "                    'tweet_id':        item.id,\n",
    "                    'name':            item.user.name,\n",
    "                    'screen_name':     item.user.screen_name,\n",
    "                    'retweet_count':   item.retweet_count,\n",
    "                    'text':            item.full_text,\n",
    "                    'mined_at':        datetime.datetime.now(),\n",
    "                    'created_at':      item.created_at,\n",
    "                    'favourite_count': item.favorite_count,\n",
    "                    'hashtags':        item.entities['hashtags'],\n",
    "                    'status_count':    item.user.statuses_count,\n",
    "                    'location':        item.place,\n",
    "                    'source_device':   item.source\n",
    "                }\n",
    "                \n",
    "                try:\n",
    "                    mined['retweet_text'] = item.retweeted_status.full_text\n",
    "                except:\n",
    "                    mined['retweet_text'] = 'None'\n",
    "                try:\n",
    "                    mined['quote_text'] = item.quoted_status.full_text\n",
    "                    mined['quote_screen_name'] = status.quoted_status.user.screen_name\n",
    "                except:\n",
    "                    mined['quote_text'] = 'None'\n",
    "                    mined['quote_screen_name'] = 'None'\n",
    "                \n",
    "                last_tweet_id = item.id\n",
    "                data.append(mined)\n",
    "                \n",
    "            page += 1\n",
    "            \n",
    "        return data \n"
   ]
  },
  {
   "cell_type": "code",
   "execution_count": 31,
   "metadata": {},
   "outputs": [],
   "source": [
    "miner=TweetMiner()"
   ]
  },
  {
   "cell_type": "code",
   "execution_count": 34,
   "metadata": {},
   "outputs": [],
   "source": [
    "mined_tweets = miner.mine_user_tweets(user='Grzegor64792783', max_pages=3)\n",
    "mined_tweets_df= pd.DataFrame(mined_tweets)"
   ]
  },
  {
   "cell_type": "code",
   "execution_count": 35,
   "metadata": {},
   "outputs": [
    {
     "data": {
      "text/html": [
       "<div>\n",
       "<style scoped>\n",
       "    .dataframe tbody tr th:only-of-type {\n",
       "        vertical-align: middle;\n",
       "    }\n",
       "\n",
       "    .dataframe tbody tr th {\n",
       "        vertical-align: top;\n",
       "    }\n",
       "\n",
       "    .dataframe thead th {\n",
       "        text-align: right;\n",
       "    }\n",
       "</style>\n",
       "<table border=\"1\" class=\"dataframe\">\n",
       "  <thead>\n",
       "    <tr style=\"text-align: right;\">\n",
       "      <th></th>\n",
       "      <th>tweet_id</th>\n",
       "      <th>name</th>\n",
       "      <th>screen_name</th>\n",
       "      <th>retweet_count</th>\n",
       "      <th>text</th>\n",
       "      <th>mined_at</th>\n",
       "      <th>created_at</th>\n",
       "      <th>favourite_count</th>\n",
       "      <th>hashtags</th>\n",
       "      <th>status_count</th>\n",
       "      <th>location</th>\n",
       "      <th>source_device</th>\n",
       "      <th>retweet_text</th>\n",
       "      <th>quote_text</th>\n",
       "      <th>quote_screen_name</th>\n",
       "    </tr>\n",
       "  </thead>\n",
       "  <tbody>\n",
       "    <tr>\n",
       "      <td>0</td>\n",
       "      <td>1149794406964314112</td>\n",
       "      <td>Grzegorz</td>\n",
       "      <td>Grzegor64792783</td>\n",
       "      <td>5</td>\n",
       "      <td>RT @BernoulliSoc: We would like to remind all ...</td>\n",
       "      <td>2019-10-21 18:53:48.236455</td>\n",
       "      <td>2019-07-12 21:35:23</td>\n",
       "      <td>0</td>\n",
       "      <td>[]</td>\n",
       "      <td>1</td>\n",
       "      <td>None</td>\n",
       "      <td>Twitter for Android</td>\n",
       "      <td>We would like to remind all our members to ren...</td>\n",
       "      <td>None</td>\n",
       "      <td>None</td>\n",
       "    </tr>\n",
       "  </tbody>\n",
       "</table>\n",
       "</div>"
      ],
      "text/plain": [
       "              tweet_id      name      screen_name  retweet_count  \\\n",
       "0  1149794406964314112  Grzegorz  Grzegor64792783              5   \n",
       "\n",
       "                                                text  \\\n",
       "0  RT @BernoulliSoc: We would like to remind all ...   \n",
       "\n",
       "                    mined_at          created_at  favourite_count hashtags  \\\n",
       "0 2019-10-21 18:53:48.236455 2019-07-12 21:35:23                0       []   \n",
       "\n",
       "   status_count location        source_device  \\\n",
       "0             1     None  Twitter for Android   \n",
       "\n",
       "                                        retweet_text quote_text  \\\n",
       "0  We would like to remind all our members to ren...       None   \n",
       "\n",
       "  quote_screen_name  \n",
       "0              None  "
      ]
     },
     "execution_count": 35,
     "metadata": {},
     "output_type": "execute_result"
    }
   ],
   "source": [
    "mined_tweets_df"
   ]
  },
  {
   "cell_type": "code",
   "execution_count": 36,
   "metadata": {},
   "outputs": [],
   "source": [
    "handle_list= ['list of handles you want the timelines of']\n",
    "\n",
    "twitter_dict={}\n",
    "counter=0\n",
    "\n",
    "for name in handle_list:\n",
    "    try:\n",
    "      twitter_dict[name]=[]\n",
    "      twitter_dict[name].append(miner.mine_user_tweets(user=name, max_pages=17))\n",
    "      counter = counter +1\n",
    "      if counter%40==0:\n",
    "        time.sleep(900) #15 minute sleep time\n",
    "    #if name invalid print name and remove key\n",
    "    except:\n",
    "      print(name, 'is invalid or locked')\n",
    "      twitter_dict.pop(name)\n",
    "    \n",
    "all_tweets=pd.concat([pd.DataFrame(twitter_dict[i][0]) for i in twitter_dict])"
   ]
  },
  {
   "cell_type": "code",
   "execution_count": 38,
   "metadata": {},
   "outputs": [
    {
     "data": {
      "text/plain": [
       "['list of handles you want the timelines of']"
      ]
     },
     "execution_count": 38,
     "metadata": {},
     "output_type": "execute_result"
    }
   ],
   "source": [
    "handle_list"
   ]
  },
  {
   "cell_type": "code",
   "execution_count": 73,
   "metadata": {},
   "outputs": [],
   "source": [
    "for results in tw.Cursor(api.search, q=\"#brexit\", since = str(datetime.date.today()), lang = 'en', tweet_mode='extended').items(1):\n",
    "    results1 = results"
   ]
  },
  {
   "cell_type": "code",
   "execution_count": null,
   "metadata": {},
   "outputs": [
    {
     "name": "stderr",
     "output_type": "stream",
     "text": [
      "Rate limit reached. Sleeping for: 763\n"
     ]
    }
   ],
   "source": [
    "for results in tw.Cursor(api.search, q=\"#brexit\", lang = 'en').items(5000):\n",
    "    results2 = results"
   ]
  },
  {
   "cell_type": "code",
   "execution_count": 74,
   "metadata": {},
   "outputs": [
    {
     "data": {
      "text/plain": [
       "dict_keys(['created_at', 'id', 'id_str', 'full_text', 'truncated', 'display_text_range', 'entities', 'metadata', 'source', 'in_reply_to_status_id', 'in_reply_to_status_id_str', 'in_reply_to_user_id', 'in_reply_to_user_id_str', 'in_reply_to_screen_name', 'user', 'geo', 'coordinates', 'place', 'contributors', 'retweeted_status', 'is_quote_status', 'quoted_status_id', 'quoted_status_id_str', 'retweet_count', 'favorite_count', 'favorited', 'retweeted', 'possibly_sensitive', 'lang'])"
      ]
     },
     "execution_count": 74,
     "metadata": {},
     "output_type": "execute_result"
    }
   ],
   "source": [
    "results1._json.keys()"
   ]
  },
  {
   "cell_type": "code",
   "execution_count": 75,
   "metadata": {},
   "outputs": [
    {
     "data": {
      "text/plain": [
       "'RT @BBCkatyaadler: This clip is doing the round in EU circles now that the #Brexit process had been delayed again 👇 https://t.co/VMFo6xSzZW'"
      ]
     },
     "execution_count": 75,
     "metadata": {},
     "output_type": "execute_result"
    }
   ],
   "source": [
    "results1.full_text"
   ]
  },
  {
   "cell_type": "code",
   "execution_count": null,
   "metadata": {},
   "outputs": [],
   "source": []
  }
 ],
 "metadata": {
  "kernelspec": {
   "display_name": "Python 3",
   "language": "python",
   "name": "python3"
  },
  "language_info": {
   "codemirror_mode": {
    "name": "ipython",
    "version": 3
   },
   "file_extension": ".py",
   "mimetype": "text/x-python",
   "name": "python",
   "nbconvert_exporter": "python",
   "pygments_lexer": "ipython3",
   "version": "3.7.4"
  }
 },
 "nbformat": 4,
 "nbformat_minor": 2
}
