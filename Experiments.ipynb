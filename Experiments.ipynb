{
 "cells": [
  {
   "cell_type": "code",
   "execution_count": 1,
   "metadata": {},
   "outputs": [],
   "source": [
    "import pandas as pd\n",
    "import numpy as np\n",
    "import matplotlib.pyplot as plt\n",
    "import tweepy as tw\n",
    "import json as json\n",
    "import datetime as datetime\n",
    "import time as time"
   ]
  },
  {
   "cell_type": "code",
   "execution_count": 2,
   "metadata": {},
   "outputs": [],
   "source": [
    "twitter_keys = {\n",
    "    'consumer_key':        'g3OU7SzfpnE2AoPzWzC7My8O9',\n",
    "    'consumer_secret':     'kIOJAjk4Zun00BvCNCgK4NCSq2X5suMb88IJ12UcSzQUhVLiie',\n",
    "    'access_token_key':    '953693483012902912-fXIsILeot5yu6LLk7BBxUiEfi4DwrQD',\n",
    "    'access_token_secret': 'vNhUqPByb1SZQMIVuGwhJX8BaGAkROiEMVQ3N6JyYEB2l'\n",
    "}"
   ]
  },
  {
   "cell_type": "code",
   "execution_count": 3,
   "metadata": {},
   "outputs": [],
   "source": [
    "auth = tw.OAuthHandler(twitter_keys['consumer_key'], twitter_keys['consumer_secret'])\n",
    "auth.set_access_token(twitter_keys['access_token_key'], twitter_keys['access_token_secret'])"
   ]
  },
  {
   "cell_type": "code",
   "execution_count": 4,
   "metadata": {},
   "outputs": [],
   "source": [
    "api = tw.API(auth, wait_on_rate_limit_notify = True)"
   ]
  },
  {
   "cell_type": "code",
   "execution_count": 15,
   "metadata": {},
   "outputs": [
    {
     "name": "stdout",
     "output_type": "stream",
     "text": [
      "Status(_api=<tweepy.api.API object at 0x7f8ebff80110>, _json={'created_at': 'Tue Oct 22 20:04:13 +0000 2019', 'id': 1186735027276713986, 'id_str': '1186735027276713986', 'text': \"RT @OGMurphy1: That look when you realise that the EU's Anti Tax Avoidance will apply to your hedge fund after all... #Brexit #BrexitBill #…\", 'truncated': False, 'entities': {'hashtags': [{'text': 'Brexit', 'indices': [118, 125]}, {'text': 'BrexitBill', 'indices': [126, 137]}], 'symbols': [], 'user_mentions': [{'screen_name': 'OGMurphy1', 'name': 'Oliver Murphy', 'id': 882663436550844419, 'id_str': '882663436550844419', 'indices': [3, 13]}], 'urls': []}, 'metadata': {'iso_language_code': 'en', 'result_type': 'recent'}, 'source': '<a href=\"http://twitter.com/download/iphone\" rel=\"nofollow\">Twitter for iPhone</a>', 'in_reply_to_status_id': None, 'in_reply_to_status_id_str': None, 'in_reply_to_user_id': None, 'in_reply_to_user_id_str': None, 'in_reply_to_screen_name': None, 'user': {'id': 419927046, 'id_str': '419927046', 'name': 'STOP THE BREXIT DISASTER CAPITALISTS', 'screen_name': 'JoRichardsKent', 'location': '', 'description': 'Joined Twitter to tweet about environment, wildlife, & equality. Reluctantly defending the UK from a mad, corrupt, toxic Brexit thrust on us by mad oligarchs.', 'url': None, 'entities': {'description': {'urls': []}}, 'protected': False, 'followers_count': 12353, 'friends_count': 8787, 'listed_count': 198, 'created_at': 'Wed Nov 23 23:50:48 +0000 2011', 'favourites_count': 63720, 'utc_offset': None, 'time_zone': None, 'geo_enabled': True, 'verified': False, 'statuses_count': 326165, 'lang': None, 'contributors_enabled': False, 'is_translator': False, 'is_translation_enabled': False, 'profile_background_color': 'B2DFDA', 'profile_background_image_url': 'http://abs.twimg.com/images/themes/theme13/bg.gif', 'profile_background_image_url_https': 'https://abs.twimg.com/images/themes/theme13/bg.gif', 'profile_background_tile': False, 'profile_image_url': 'http://pbs.twimg.com/profile_images/1132739686219358210/eBQkTHit_normal.jpg', 'profile_image_url_https': 'https://pbs.twimg.com/profile_images/1132739686219358210/eBQkTHit_normal.jpg', 'profile_banner_url': 'https://pbs.twimg.com/profile_banners/419927046/1570127342', 'profile_link_color': '93A644', 'profile_sidebar_border_color': 'EEEEEE', 'profile_sidebar_fill_color': 'FFFFFF', 'profile_text_color': '333333', 'profile_use_background_image': True, 'has_extended_profile': False, 'default_profile': False, 'default_profile_image': False, 'following': False, 'follow_request_sent': False, 'notifications': False, 'translator_type': 'none'}, 'geo': None, 'coordinates': None, 'place': None, 'contributors': None, 'retweeted_status': {'created_at': 'Tue Oct 22 19:26:07 +0000 2019', 'id': 1186725438753779718, 'id_str': '1186725438753779718', 'text': \"That look when you realise that the EU's Anti Tax Avoidance will apply to your hedge fund after all... #Brexit… https://t.co/5Wv2jNQGqN\", 'truncated': True, 'entities': {'hashtags': [{'text': 'Brexit', 'indices': [103, 110]}], 'symbols': [], 'user_mentions': [], 'urls': [{'url': 'https://t.co/5Wv2jNQGqN', 'expanded_url': 'https://twitter.com/i/web/status/1186725438753779718', 'display_url': 'twitter.com/i/web/status/1…', 'indices': [112, 135]}]}, 'metadata': {'iso_language_code': 'en', 'result_type': 'recent'}, 'source': '<a href=\"https://mobile.twitter.com\" rel=\"nofollow\">Twitter Web App</a>', 'in_reply_to_status_id': None, 'in_reply_to_status_id_str': None, 'in_reply_to_user_id': None, 'in_reply_to_user_id_str': None, 'in_reply_to_screen_name': None, 'user': {'id': 882663436550844419, 'id_str': '882663436550844419', 'name': 'Oliver Murphy', 'screen_name': 'OGMurphy1', 'location': 'Hertfordshire | London ', 'description': 'Freelance political journalist, mainly London.\\nFound: @BylineTimes & @LondonEconomic\\nTweets in a personal capacity', 'url': 'https://t.co/t0Fg6sA4yI', 'entities': {'url': {'urls': [{'url': 'https://t.co/t0Fg6sA4yI', 'expanded_url': 'https://www.thelondoneconomic.com/author/ollymurphy/', 'display_url': 'thelondoneconomic.com/author/ollymur…', 'indices': [0, 23]}]}, 'description': {'urls': []}}, 'protected': False, 'followers_count': 6282, 'friends_count': 3867, 'listed_count': 38, 'created_at': 'Wed Jul 05 18:12:17 +0000 2017', 'favourites_count': 8644, 'utc_offset': None, 'time_zone': None, 'geo_enabled': False, 'verified': False, 'statuses_count': 7585, 'lang': None, 'contributors_enabled': False, 'is_translator': False, 'is_translation_enabled': False, 'profile_background_color': '000000', 'profile_background_image_url': 'http://abs.twimg.com/images/themes/theme1/bg.png', 'profile_background_image_url_https': 'https://abs.twimg.com/images/themes/theme1/bg.png', 'profile_background_tile': False, 'profile_image_url': 'http://pbs.twimg.com/profile_images/1176094042448420864/xOeNQ83j_normal.jpg', 'profile_image_url_https': 'https://pbs.twimg.com/profile_images/1176094042448420864/xOeNQ83j_normal.jpg', 'profile_banner_url': 'https://pbs.twimg.com/profile_banners/882663436550844419/1569534871', 'profile_link_color': '1B95E0', 'profile_sidebar_border_color': '000000', 'profile_sidebar_fill_color': '000000', 'profile_text_color': '000000', 'profile_use_background_image': False, 'has_extended_profile': True, 'default_profile': False, 'default_profile_image': False, 'following': False, 'follow_request_sent': False, 'notifications': False, 'translator_type': 'none'}, 'geo': None, 'coordinates': None, 'place': None, 'contributors': None, 'is_quote_status': False, 'retweet_count': 319, 'favorite_count': 692, 'favorited': False, 'retweeted': False, 'possibly_sensitive': False, 'lang': 'en'}, 'is_quote_status': False, 'retweet_count': 319, 'favorite_count': 0, 'favorited': False, 'retweeted': False, 'lang': 'en'}, created_at=datetime.datetime(2019, 10, 22, 20, 4, 13), id=1186735027276713986, id_str='1186735027276713986', text=\"RT @OGMurphy1: That look when you realise that the EU's Anti Tax Avoidance will apply to your hedge fund after all... #Brexit #BrexitBill #…\", truncated=False, entities={'hashtags': [{'text': 'Brexit', 'indices': [118, 125]}, {'text': 'BrexitBill', 'indices': [126, 137]}], 'symbols': [], 'user_mentions': [{'screen_name': 'OGMurphy1', 'name': 'Oliver Murphy', 'id': 882663436550844419, 'id_str': '882663436550844419', 'indices': [3, 13]}], 'urls': []}, metadata={'iso_language_code': 'en', 'result_type': 'recent'}, source='Twitter for iPhone', source_url='http://twitter.com/download/iphone', in_reply_to_status_id=None, in_reply_to_status_id_str=None, in_reply_to_user_id=None, in_reply_to_user_id_str=None, in_reply_to_screen_name=None, author=User(_api=<tweepy.api.API object at 0x7f8ebff80110>, _json={'id': 419927046, 'id_str': '419927046', 'name': 'STOP THE BREXIT DISASTER CAPITALISTS', 'screen_name': 'JoRichardsKent', 'location': '', 'description': 'Joined Twitter to tweet about environment, wildlife, & equality. Reluctantly defending the UK from a mad, corrupt, toxic Brexit thrust on us by mad oligarchs.', 'url': None, 'entities': {'description': {'urls': []}}, 'protected': False, 'followers_count': 12353, 'friends_count': 8787, 'listed_count': 198, 'created_at': 'Wed Nov 23 23:50:48 +0000 2011', 'favourites_count': 63720, 'utc_offset': None, 'time_zone': None, 'geo_enabled': True, 'verified': False, 'statuses_count': 326165, 'lang': None, 'contributors_enabled': False, 'is_translator': False, 'is_translation_enabled': False, 'profile_background_color': 'B2DFDA', 'profile_background_image_url': 'http://abs.twimg.com/images/themes/theme13/bg.gif', 'profile_background_image_url_https': 'https://abs.twimg.com/images/themes/theme13/bg.gif', 'profile_background_tile': False, 'profile_image_url': 'http://pbs.twimg.com/profile_images/1132739686219358210/eBQkTHit_normal.jpg', 'profile_image_url_https': 'https://pbs.twimg.com/profile_images/1132739686219358210/eBQkTHit_normal.jpg', 'profile_banner_url': 'https://pbs.twimg.com/profile_banners/419927046/1570127342', 'profile_link_color': '93A644', 'profile_sidebar_border_color': 'EEEEEE', 'profile_sidebar_fill_color': 'FFFFFF', 'profile_text_color': '333333', 'profile_use_background_image': True, 'has_extended_profile': False, 'default_profile': False, 'default_profile_image': False, 'following': False, 'follow_request_sent': False, 'notifications': False, 'translator_type': 'none'}, id=419927046, id_str='419927046', name='STOP THE BREXIT DISASTER CAPITALISTS', screen_name='JoRichardsKent', location='', description='Joined Twitter to tweet about environment, wildlife, & equality. Reluctantly defending the UK from a mad, corrupt, toxic Brexit thrust on us by mad oligarchs.', url=None, entities={'description': {'urls': []}}, protected=False, followers_count=12353, friends_count=8787, listed_count=198, created_at=datetime.datetime(2011, 11, 23, 23, 50, 48), favourites_count=63720, utc_offset=None, time_zone=None, geo_enabled=True, verified=False, statuses_count=326165, lang=None, contributors_enabled=False, is_translator=False, is_translation_enabled=False, profile_background_color='B2DFDA', profile_background_image_url='http://abs.twimg.com/images/themes/theme13/bg.gif', profile_background_image_url_https='https://abs.twimg.com/images/themes/theme13/bg.gif', profile_background_tile=False, profile_image_url='http://pbs.twimg.com/profile_images/1132739686219358210/eBQkTHit_normal.jpg', profile_image_url_https='https://pbs.twimg.com/profile_images/1132739686219358210/eBQkTHit_normal.jpg', profile_banner_url='https://pbs.twimg.com/profile_banners/419927046/1570127342', profile_link_color='93A644', profile_sidebar_border_color='EEEEEE', profile_sidebar_fill_color='FFFFFF', profile_text_color='333333', profile_use_background_image=True, has_extended_profile=False, default_profile=False, default_profile_image=False, following=False, follow_request_sent=False, notifications=False, translator_type='none'), user=User(_api=<tweepy.api.API object at 0x7f8ebff80110>, _json={'id': 419927046, 'id_str': '419927046', 'name': 'STOP THE BREXIT DISASTER CAPITALISTS', 'screen_name': 'JoRichardsKent', 'location': '', 'description': 'Joined Twitter to tweet about environment, wildlife, & equality. Reluctantly defending the UK from a mad, corrupt, toxic Brexit thrust on us by mad oligarchs.', 'url': None, 'entities': {'description': {'urls': []}}, 'protected': False, 'followers_count': 12353, 'friends_count': 8787, 'listed_count': 198, 'created_at': 'Wed Nov 23 23:50:48 +0000 2011', 'favourites_count': 63720, 'utc_offset': None, 'time_zone': None, 'geo_enabled': True, 'verified': False, 'statuses_count': 326165, 'lang': None, 'contributors_enabled': False, 'is_translator': False, 'is_translation_enabled': False, 'profile_background_color': 'B2DFDA', 'profile_background_image_url': 'http://abs.twimg.com/images/themes/theme13/bg.gif', 'profile_background_image_url_https': 'https://abs.twimg.com/images/themes/theme13/bg.gif', 'profile_background_tile': False, 'profile_image_url': 'http://pbs.twimg.com/profile_images/1132739686219358210/eBQkTHit_normal.jpg', 'profile_image_url_https': 'https://pbs.twimg.com/profile_images/1132739686219358210/eBQkTHit_normal.jpg', 'profile_banner_url': 'https://pbs.twimg.com/profile_banners/419927046/1570127342', 'profile_link_color': '93A644', 'profile_sidebar_border_color': 'EEEEEE', 'profile_sidebar_fill_color': 'FFFFFF', 'profile_text_color': '333333', 'profile_use_background_image': True, 'has_extended_profile': False, 'default_profile': False, 'default_profile_image': False, 'following': False, 'follow_request_sent': False, 'notifications': False, 'translator_type': 'none'}, id=419927046, id_str='419927046', name='STOP THE BREXIT DISASTER CAPITALISTS', screen_name='JoRichardsKent', location='', description='Joined Twitter to tweet about environment, wildlife, & equality. Reluctantly defending the UK from a mad, corrupt, toxic Brexit thrust on us by mad oligarchs.', url=None, entities={'description': {'urls': []}}, protected=False, followers_count=12353, friends_count=8787, listed_count=198, created_at=datetime.datetime(2011, 11, 23, 23, 50, 48), favourites_count=63720, utc_offset=None, time_zone=None, geo_enabled=True, verified=False, statuses_count=326165, lang=None, contributors_enabled=False, is_translator=False, is_translation_enabled=False, profile_background_color='B2DFDA', profile_background_image_url='http://abs.twimg.com/images/themes/theme13/bg.gif', profile_background_image_url_https='https://abs.twimg.com/images/themes/theme13/bg.gif', profile_background_tile=False, profile_image_url='http://pbs.twimg.com/profile_images/1132739686219358210/eBQkTHit_normal.jpg', profile_image_url_https='https://pbs.twimg.com/profile_images/1132739686219358210/eBQkTHit_normal.jpg', profile_banner_url='https://pbs.twimg.com/profile_banners/419927046/1570127342', profile_link_color='93A644', profile_sidebar_border_color='EEEEEE', profile_sidebar_fill_color='FFFFFF', profile_text_color='333333', profile_use_background_image=True, has_extended_profile=False, default_profile=False, default_profile_image=False, following=False, follow_request_sent=False, notifications=False, translator_type='none'), geo=None, coordinates=None, place=None, contributors=None, retweeted_status=Status(_api=<tweepy.api.API object at 0x7f8ebff80110>, _json={'created_at': 'Tue Oct 22 19:26:07 +0000 2019', 'id': 1186725438753779718, 'id_str': '1186725438753779718', 'text': \"That look when you realise that the EU's Anti Tax Avoidance will apply to your hedge fund after all... #Brexit… https://t.co/5Wv2jNQGqN\", 'truncated': True, 'entities': {'hashtags': [{'text': 'Brexit', 'indices': [103, 110]}], 'symbols': [], 'user_mentions': [], 'urls': [{'url': 'https://t.co/5Wv2jNQGqN', 'expanded_url': 'https://twitter.com/i/web/status/1186725438753779718', 'display_url': 'twitter.com/i/web/status/1…', 'indices': [112, 135]}]}, 'metadata': {'iso_language_code': 'en', 'result_type': 'recent'}, 'source': '<a href=\"https://mobile.twitter.com\" rel=\"nofollow\">Twitter Web App</a>', 'in_reply_to_status_id': None, 'in_reply_to_status_id_str': None, 'in_reply_to_user_id': None, 'in_reply_to_user_id_str': None, 'in_reply_to_screen_name': None, 'user': {'id': 882663436550844419, 'id_str': '882663436550844419', 'name': 'Oliver Murphy', 'screen_name': 'OGMurphy1', 'location': 'Hertfordshire | London ', 'description': 'Freelance political journalist, mainly London.\\nFound: @BylineTimes & @LondonEconomic\\nTweets in a personal capacity', 'url': 'https://t.co/t0Fg6sA4yI', 'entities': {'url': {'urls': [{'url': 'https://t.co/t0Fg6sA4yI', 'expanded_url': 'https://www.thelondoneconomic.com/author/ollymurphy/', 'display_url': 'thelondoneconomic.com/author/ollymur…', 'indices': [0, 23]}]}, 'description': {'urls': []}}, 'protected': False, 'followers_count': 6282, 'friends_count': 3867, 'listed_count': 38, 'created_at': 'Wed Jul 05 18:12:17 +0000 2017', 'favourites_count': 8644, 'utc_offset': None, 'time_zone': None, 'geo_enabled': False, 'verified': False, 'statuses_count': 7585, 'lang': None, 'contributors_enabled': False, 'is_translator': False, 'is_translation_enabled': False, 'profile_background_color': '000000', 'profile_background_image_url': 'http://abs.twimg.com/images/themes/theme1/bg.png', 'profile_background_image_url_https': 'https://abs.twimg.com/images/themes/theme1/bg.png', 'profile_background_tile': False, 'profile_image_url': 'http://pbs.twimg.com/profile_images/1176094042448420864/xOeNQ83j_normal.jpg', 'profile_image_url_https': 'https://pbs.twimg.com/profile_images/1176094042448420864/xOeNQ83j_normal.jpg', 'profile_banner_url': 'https://pbs.twimg.com/profile_banners/882663436550844419/1569534871', 'profile_link_color': '1B95E0', 'profile_sidebar_border_color': '000000', 'profile_sidebar_fill_color': '000000', 'profile_text_color': '000000', 'profile_use_background_image': False, 'has_extended_profile': True, 'default_profile': False, 'default_profile_image': False, 'following': False, 'follow_request_sent': False, 'notifications': False, 'translator_type': 'none'}, 'geo': None, 'coordinates': None, 'place': None, 'contributors': None, 'is_quote_status': False, 'retweet_count': 319, 'favorite_count': 692, 'favorited': False, 'retweeted': False, 'possibly_sensitive': False, 'lang': 'en'}, created_at=datetime.datetime(2019, 10, 22, 19, 26, 7), id=1186725438753779718, id_str='1186725438753779718', text=\"That look when you realise that the EU's Anti Tax Avoidance will apply to your hedge fund after all... #Brexit… https://t.co/5Wv2jNQGqN\", truncated=True, entities={'hashtags': [{'text': 'Brexit', 'indices': [103, 110]}], 'symbols': [], 'user_mentions': [], 'urls': [{'url': 'https://t.co/5Wv2jNQGqN', 'expanded_url': 'https://twitter.com/i/web/status/1186725438753779718', 'display_url': 'twitter.com/i/web/status/1…', 'indices': [112, 135]}]}, metadata={'iso_language_code': 'en', 'result_type': 'recent'}, source='Twitter Web App', source_url='https://mobile.twitter.com', in_reply_to_status_id=None, in_reply_to_status_id_str=None, in_reply_to_user_id=None, in_reply_to_user_id_str=None, in_reply_to_screen_name=None, author=User(_api=<tweepy.api.API object at 0x7f8ebff80110>, _json={'id': 882663436550844419, 'id_str': '882663436550844419', 'name': 'Oliver Murphy', 'screen_name': 'OGMurphy1', 'location': 'Hertfordshire | London ', 'description': 'Freelance political journalist, mainly London.\\nFound: @BylineTimes & @LondonEconomic\\nTweets in a personal capacity', 'url': 'https://t.co/t0Fg6sA4yI', 'entities': {'url': {'urls': [{'url': 'https://t.co/t0Fg6sA4yI', 'expanded_url': 'https://www.thelondoneconomic.com/author/ollymurphy/', 'display_url': 'thelondoneconomic.com/author/ollymur…', 'indices': [0, 23]}]}, 'description': {'urls': []}}, 'protected': False, 'followers_count': 6282, 'friends_count': 3867, 'listed_count': 38, 'created_at': 'Wed Jul 05 18:12:17 +0000 2017', 'favourites_count': 8644, 'utc_offset': None, 'time_zone': None, 'geo_enabled': False, 'verified': False, 'statuses_count': 7585, 'lang': None, 'contributors_enabled': False, 'is_translator': False, 'is_translation_enabled': False, 'profile_background_color': '000000', 'profile_background_image_url': 'http://abs.twimg.com/images/themes/theme1/bg.png', 'profile_background_image_url_https': 'https://abs.twimg.com/images/themes/theme1/bg.png', 'profile_background_tile': False, 'profile_image_url': 'http://pbs.twimg.com/profile_images/1176094042448420864/xOeNQ83j_normal.jpg', 'profile_image_url_https': 'https://pbs.twimg.com/profile_images/1176094042448420864/xOeNQ83j_normal.jpg', 'profile_banner_url': 'https://pbs.twimg.com/profile_banners/882663436550844419/1569534871', 'profile_link_color': '1B95E0', 'profile_sidebar_border_color': '000000', 'profile_sidebar_fill_color': '000000', 'profile_text_color': '000000', 'profile_use_background_image': False, 'has_extended_profile': True, 'default_profile': False, 'default_profile_image': False, 'following': False, 'follow_request_sent': False, 'notifications': False, 'translator_type': 'none'}, id=882663436550844419, id_str='882663436550844419', name='Oliver Murphy', screen_name='OGMurphy1', location='Hertfordshire | London ', description='Freelance political journalist, mainly London.\\nFound: @BylineTimes & @LondonEconomic\\nTweets in a personal capacity', url='https://t.co/t0Fg6sA4yI', entities={'url': {'urls': [{'url': 'https://t.co/t0Fg6sA4yI', 'expanded_url': 'https://www.thelondoneconomic.com/author/ollymurphy/', 'display_url': 'thelondoneconomic.com/author/ollymur…', 'indices': [0, 23]}]}, 'description': {'urls': []}}, protected=False, followers_count=6282, friends_count=3867, listed_count=38, created_at=datetime.datetime(2017, 7, 5, 18, 12, 17), favourites_count=8644, utc_offset=None, time_zone=None, geo_enabled=False, verified=False, statuses_count=7585, lang=None, contributors_enabled=False, is_translator=False, is_translation_enabled=False, profile_background_color='000000', profile_background_image_url='http://abs.twimg.com/images/themes/theme1/bg.png', profile_background_image_url_https='https://abs.twimg.com/images/themes/theme1/bg.png', profile_background_tile=False, profile_image_url='http://pbs.twimg.com/profile_images/1176094042448420864/xOeNQ83j_normal.jpg', profile_image_url_https='https://pbs.twimg.com/profile_images/1176094042448420864/xOeNQ83j_normal.jpg', profile_banner_url='https://pbs.twimg.com/profile_banners/882663436550844419/1569534871', profile_link_color='1B95E0', profile_sidebar_border_color='000000', profile_sidebar_fill_color='000000', profile_text_color='000000', profile_use_background_image=False, has_extended_profile=True, default_profile=False, default_profile_image=False, following=False, follow_request_sent=False, notifications=False, translator_type='none'), user=User(_api=<tweepy.api.API object at 0x7f8ebff80110>, _json={'id': 882663436550844419, 'id_str': '882663436550844419', 'name': 'Oliver Murphy', 'screen_name': 'OGMurphy1', 'location': 'Hertfordshire | London ', 'description': 'Freelance political journalist, mainly London.\\nFound: @BylineTimes & @LondonEconomic\\nTweets in a personal capacity', 'url': 'https://t.co/t0Fg6sA4yI', 'entities': {'url': {'urls': [{'url': 'https://t.co/t0Fg6sA4yI', 'expanded_url': 'https://www.thelondoneconomic.com/author/ollymurphy/', 'display_url': 'thelondoneconomic.com/author/ollymur…', 'indices': [0, 23]}]}, 'description': {'urls': []}}, 'protected': False, 'followers_count': 6282, 'friends_count': 3867, 'listed_count': 38, 'created_at': 'Wed Jul 05 18:12:17 +0000 2017', 'favourites_count': 8644, 'utc_offset': None, 'time_zone': None, 'geo_enabled': False, 'verified': False, 'statuses_count': 7585, 'lang': None, 'contributors_enabled': False, 'is_translator': False, 'is_translation_enabled': False, 'profile_background_color': '000000', 'profile_background_image_url': 'http://abs.twimg.com/images/themes/theme1/bg.png', 'profile_background_image_url_https': 'https://abs.twimg.com/images/themes/theme1/bg.png', 'profile_background_tile': False, 'profile_image_url': 'http://pbs.twimg.com/profile_images/1176094042448420864/xOeNQ83j_normal.jpg', 'profile_image_url_https': 'https://pbs.twimg.com/profile_images/1176094042448420864/xOeNQ83j_normal.jpg', 'profile_banner_url': 'https://pbs.twimg.com/profile_banners/882663436550844419/1569534871', 'profile_link_color': '1B95E0', 'profile_sidebar_border_color': '000000', 'profile_sidebar_fill_color': '000000', 'profile_text_color': '000000', 'profile_use_background_image': False, 'has_extended_profile': True, 'default_profile': False, 'default_profile_image': False, 'following': False, 'follow_request_sent': False, 'notifications': False, 'translator_type': 'none'}, id=882663436550844419, id_str='882663436550844419', name='Oliver Murphy', screen_name='OGMurphy1', location='Hertfordshire | London ', description='Freelance political journalist, mainly London.\\nFound: @BylineTimes & @LondonEconomic\\nTweets in a personal capacity', url='https://t.co/t0Fg6sA4yI', entities={'url': {'urls': [{'url': 'https://t.co/t0Fg6sA4yI', 'expanded_url': 'https://www.thelondoneconomic.com/author/ollymurphy/', 'display_url': 'thelondoneconomic.com/author/ollymur…', 'indices': [0, 23]}]}, 'description': {'urls': []}}, protected=False, followers_count=6282, friends_count=3867, listed_count=38, created_at=datetime.datetime(2017, 7, 5, 18, 12, 17), favourites_count=8644, utc_offset=None, time_zone=None, geo_enabled=False, verified=False, statuses_count=7585, lang=None, contributors_enabled=False, is_translator=False, is_translation_enabled=False, profile_background_color='000000', profile_background_image_url='http://abs.twimg.com/images/themes/theme1/bg.png', profile_background_image_url_https='https://abs.twimg.com/images/themes/theme1/bg.png', profile_background_tile=False, profile_image_url='http://pbs.twimg.com/profile_images/1176094042448420864/xOeNQ83j_normal.jpg', profile_image_url_https='https://pbs.twimg.com/profile_images/1176094042448420864/xOeNQ83j_normal.jpg', profile_banner_url='https://pbs.twimg.com/profile_banners/882663436550844419/1569534871', profile_link_color='1B95E0', profile_sidebar_border_color='000000', profile_sidebar_fill_color='000000', profile_text_color='000000', profile_use_background_image=False, has_extended_profile=True, default_profile=False, default_profile_image=False, following=False, follow_request_sent=False, notifications=False, translator_type='none'), geo=None, coordinates=None, place=None, contributors=None, is_quote_status=False, retweet_count=319, favorite_count=692, favorited=False, retweeted=False, possibly_sensitive=False, lang='en'), is_quote_status=False, retweet_count=319, favorite_count=0, favorited=False, retweeted=False, lang='en')\n",
      "Status(_api=<tweepy.api.API object at 0x7f8ebff80110>, _json={'created_at': 'Tue Oct 22 20:04:12 +0000 2019', 'id': 1186735022688092160, 'id_str': '1186735022688092160', 'text': \"RT @MPIainDS: Majority for 2nd reading of #WithdrawalAgreementBill &amp; PM @BorisJohnson's deal, however #DemocracyBlockers Labour, LibDems &amp;…\", 'truncated': False, 'entities': {'hashtags': [{'text': 'WithdrawalAgreementBill', 'indices': [42, 66]}, {'text': 'DemocracyBlockers', 'indices': [106, 124]}], 'symbols': [], 'user_mentions': [{'screen_name': 'MPIainDS', 'name': 'Iain Duncan Smith MP', 'id': 1133305785910550528, 'id_str': '1133305785910550528', 'indices': [3, 12]}, {'screen_name': 'BorisJohnson', 'name': 'Boris Johnson', 'id': 3131144855, 'id_str': '3131144855', 'indices': [76, 89]}], 'urls': []}, 'metadata': {'iso_language_code': 'en', 'result_type': 'recent'}, 'source': '<a href=\"https://mobile.twitter.com\" rel=\"nofollow\">Twitter Web App</a>', 'in_reply_to_status_id': None, 'in_reply_to_status_id_str': None, 'in_reply_to_user_id': None, 'in_reply_to_user_id_str': None, 'in_reply_to_screen_name': None, 'user': {'id': 849880970, 'id_str': '849880970', 'name': 'Nile Gardiner', 'screen_name': 'NileGardiner', 'location': 'Washington, DC', 'description': 'Foreign policy analyst. Former aide to Margaret Thatcher.', 'url': None, 'entities': {'description': {'urls': []}}, 'protected': False, 'followers_count': 12070, 'friends_count': 1239, 'listed_count': 243, 'created_at': 'Thu Sep 27 20:07:18 +0000 2012', 'favourites_count': 1015, 'utc_offset': None, 'time_zone': None, 'geo_enabled': False, 'verified': False, 'statuses_count': 37308, 'lang': None, 'contributors_enabled': False, 'is_translator': False, 'is_translation_enabled': False, 'profile_background_color': 'C0DEED', 'profile_background_image_url': 'http://abs.twimg.com/images/themes/theme1/bg.png', 'profile_background_image_url_https': 'https://abs.twimg.com/images/themes/theme1/bg.png', 'profile_background_tile': False, 'profile_image_url': 'http://pbs.twimg.com/profile_images/2733485826/ea8198a6b76c267e8ef27468d31291ee_normal.jpeg', 'profile_image_url_https': 'https://pbs.twimg.com/profile_images/2733485826/ea8198a6b76c267e8ef27468d31291ee_normal.jpeg', 'profile_banner_url': 'https://pbs.twimg.com/profile_banners/849880970/1474491305', 'profile_link_color': '1DA1F2', 'profile_sidebar_border_color': 'C0DEED', 'profile_sidebar_fill_color': 'DDEEF6', 'profile_text_color': '333333', 'profile_use_background_image': True, 'has_extended_profile': False, 'default_profile': True, 'default_profile_image': False, 'following': False, 'follow_request_sent': False, 'notifications': False, 'translator_type': 'none'}, 'geo': None, 'coordinates': None, 'place': None, 'contributors': None, 'retweeted_status': {'created_at': 'Tue Oct 22 19:39:14 +0000 2019', 'id': 1186728738492440576, 'id_str': '1186728738492440576', 'text': \"Majority for 2nd reading of #WithdrawalAgreementBill &amp; PM @BorisJohnson's deal, however #DemocracyBlockers Labour,… https://t.co/YfQ2ZipXFd\", 'truncated': True, 'entities': {'hashtags': [{'text': 'WithdrawalAgreementBill', 'indices': [28, 52]}, {'text': 'DemocracyBlockers', 'indices': [92, 110]}], 'symbols': [], 'user_mentions': [{'screen_name': 'BorisJohnson', 'name': 'Boris Johnson', 'id': 3131144855, 'id_str': '3131144855', 'indices': [62, 75]}], 'urls': [{'url': 'https://t.co/YfQ2ZipXFd', 'expanded_url': 'https://twitter.com/i/web/status/1186728738492440576', 'display_url': 'twitter.com/i/web/status/1…', 'indices': [120, 143]}]}, 'metadata': {'iso_language_code': 'en', 'result_type': 'recent'}, 'source': '<a href=\"https://mobile.twitter.com\" rel=\"nofollow\">Twitter Web App</a>', 'in_reply_to_status_id': None, 'in_reply_to_status_id_str': None, 'in_reply_to_user_id': None, 'in_reply_to_user_id_str': None, 'in_reply_to_screen_name': None, 'user': {'id': 1133305785910550528, 'id_str': '1133305785910550528', 'name': 'Iain Duncan Smith MP', 'screen_name': 'MPIainDS', 'location': 'London, England', 'description': 'MP Chingford & Woodford Green. Founder Centre for Social Justice. Former leader of the Conservative Party. No replies here. iain.duncansmith.mp@parliament.uk', 'url': 'https://t.co/OS3DDZB8Gd', 'entities': {'url': {'urls': [{'url': 'https://t.co/OS3DDZB8Gd', 'expanded_url': 'http://www.iainduncansmith.org.uk', 'display_url': 'iainduncansmith.org.uk', 'indices': [0, 23]}]}, 'description': {'urls': []}}, 'protected': False, 'followers_count': 16850, 'friends_count': 319, 'listed_count': 112, 'created_at': 'Tue May 28 09:35:29 +0000 2019', 'favourites_count': 350, 'utc_offset': None, 'time_zone': None, 'geo_enabled': False, 'verified': False, 'statuses_count': 521, 'lang': None, 'contributors_enabled': False, 'is_translator': False, 'is_translation_enabled': False, 'profile_background_color': 'F5F8FA', 'profile_background_image_url': None, 'profile_background_image_url_https': None, 'profile_background_tile': False, 'profile_image_url': 'http://pbs.twimg.com/profile_images/1133305968522145792/WoZUBUF6_normal.jpg', 'profile_image_url_https': 'https://pbs.twimg.com/profile_images/1133305968522145792/WoZUBUF6_normal.jpg', 'profile_banner_url': 'https://pbs.twimg.com/profile_banners/1133305785910550528/1559070634', 'profile_link_color': '1DA1F2', 'profile_sidebar_border_color': 'C0DEED', 'profile_sidebar_fill_color': 'DDEEF6', 'profile_text_color': '333333', 'profile_use_background_image': True, 'has_extended_profile': False, 'default_profile': True, 'default_profile_image': False, 'following': False, 'follow_request_sent': False, 'notifications': False, 'translator_type': 'none'}, 'geo': None, 'coordinates': None, 'place': None, 'contributors': None, 'is_quote_status': False, 'retweet_count': 93, 'favorite_count': 289, 'favorited': False, 'retweeted': False, 'lang': 'en'}, 'is_quote_status': False, 'retweet_count': 93, 'favorite_count': 0, 'favorited': False, 'retweeted': False, 'lang': 'en'}, created_at=datetime.datetime(2019, 10, 22, 20, 4, 12), id=1186735022688092160, id_str='1186735022688092160', text=\"RT @MPIainDS: Majority for 2nd reading of #WithdrawalAgreementBill &amp; PM @BorisJohnson's deal, however #DemocracyBlockers Labour, LibDems &amp;…\", truncated=False, entities={'hashtags': [{'text': 'WithdrawalAgreementBill', 'indices': [42, 66]}, {'text': 'DemocracyBlockers', 'indices': [106, 124]}], 'symbols': [], 'user_mentions': [{'screen_name': 'MPIainDS', 'name': 'Iain Duncan Smith MP', 'id': 1133305785910550528, 'id_str': '1133305785910550528', 'indices': [3, 12]}, {'screen_name': 'BorisJohnson', 'name': 'Boris Johnson', 'id': 3131144855, 'id_str': '3131144855', 'indices': [76, 89]}], 'urls': []}, metadata={'iso_language_code': 'en', 'result_type': 'recent'}, source='Twitter Web App', source_url='https://mobile.twitter.com', in_reply_to_status_id=None, in_reply_to_status_id_str=None, in_reply_to_user_id=None, in_reply_to_user_id_str=None, in_reply_to_screen_name=None, author=User(_api=<tweepy.api.API object at 0x7f8ebff80110>, _json={'id': 849880970, 'id_str': '849880970', 'name': 'Nile Gardiner', 'screen_name': 'NileGardiner', 'location': 'Washington, DC', 'description': 'Foreign policy analyst. Former aide to Margaret Thatcher.', 'url': None, 'entities': {'description': {'urls': []}}, 'protected': False, 'followers_count': 12070, 'friends_count': 1239, 'listed_count': 243, 'created_at': 'Thu Sep 27 20:07:18 +0000 2012', 'favourites_count': 1015, 'utc_offset': None, 'time_zone': None, 'geo_enabled': False, 'verified': False, 'statuses_count': 37308, 'lang': None, 'contributors_enabled': False, 'is_translator': False, 'is_translation_enabled': False, 'profile_background_color': 'C0DEED', 'profile_background_image_url': 'http://abs.twimg.com/images/themes/theme1/bg.png', 'profile_background_image_url_https': 'https://abs.twimg.com/images/themes/theme1/bg.png', 'profile_background_tile': False, 'profile_image_url': 'http://pbs.twimg.com/profile_images/2733485826/ea8198a6b76c267e8ef27468d31291ee_normal.jpeg', 'profile_image_url_https': 'https://pbs.twimg.com/profile_images/2733485826/ea8198a6b76c267e8ef27468d31291ee_normal.jpeg', 'profile_banner_url': 'https://pbs.twimg.com/profile_banners/849880970/1474491305', 'profile_link_color': '1DA1F2', 'profile_sidebar_border_color': 'C0DEED', 'profile_sidebar_fill_color': 'DDEEF6', 'profile_text_color': '333333', 'profile_use_background_image': True, 'has_extended_profile': False, 'default_profile': True, 'default_profile_image': False, 'following': False, 'follow_request_sent': False, 'notifications': False, 'translator_type': 'none'}, id=849880970, id_str='849880970', name='Nile Gardiner', screen_name='NileGardiner', location='Washington, DC', description='Foreign policy analyst. Former aide to Margaret Thatcher.', url=None, entities={'description': {'urls': []}}, protected=False, followers_count=12070, friends_count=1239, listed_count=243, created_at=datetime.datetime(2012, 9, 27, 20, 7, 18), favourites_count=1015, utc_offset=None, time_zone=None, geo_enabled=False, verified=False, statuses_count=37308, lang=None, contributors_enabled=False, is_translator=False, is_translation_enabled=False, profile_background_color='C0DEED', profile_background_image_url='http://abs.twimg.com/images/themes/theme1/bg.png', profile_background_image_url_https='https://abs.twimg.com/images/themes/theme1/bg.png', profile_background_tile=False, profile_image_url='http://pbs.twimg.com/profile_images/2733485826/ea8198a6b76c267e8ef27468d31291ee_normal.jpeg', profile_image_url_https='https://pbs.twimg.com/profile_images/2733485826/ea8198a6b76c267e8ef27468d31291ee_normal.jpeg', profile_banner_url='https://pbs.twimg.com/profile_banners/849880970/1474491305', profile_link_color='1DA1F2', profile_sidebar_border_color='C0DEED', profile_sidebar_fill_color='DDEEF6', profile_text_color='333333', profile_use_background_image=True, has_extended_profile=False, default_profile=True, default_profile_image=False, following=False, follow_request_sent=False, notifications=False, translator_type='none'), user=User(_api=<tweepy.api.API object at 0x7f8ebff80110>, _json={'id': 849880970, 'id_str': '849880970', 'name': 'Nile Gardiner', 'screen_name': 'NileGardiner', 'location': 'Washington, DC', 'description': 'Foreign policy analyst. Former aide to Margaret Thatcher.', 'url': None, 'entities': {'description': {'urls': []}}, 'protected': False, 'followers_count': 12070, 'friends_count': 1239, 'listed_count': 243, 'created_at': 'Thu Sep 27 20:07:18 +0000 2012', 'favourites_count': 1015, 'utc_offset': None, 'time_zone': None, 'geo_enabled': False, 'verified': False, 'statuses_count': 37308, 'lang': None, 'contributors_enabled': False, 'is_translator': False, 'is_translation_enabled': False, 'profile_background_color': 'C0DEED', 'profile_background_image_url': 'http://abs.twimg.com/images/themes/theme1/bg.png', 'profile_background_image_url_https': 'https://abs.twimg.com/images/themes/theme1/bg.png', 'profile_background_tile': False, 'profile_image_url': 'http://pbs.twimg.com/profile_images/2733485826/ea8198a6b76c267e8ef27468d31291ee_normal.jpeg', 'profile_image_url_https': 'https://pbs.twimg.com/profile_images/2733485826/ea8198a6b76c267e8ef27468d31291ee_normal.jpeg', 'profile_banner_url': 'https://pbs.twimg.com/profile_banners/849880970/1474491305', 'profile_link_color': '1DA1F2', 'profile_sidebar_border_color': 'C0DEED', 'profile_sidebar_fill_color': 'DDEEF6', 'profile_text_color': '333333', 'profile_use_background_image': True, 'has_extended_profile': False, 'default_profile': True, 'default_profile_image': False, 'following': False, 'follow_request_sent': False, 'notifications': False, 'translator_type': 'none'}, id=849880970, id_str='849880970', name='Nile Gardiner', screen_name='NileGardiner', location='Washington, DC', description='Foreign policy analyst. Former aide to Margaret Thatcher.', url=None, entities={'description': {'urls': []}}, protected=False, followers_count=12070, friends_count=1239, listed_count=243, created_at=datetime.datetime(2012, 9, 27, 20, 7, 18), favourites_count=1015, utc_offset=None, time_zone=None, geo_enabled=False, verified=False, statuses_count=37308, lang=None, contributors_enabled=False, is_translator=False, is_translation_enabled=False, profile_background_color='C0DEED', profile_background_image_url='http://abs.twimg.com/images/themes/theme1/bg.png', profile_background_image_url_https='https://abs.twimg.com/images/themes/theme1/bg.png', profile_background_tile=False, profile_image_url='http://pbs.twimg.com/profile_images/2733485826/ea8198a6b76c267e8ef27468d31291ee_normal.jpeg', profile_image_url_https='https://pbs.twimg.com/profile_images/2733485826/ea8198a6b76c267e8ef27468d31291ee_normal.jpeg', profile_banner_url='https://pbs.twimg.com/profile_banners/849880970/1474491305', profile_link_color='1DA1F2', profile_sidebar_border_color='C0DEED', profile_sidebar_fill_color='DDEEF6', profile_text_color='333333', profile_use_background_image=True, has_extended_profile=False, default_profile=True, default_profile_image=False, following=False, follow_request_sent=False, notifications=False, translator_type='none'), geo=None, coordinates=None, place=None, contributors=None, retweeted_status=Status(_api=<tweepy.api.API object at 0x7f8ebff80110>, _json={'created_at': 'Tue Oct 22 19:39:14 +0000 2019', 'id': 1186728738492440576, 'id_str': '1186728738492440576', 'text': \"Majority for 2nd reading of #WithdrawalAgreementBill &amp; PM @BorisJohnson's deal, however #DemocracyBlockers Labour,… https://t.co/YfQ2ZipXFd\", 'truncated': True, 'entities': {'hashtags': [{'text': 'WithdrawalAgreementBill', 'indices': [28, 52]}, {'text': 'DemocracyBlockers', 'indices': [92, 110]}], 'symbols': [], 'user_mentions': [{'screen_name': 'BorisJohnson', 'name': 'Boris Johnson', 'id': 3131144855, 'id_str': '3131144855', 'indices': [62, 75]}], 'urls': [{'url': 'https://t.co/YfQ2ZipXFd', 'expanded_url': 'https://twitter.com/i/web/status/1186728738492440576', 'display_url': 'twitter.com/i/web/status/1…', 'indices': [120, 143]}]}, 'metadata': {'iso_language_code': 'en', 'result_type': 'recent'}, 'source': '<a href=\"https://mobile.twitter.com\" rel=\"nofollow\">Twitter Web App</a>', 'in_reply_to_status_id': None, 'in_reply_to_status_id_str': None, 'in_reply_to_user_id': None, 'in_reply_to_user_id_str': None, 'in_reply_to_screen_name': None, 'user': {'id': 1133305785910550528, 'id_str': '1133305785910550528', 'name': 'Iain Duncan Smith MP', 'screen_name': 'MPIainDS', 'location': 'London, England', 'description': 'MP Chingford & Woodford Green. Founder Centre for Social Justice. Former leader of the Conservative Party. No replies here. iain.duncansmith.mp@parliament.uk', 'url': 'https://t.co/OS3DDZB8Gd', 'entities': {'url': {'urls': [{'url': 'https://t.co/OS3DDZB8Gd', 'expanded_url': 'http://www.iainduncansmith.org.uk', 'display_url': 'iainduncansmith.org.uk', 'indices': [0, 23]}]}, 'description': {'urls': []}}, 'protected': False, 'followers_count': 16850, 'friends_count': 319, 'listed_count': 112, 'created_at': 'Tue May 28 09:35:29 +0000 2019', 'favourites_count': 350, 'utc_offset': None, 'time_zone': None, 'geo_enabled': False, 'verified': False, 'statuses_count': 521, 'lang': None, 'contributors_enabled': False, 'is_translator': False, 'is_translation_enabled': False, 'profile_background_color': 'F5F8FA', 'profile_background_image_url': None, 'profile_background_image_url_https': None, 'profile_background_tile': False, 'profile_image_url': 'http://pbs.twimg.com/profile_images/1133305968522145792/WoZUBUF6_normal.jpg', 'profile_image_url_https': 'https://pbs.twimg.com/profile_images/1133305968522145792/WoZUBUF6_normal.jpg', 'profile_banner_url': 'https://pbs.twimg.com/profile_banners/1133305785910550528/1559070634', 'profile_link_color': '1DA1F2', 'profile_sidebar_border_color': 'C0DEED', 'profile_sidebar_fill_color': 'DDEEF6', 'profile_text_color': '333333', 'profile_use_background_image': True, 'has_extended_profile': False, 'default_profile': True, 'default_profile_image': False, 'following': False, 'follow_request_sent': False, 'notifications': False, 'translator_type': 'none'}, 'geo': None, 'coordinates': None, 'place': None, 'contributors': None, 'is_quote_status': False, 'retweet_count': 93, 'favorite_count': 289, 'favorited': False, 'retweeted': False, 'lang': 'en'}, created_at=datetime.datetime(2019, 10, 22, 19, 39, 14), id=1186728738492440576, id_str='1186728738492440576', text=\"Majority for 2nd reading of #WithdrawalAgreementBill &amp; PM @BorisJohnson's deal, however #DemocracyBlockers Labour,… https://t.co/YfQ2ZipXFd\", truncated=True, entities={'hashtags': [{'text': 'WithdrawalAgreementBill', 'indices': [28, 52]}, {'text': 'DemocracyBlockers', 'indices': [92, 110]}], 'symbols': [], 'user_mentions': [{'screen_name': 'BorisJohnson', 'name': 'Boris Johnson', 'id': 3131144855, 'id_str': '3131144855', 'indices': [62, 75]}], 'urls': [{'url': 'https://t.co/YfQ2ZipXFd', 'expanded_url': 'https://twitter.com/i/web/status/1186728738492440576', 'display_url': 'twitter.com/i/web/status/1…', 'indices': [120, 143]}]}, metadata={'iso_language_code': 'en', 'result_type': 'recent'}, source='Twitter Web App', source_url='https://mobile.twitter.com', in_reply_to_status_id=None, in_reply_to_status_id_str=None, in_reply_to_user_id=None, in_reply_to_user_id_str=None, in_reply_to_screen_name=None, author=User(_api=<tweepy.api.API object at 0x7f8ebff80110>, _json={'id': 1133305785910550528, 'id_str': '1133305785910550528', 'name': 'Iain Duncan Smith MP', 'screen_name': 'MPIainDS', 'location': 'London, England', 'description': 'MP Chingford & Woodford Green. Founder Centre for Social Justice. Former leader of the Conservative Party. No replies here. iain.duncansmith.mp@parliament.uk', 'url': 'https://t.co/OS3DDZB8Gd', 'entities': {'url': {'urls': [{'url': 'https://t.co/OS3DDZB8Gd', 'expanded_url': 'http://www.iainduncansmith.org.uk', 'display_url': 'iainduncansmith.org.uk', 'indices': [0, 23]}]}, 'description': {'urls': []}}, 'protected': False, 'followers_count': 16850, 'friends_count': 319, 'listed_count': 112, 'created_at': 'Tue May 28 09:35:29 +0000 2019', 'favourites_count': 350, 'utc_offset': None, 'time_zone': None, 'geo_enabled': False, 'verified': False, 'statuses_count': 521, 'lang': None, 'contributors_enabled': False, 'is_translator': False, 'is_translation_enabled': False, 'profile_background_color': 'F5F8FA', 'profile_background_image_url': None, 'profile_background_image_url_https': None, 'profile_background_tile': False, 'profile_image_url': 'http://pbs.twimg.com/profile_images/1133305968522145792/WoZUBUF6_normal.jpg', 'profile_image_url_https': 'https://pbs.twimg.com/profile_images/1133305968522145792/WoZUBUF6_normal.jpg', 'profile_banner_url': 'https://pbs.twimg.com/profile_banners/1133305785910550528/1559070634', 'profile_link_color': '1DA1F2', 'profile_sidebar_border_color': 'C0DEED', 'profile_sidebar_fill_color': 'DDEEF6', 'profile_text_color': '333333', 'profile_use_background_image': True, 'has_extended_profile': False, 'default_profile': True, 'default_profile_image': False, 'following': False, 'follow_request_sent': False, 'notifications': False, 'translator_type': 'none'}, id=1133305785910550528, id_str='1133305785910550528', name='Iain Duncan Smith MP', screen_name='MPIainDS', location='London, England', description='MP Chingford & Woodford Green. Founder Centre for Social Justice. Former leader of the Conservative Party. No replies here. iain.duncansmith.mp@parliament.uk', url='https://t.co/OS3DDZB8Gd', entities={'url': {'urls': [{'url': 'https://t.co/OS3DDZB8Gd', 'expanded_url': 'http://www.iainduncansmith.org.uk', 'display_url': 'iainduncansmith.org.uk', 'indices': [0, 23]}]}, 'description': {'urls': []}}, protected=False, followers_count=16850, friends_count=319, listed_count=112, created_at=datetime.datetime(2019, 5, 28, 9, 35, 29), favourites_count=350, utc_offset=None, time_zone=None, geo_enabled=False, verified=False, statuses_count=521, lang=None, contributors_enabled=False, is_translator=False, is_translation_enabled=False, profile_background_color='F5F8FA', profile_background_image_url=None, profile_background_image_url_https=None, profile_background_tile=False, profile_image_url='http://pbs.twimg.com/profile_images/1133305968522145792/WoZUBUF6_normal.jpg', profile_image_url_https='https://pbs.twimg.com/profile_images/1133305968522145792/WoZUBUF6_normal.jpg', profile_banner_url='https://pbs.twimg.com/profile_banners/1133305785910550528/1559070634', profile_link_color='1DA1F2', profile_sidebar_border_color='C0DEED', profile_sidebar_fill_color='DDEEF6', profile_text_color='333333', profile_use_background_image=True, has_extended_profile=False, default_profile=True, default_profile_image=False, following=False, follow_request_sent=False, notifications=False, translator_type='none'), user=User(_api=<tweepy.api.API object at 0x7f8ebff80110>, _json={'id': 1133305785910550528, 'id_str': '1133305785910550528', 'name': 'Iain Duncan Smith MP', 'screen_name': 'MPIainDS', 'location': 'London, England', 'description': 'MP Chingford & Woodford Green. Founder Centre for Social Justice. Former leader of the Conservative Party. No replies here. iain.duncansmith.mp@parliament.uk', 'url': 'https://t.co/OS3DDZB8Gd', 'entities': {'url': {'urls': [{'url': 'https://t.co/OS3DDZB8Gd', 'expanded_url': 'http://www.iainduncansmith.org.uk', 'display_url': 'iainduncansmith.org.uk', 'indices': [0, 23]}]}, 'description': {'urls': []}}, 'protected': False, 'followers_count': 16850, 'friends_count': 319, 'listed_count': 112, 'created_at': 'Tue May 28 09:35:29 +0000 2019', 'favourites_count': 350, 'utc_offset': None, 'time_zone': None, 'geo_enabled': False, 'verified': False, 'statuses_count': 521, 'lang': None, 'contributors_enabled': False, 'is_translator': False, 'is_translation_enabled': False, 'profile_background_color': 'F5F8FA', 'profile_background_image_url': None, 'profile_background_image_url_https': None, 'profile_background_tile': False, 'profile_image_url': 'http://pbs.twimg.com/profile_images/1133305968522145792/WoZUBUF6_normal.jpg', 'profile_image_url_https': 'https://pbs.twimg.com/profile_images/1133305968522145792/WoZUBUF6_normal.jpg', 'profile_banner_url': 'https://pbs.twimg.com/profile_banners/1133305785910550528/1559070634', 'profile_link_color': '1DA1F2', 'profile_sidebar_border_color': 'C0DEED', 'profile_sidebar_fill_color': 'DDEEF6', 'profile_text_color': '333333', 'profile_use_background_image': True, 'has_extended_profile': False, 'default_profile': True, 'default_profile_image': False, 'following': False, 'follow_request_sent': False, 'notifications': False, 'translator_type': 'none'}, id=1133305785910550528, id_str='1133305785910550528', name='Iain Duncan Smith MP', screen_name='MPIainDS', location='London, England', description='MP Chingford & Woodford Green. Founder Centre for Social Justice. Former leader of the Conservative Party. No replies here. iain.duncansmith.mp@parliament.uk', url='https://t.co/OS3DDZB8Gd', entities={'url': {'urls': [{'url': 'https://t.co/OS3DDZB8Gd', 'expanded_url': 'http://www.iainduncansmith.org.uk', 'display_url': 'iainduncansmith.org.uk', 'indices': [0, 23]}]}, 'description': {'urls': []}}, protected=False, followers_count=16850, friends_count=319, listed_count=112, created_at=datetime.datetime(2019, 5, 28, 9, 35, 29), favourites_count=350, utc_offset=None, time_zone=None, geo_enabled=False, verified=False, statuses_count=521, lang=None, contributors_enabled=False, is_translator=False, is_translation_enabled=False, profile_background_color='F5F8FA', profile_background_image_url=None, profile_background_image_url_https=None, profile_background_tile=False, profile_image_url='http://pbs.twimg.com/profile_images/1133305968522145792/WoZUBUF6_normal.jpg', profile_image_url_https='https://pbs.twimg.com/profile_images/1133305968522145792/WoZUBUF6_normal.jpg', profile_banner_url='https://pbs.twimg.com/profile_banners/1133305785910550528/1559070634', profile_link_color='1DA1F2', profile_sidebar_border_color='C0DEED', profile_sidebar_fill_color='DDEEF6', profile_text_color='333333', profile_use_background_image=True, has_extended_profile=False, default_profile=True, default_profile_image=False, following=False, follow_request_sent=False, notifications=False, translator_type='none'), geo=None, coordinates=None, place=None, contributors=None, is_quote_status=False, retweet_count=93, favorite_count=289, favorited=False, retweeted=False, lang='en'), is_quote_status=False, retweet_count=93, favorite_count=0, favorited=False, retweeted=False, lang='en')\n"
     ]
    }
   ],
   "source": [
    "tweets = api.search('#brexit', count = 2, lang = 'en')\n",
    "for tweet in tweets:\n",
    "    print(tweet)"
   ]
  },
  {
   "cell_type": "code",
   "execution_count": 17,
   "metadata": {},
   "outputs": [
    {
     "name": "stdout",
     "output_type": "stream",
     "text": [
      "2019-10-22 20:06:05 RT @GoodwinMJ: Another double digit lead for the Conservatives. Not the one I tweeted earlier. Another one.\n",
      "\n",
      "Conservatives 37% (+6)\n",
      "Labour…\n",
      "2019-10-22 20:06:05 RT @Neon_Knight23: The @UKLabour MP @jreynoldsMP just said that the UK fishing industry ‘does not matter’ \n",
      "\n",
      "#Brexit @MrMasonMills @Iromg ht…\n",
      "2019-10-22 20:06:03 RT @RuleBrexitannia: So ironically we have a remainer Parliament who have spat in the peoples faces for 3 years and now pass brexit back to…\n",
      "2019-10-22 20:06:03 RT @EuropeElects: UK, Deltapoll poll:\n",
      "\n",
      "European Union Membership Referendum\n",
      "\n",
      "Remain: 55% (+2)\n",
      "Leave: 45% (-2)\n",
      "\n",
      "+/- vs. 5–7 Sep\n",
      "\n",
      "Fieldwork:…\n",
      "2019-10-22 20:06:03 RT @TerryReintke: The EU is not tired of the UK. The EU is not tired of the British people. \n",
      "\n",
      "We are simply tired of Prime Ministers who do…\n",
      "2019-10-22 20:06:03 RT @ukreloaded: Huge congratulations to #BorisJohnson so far\n",
      "\n",
      "He got a deal (good or bad) when the E.U told him there was no chance &amp; he di…\n",
      "2019-10-22 20:06:02 RT @TheStephenRalph: @Neill_Steps_fan @Frankyboootchar Nope. Sorry, but we won't be leaving. Opinion has changed since 2016. There is no ma…\n",
      "2019-10-22 20:06:01 RT @jamesdeeganMC: I have been in countries where people risk their lives to vote, I have been in countries where they have fought to over…\n",
      "2019-10-22 20:06:00 RT @RituG15: #Metoo #BigilEmoji #TuesdayThoughts #PMDC #elxn43 #Brexit #BedAMoodWithPortico\n",
      "In Schools, Colleges #feminists are running the…\n",
      "2019-10-22 20:06:00 RT @PressTV: #UK lawmakers reject timetable for #Brexit deal legislation\n",
      "\n",
      "#BreakingNews https://t.co/pcdeGTV7V1\n",
      "2019-10-22 20:06:00 RT @BBCkatyaadler: EU diplomat from influential member state said to me: “What game is being played here? Boris Johnson tells us, tells eve…\n",
      "2019-10-22 20:06:00 RT @Good_Beard: Do you think #BorisJohnson is?\n",
      "\n",
      "#BrexitBill #WithdrawalAgreementBill #Brexit #breaking #news\n",
      "2019-10-22 20:05:59 RT @BBCkatyaadler: Another EU diplomat just now on Boris Johnson halting the legislative process: „He is clearly once again is  putting a g…\n",
      "2019-10-22 20:05:58 RT @sh_irredeemable: FLASH #Brexit Update:  \n",
      "\n",
      "Boris thanked the House for approving the deal but paused the bill following the House's reje…\n",
      "2019-10-22 20:05:58 RT @MPIainDS: Majority for 2nd reading of #WithdrawalAgreementBill &amp; PM @BorisJohnson's deal, however #DemocracyBlockers Labour, LibDems &amp;…\n",
      "2019-10-22 20:05:58 RT @OGMurphy1: That look when you realise that the EU's Anti Tax Avoidance will apply to your hedge fund after all... #Brexit #BrexitBill #…\n",
      "2019-10-22 20:05:58 RT @TerryReintke: The EU is not tired of the UK. The EU is not tired of the British people. \n",
      "\n",
      "We are simply tired of Prime Ministers who do…\n",
      "2019-10-22 20:05:57 RT @ladydvl: Just hanging here , waiting for that #Brexit shite to be over ...🙈🙈🙈 https://t.co/P2I532bFIV\n",
      "2019-10-22 20:05:57 RT @NadineDorries: Parliament has voted for the deal on second reading. It voted against the programme motion to debate the WAB which means…\n",
      "2019-10-22 20:05:56 RT @jonworth: OK, so you want a way through today? And perhaps even a map for the next 10 days?\n",
      "\n",
      "V31 of the #Brexit diagram is out\n",
      "\n",
      "This is…\n"
     ]
    }
   ],
   "source": [
    "for tweet in tw.Cursor(api.search,q=\"#brexit\",count=1,\n",
    "                           lang=\"en\",\n",
    "                           since=\"2019-10-22\").items():\n",
    "    print (tweet.created_at, tweet.text)"
   ]
  },
  {
   "cell_type": "code",
   "execution_count": 7,
   "metadata": {},
   "outputs": [
    {
     "name": "stdout",
     "output_type": "stream",
     "text": [
      "Hoping it's a successful week for everyone at #INFORMS in Seattle! Wiley is pleased to be in the city - say hello to the team at booth #56 👋\n",
      "Mark Zuckerberg is wrong: young people aren't smarter.  https://t.co/jf421CtjUp\n",
      "📚📖Właśnie się rozpoczął! Tydzień ze znakomitą literaturą!  Do 27.10 Kraków będzie gościł najwybitniejszych! Prawdzi… https://t.co/i7vPjbeEyX\n",
      "Could you be the next graduate Mango?  {https://t.co/yLxbgLoG71} #rstats #DataScience\n",
      "RT @Pierre_Markuse: Metis Shoal Volcano🌋 still active #Tonga🇹🇴 20 October 2019 Enh. nat. col. with IR overlay #Copernicus #Sentinel-2🛰️ Ful…\n",
      "These apps can turn your smart speaker into a spying device. https://t.co/HfCkmHUVOc\n",
      "Can't. Stop. Watching! \n",
      "\n",
      "H/T @rcbbsstark 🎥\n",
      "\n",
      "https://t.co/j1aEoYeg90\n",
      "HAPPENING NOW: A news conference live from @Space_Station about our historic #AllWomanSpacewalk. 👩‍🚀 👩‍🚀 Tune in to… https://t.co/4HcYkrTO0s\n",
      "Whereas conventional crystals are orderly states of matter whose patterns repeat at regular intervals in space, tim… https://t.co/iPwghRrWw4\n",
      "\"When I was starting as a student in a different experiment, I was at a collaboration meeting. I was going to every… https://t.co/KeZp0pTWPI\n",
      "The second mysterious interstellar object found zipping through the solar system, 2I/Borisov, looks like a run-of-t… https://t.co/WWBcYMH9Yw\n",
      "AMSTAT NEWS | In preparation for #ICHPS2020, we’re running a series of interviews with previous #healthpolicy award… https://t.co/8L0TUrktm1\n",
      "It turns out the Russian intelligence hackers known as Cozy Bear never went away at all. \n",
      "\n",
      "And the details of their… https://t.co/F2E7oPxaYD\n",
      "#Hungary's 🇭🇺 capital city, #Budapest, is one of the #EU's largest cities. \n",
      "\n",
      "The Danube river, #Europe's second lon… https://t.co/MNfkBV12hf\n",
      "RT @erum2020_conf: Our program committee is working very hard on bringing  the most brilliant speakers to #erum2020, and you can help! Whic…\n",
      "What do @Astro_Jessica and @Astro_Christina have to say about their historic #AllWomanSpacewalk? Find out this afte… https://t.co/Foym9utM3b\n",
      "🎥 What does one year in space look like for #BepiColombo? One of the #selfie cams on our @ESA_MTM collected these 2… https://t.co/RG765ciN6H\n",
      "@antonioregalado @Harvard @liugroup @nature In fact, @liugroup claims \"prime editing\" is capable of repairing any o… https://t.co/dAPUdgQfai\n",
      "@antonioregalado The new CRISPR technology uses an engineered protein that, according to a report by @Harvard biolo… https://t.co/OO1pRpyvsf\n",
      "RT @suduhegde01: Yes✌️...Yes ✌️ This feels great 🔥. Graduated from @udacity  😎 A pretty intense yet rewarding journey of learning. Inspired…\n"
     ]
    }
   ],
   "source": [
    "public_tweets = api.home_timeline()\n",
    "for tweet in public_tweets:\n",
    "    print(tweet.text)"
   ]
  },
  {
   "cell_type": "code",
   "execution_count": 8,
   "metadata": {},
   "outputs": [
    {
     "data": {
      "text/plain": [
       "Status(_api=<tweepy.api.API object at 0x7f03cdafa4d0>, _json={'created_at': 'Mon Oct 21 16:15:30 +0000 2019', 'id': 1186315082495602700, 'id_str': '1186315082495602700', 'text': \"Hoping it's a successful week for everyone at #INFORMS in Seattle! Wiley is pleased to be in the city - say hello to the team at booth #56 👋\", 'truncated': False, 'entities': {'hashtags': [{'text': 'INFORMS', 'indices': [46, 54]}], 'symbols': [], 'user_mentions': [], 'urls': []}, 'source': '<a href=\"https://www.hootsuite.com\" rel=\"nofollow\">Hootsuite Inc.</a>', 'in_reply_to_status_id': None, 'in_reply_to_status_id_str': None, 'in_reply_to_user_id': None, 'in_reply_to_user_id_str': None, 'in_reply_to_screen_name': None, 'user': {'id': 26804376, 'id_str': '26804376', 'name': 'Wiley Statistics and Math', 'screen_name': 'Wiley_Stats', 'location': '', 'description': 'We publish statistics and math research and books. We’ll help you build your career, get published and connect you with the latest articles.', 'url': 'https://t.co/0Src3prFrg', 'entities': {'url': {'urls': [{'url': 'https://t.co/0Src3prFrg', 'expanded_url': 'http://www.wiley.com', 'display_url': 'wiley.com', 'indices': [0, 23]}]}, 'description': {'urls': []}}, 'protected': False, 'followers_count': 4579, 'friends_count': 715, 'listed_count': 178, 'created_at': 'Thu Mar 26 17:53:37 +0000 2009', 'favourites_count': 77, 'utc_offset': None, 'time_zone': None, 'geo_enabled': False, 'verified': False, 'statuses_count': 5528, 'lang': None, 'contributors_enabled': False, 'is_translator': False, 'is_translation_enabled': False, 'profile_background_color': '17B0E8', 'profile_background_image_url': 'http://abs.twimg.com/images/themes/theme10/bg.gif', 'profile_background_image_url_https': 'https://abs.twimg.com/images/themes/theme10/bg.gif', 'profile_background_tile': True, 'profile_image_url': 'http://pbs.twimg.com/profile_images/1082656175521452037/4SKqUM0h_normal.jpg', 'profile_image_url_https': 'https://pbs.twimg.com/profile_images/1082656175521452037/4SKqUM0h_normal.jpg', 'profile_banner_url': 'https://pbs.twimg.com/profile_banners/26804376/1546960338', 'profile_link_color': '981CEB', 'profile_sidebar_border_color': 'FFFFFF', 'profile_sidebar_fill_color': '7AC3EE', 'profile_text_color': '3D1957', 'profile_use_background_image': False, 'has_extended_profile': False, 'default_profile': False, 'default_profile_image': False, 'following': True, 'follow_request_sent': False, 'notifications': False, 'translator_type': 'none'}, 'geo': None, 'coordinates': None, 'place': None, 'contributors': None, 'is_quote_status': False, 'retweet_count': 0, 'favorite_count': 0, 'favorited': False, 'retweeted': False, 'lang': 'en'}, created_at=datetime.datetime(2019, 10, 21, 16, 15, 30), id=1186315082495602700, id_str='1186315082495602700', text=\"Hoping it's a successful week for everyone at #INFORMS in Seattle! Wiley is pleased to be in the city - say hello to the team at booth #56 👋\", truncated=False, entities={'hashtags': [{'text': 'INFORMS', 'indices': [46, 54]}], 'symbols': [], 'user_mentions': [], 'urls': []}, source='Hootsuite Inc.', source_url='https://www.hootsuite.com', in_reply_to_status_id=None, in_reply_to_status_id_str=None, in_reply_to_user_id=None, in_reply_to_user_id_str=None, in_reply_to_screen_name=None, author=User(_api=<tweepy.api.API object at 0x7f03cdafa4d0>, _json={'id': 26804376, 'id_str': '26804376', 'name': 'Wiley Statistics and Math', 'screen_name': 'Wiley_Stats', 'location': '', 'description': 'We publish statistics and math research and books. We’ll help you build your career, get published and connect you with the latest articles.', 'url': 'https://t.co/0Src3prFrg', 'entities': {'url': {'urls': [{'url': 'https://t.co/0Src3prFrg', 'expanded_url': 'http://www.wiley.com', 'display_url': 'wiley.com', 'indices': [0, 23]}]}, 'description': {'urls': []}}, 'protected': False, 'followers_count': 4579, 'friends_count': 715, 'listed_count': 178, 'created_at': 'Thu Mar 26 17:53:37 +0000 2009', 'favourites_count': 77, 'utc_offset': None, 'time_zone': None, 'geo_enabled': False, 'verified': False, 'statuses_count': 5528, 'lang': None, 'contributors_enabled': False, 'is_translator': False, 'is_translation_enabled': False, 'profile_background_color': '17B0E8', 'profile_background_image_url': 'http://abs.twimg.com/images/themes/theme10/bg.gif', 'profile_background_image_url_https': 'https://abs.twimg.com/images/themes/theme10/bg.gif', 'profile_background_tile': True, 'profile_image_url': 'http://pbs.twimg.com/profile_images/1082656175521452037/4SKqUM0h_normal.jpg', 'profile_image_url_https': 'https://pbs.twimg.com/profile_images/1082656175521452037/4SKqUM0h_normal.jpg', 'profile_banner_url': 'https://pbs.twimg.com/profile_banners/26804376/1546960338', 'profile_link_color': '981CEB', 'profile_sidebar_border_color': 'FFFFFF', 'profile_sidebar_fill_color': '7AC3EE', 'profile_text_color': '3D1957', 'profile_use_background_image': False, 'has_extended_profile': False, 'default_profile': False, 'default_profile_image': False, 'following': True, 'follow_request_sent': False, 'notifications': False, 'translator_type': 'none'}, id=26804376, id_str='26804376', name='Wiley Statistics and Math', screen_name='Wiley_Stats', location='', description='We publish statistics and math research and books. We’ll help you build your career, get published and connect you with the latest articles.', url='https://t.co/0Src3prFrg', entities={'url': {'urls': [{'url': 'https://t.co/0Src3prFrg', 'expanded_url': 'http://www.wiley.com', 'display_url': 'wiley.com', 'indices': [0, 23]}]}, 'description': {'urls': []}}, protected=False, followers_count=4579, friends_count=715, listed_count=178, created_at=datetime.datetime(2009, 3, 26, 17, 53, 37), favourites_count=77, utc_offset=None, time_zone=None, geo_enabled=False, verified=False, statuses_count=5528, lang=None, contributors_enabled=False, is_translator=False, is_translation_enabled=False, profile_background_color='17B0E8', profile_background_image_url='http://abs.twimg.com/images/themes/theme10/bg.gif', profile_background_image_url_https='https://abs.twimg.com/images/themes/theme10/bg.gif', profile_background_tile=True, profile_image_url='http://pbs.twimg.com/profile_images/1082656175521452037/4SKqUM0h_normal.jpg', profile_image_url_https='https://pbs.twimg.com/profile_images/1082656175521452037/4SKqUM0h_normal.jpg', profile_banner_url='https://pbs.twimg.com/profile_banners/26804376/1546960338', profile_link_color='981CEB', profile_sidebar_border_color='FFFFFF', profile_sidebar_fill_color='7AC3EE', profile_text_color='3D1957', profile_use_background_image=False, has_extended_profile=False, default_profile=False, default_profile_image=False, following=True, follow_request_sent=False, notifications=False, translator_type='none'), user=User(_api=<tweepy.api.API object at 0x7f03cdafa4d0>, _json={'id': 26804376, 'id_str': '26804376', 'name': 'Wiley Statistics and Math', 'screen_name': 'Wiley_Stats', 'location': '', 'description': 'We publish statistics and math research and books. We’ll help you build your career, get published and connect you with the latest articles.', 'url': 'https://t.co/0Src3prFrg', 'entities': {'url': {'urls': [{'url': 'https://t.co/0Src3prFrg', 'expanded_url': 'http://www.wiley.com', 'display_url': 'wiley.com', 'indices': [0, 23]}]}, 'description': {'urls': []}}, 'protected': False, 'followers_count': 4579, 'friends_count': 715, 'listed_count': 178, 'created_at': 'Thu Mar 26 17:53:37 +0000 2009', 'favourites_count': 77, 'utc_offset': None, 'time_zone': None, 'geo_enabled': False, 'verified': False, 'statuses_count': 5528, 'lang': None, 'contributors_enabled': False, 'is_translator': False, 'is_translation_enabled': False, 'profile_background_color': '17B0E8', 'profile_background_image_url': 'http://abs.twimg.com/images/themes/theme10/bg.gif', 'profile_background_image_url_https': 'https://abs.twimg.com/images/themes/theme10/bg.gif', 'profile_background_tile': True, 'profile_image_url': 'http://pbs.twimg.com/profile_images/1082656175521452037/4SKqUM0h_normal.jpg', 'profile_image_url_https': 'https://pbs.twimg.com/profile_images/1082656175521452037/4SKqUM0h_normal.jpg', 'profile_banner_url': 'https://pbs.twimg.com/profile_banners/26804376/1546960338', 'profile_link_color': '981CEB', 'profile_sidebar_border_color': 'FFFFFF', 'profile_sidebar_fill_color': '7AC3EE', 'profile_text_color': '3D1957', 'profile_use_background_image': False, 'has_extended_profile': False, 'default_profile': False, 'default_profile_image': False, 'following': True, 'follow_request_sent': False, 'notifications': False, 'translator_type': 'none'}, id=26804376, id_str='26804376', name='Wiley Statistics and Math', screen_name='Wiley_Stats', location='', description='We publish statistics and math research and books. We’ll help you build your career, get published and connect you with the latest articles.', url='https://t.co/0Src3prFrg', entities={'url': {'urls': [{'url': 'https://t.co/0Src3prFrg', 'expanded_url': 'http://www.wiley.com', 'display_url': 'wiley.com', 'indices': [0, 23]}]}, 'description': {'urls': []}}, protected=False, followers_count=4579, friends_count=715, listed_count=178, created_at=datetime.datetime(2009, 3, 26, 17, 53, 37), favourites_count=77, utc_offset=None, time_zone=None, geo_enabled=False, verified=False, statuses_count=5528, lang=None, contributors_enabled=False, is_translator=False, is_translation_enabled=False, profile_background_color='17B0E8', profile_background_image_url='http://abs.twimg.com/images/themes/theme10/bg.gif', profile_background_image_url_https='https://abs.twimg.com/images/themes/theme10/bg.gif', profile_background_tile=True, profile_image_url='http://pbs.twimg.com/profile_images/1082656175521452037/4SKqUM0h_normal.jpg', profile_image_url_https='https://pbs.twimg.com/profile_images/1082656175521452037/4SKqUM0h_normal.jpg', profile_banner_url='https://pbs.twimg.com/profile_banners/26804376/1546960338', profile_link_color='981CEB', profile_sidebar_border_color='FFFFFF', profile_sidebar_fill_color='7AC3EE', profile_text_color='3D1957', profile_use_background_image=False, has_extended_profile=False, default_profile=False, default_profile_image=False, following=True, follow_request_sent=False, notifications=False, translator_type='none'), geo=None, coordinates=None, place=None, contributors=None, is_quote_status=False, retweet_count=0, favorite_count=0, favorited=False, retweeted=False, lang='en')"
      ]
     },
     "execution_count": 8,
     "metadata": {},
     "output_type": "execute_result"
    }
   ],
   "source": [
    "public_tweets[0]"
   ]
  },
  {
   "cell_type": "code",
   "execution_count": 10,
   "metadata": {},
   "outputs": [],
   "source": [
    "status = public_tweets[0]"
   ]
  },
  {
   "cell_type": "code",
   "execution_count": 15,
   "metadata": {},
   "outputs": [],
   "source": [
    "json_str = json.dumps(status._json)"
   ]
  },
  {
   "cell_type": "code",
   "execution_count": 17,
   "metadata": {},
   "outputs": [],
   "source": [
    "parsed = json.loads(json_str)"
   ]
  },
  {
   "cell_type": "code",
   "execution_count": 18,
   "metadata": {},
   "outputs": [
    {
     "data": {
      "text/plain": [
       "{'created_at': 'Mon Oct 21 16:15:30 +0000 2019',\n",
       " 'id': 1186315082495602700,\n",
       " 'id_str': '1186315082495602700',\n",
       " 'text': \"Hoping it's a successful week for everyone at #INFORMS in Seattle! Wiley is pleased to be in the city - say hello to the team at booth #56 👋\",\n",
       " 'truncated': False,\n",
       " 'entities': {'hashtags': [{'text': 'INFORMS', 'indices': [46, 54]}],\n",
       "  'symbols': [],\n",
       "  'user_mentions': [],\n",
       "  'urls': []},\n",
       " 'source': '<a href=\"https://www.hootsuite.com\" rel=\"nofollow\">Hootsuite Inc.</a>',\n",
       " 'in_reply_to_status_id': None,\n",
       " 'in_reply_to_status_id_str': None,\n",
       " 'in_reply_to_user_id': None,\n",
       " 'in_reply_to_user_id_str': None,\n",
       " 'in_reply_to_screen_name': None,\n",
       " 'user': {'id': 26804376,\n",
       "  'id_str': '26804376',\n",
       "  'name': 'Wiley Statistics and Math',\n",
       "  'screen_name': 'Wiley_Stats',\n",
       "  'location': '',\n",
       "  'description': 'We publish statistics and math research and books. We’ll help you build your career, get published and connect you with the latest articles.',\n",
       "  'url': 'https://t.co/0Src3prFrg',\n",
       "  'entities': {'url': {'urls': [{'url': 'https://t.co/0Src3prFrg',\n",
       "      'expanded_url': 'http://www.wiley.com',\n",
       "      'display_url': 'wiley.com',\n",
       "      'indices': [0, 23]}]},\n",
       "   'description': {'urls': []}},\n",
       "  'protected': False,\n",
       "  'followers_count': 4579,\n",
       "  'friends_count': 715,\n",
       "  'listed_count': 178,\n",
       "  'created_at': 'Thu Mar 26 17:53:37 +0000 2009',\n",
       "  'favourites_count': 77,\n",
       "  'utc_offset': None,\n",
       "  'time_zone': None,\n",
       "  'geo_enabled': False,\n",
       "  'verified': False,\n",
       "  'statuses_count': 5528,\n",
       "  'lang': None,\n",
       "  'contributors_enabled': False,\n",
       "  'is_translator': False,\n",
       "  'is_translation_enabled': False,\n",
       "  'profile_background_color': '17B0E8',\n",
       "  'profile_background_image_url': 'http://abs.twimg.com/images/themes/theme10/bg.gif',\n",
       "  'profile_background_image_url_https': 'https://abs.twimg.com/images/themes/theme10/bg.gif',\n",
       "  'profile_background_tile': True,\n",
       "  'profile_image_url': 'http://pbs.twimg.com/profile_images/1082656175521452037/4SKqUM0h_normal.jpg',\n",
       "  'profile_image_url_https': 'https://pbs.twimg.com/profile_images/1082656175521452037/4SKqUM0h_normal.jpg',\n",
       "  'profile_banner_url': 'https://pbs.twimg.com/profile_banners/26804376/1546960338',\n",
       "  'profile_link_color': '981CEB',\n",
       "  'profile_sidebar_border_color': 'FFFFFF',\n",
       "  'profile_sidebar_fill_color': '7AC3EE',\n",
       "  'profile_text_color': '3D1957',\n",
       "  'profile_use_background_image': False,\n",
       "  'has_extended_profile': False,\n",
       "  'default_profile': False,\n",
       "  'default_profile_image': False,\n",
       "  'following': True,\n",
       "  'follow_request_sent': False,\n",
       "  'notifications': False,\n",
       "  'translator_type': 'none'},\n",
       " 'geo': None,\n",
       " 'coordinates': None,\n",
       " 'place': None,\n",
       " 'contributors': None,\n",
       " 'is_quote_status': False,\n",
       " 'retweet_count': 0,\n",
       " 'favorite_count': 0,\n",
       " 'favorited': False,\n",
       " 'retweeted': False,\n",
       " 'lang': 'en'}"
      ]
     },
     "execution_count": 18,
     "metadata": {},
     "output_type": "execute_result"
    }
   ],
   "source": [
    "parsed"
   ]
  },
  {
   "cell_type": "code",
   "execution_count": 19,
   "metadata": {},
   "outputs": [
    {
     "name": "stdout",
     "output_type": "stream",
     "text": [
      "{\n",
      "    \"contributors\": null,\n",
      "    \"coordinates\": null,\n",
      "    \"created_at\": \"Mon Oct 21 16:15:30 +0000 2019\",\n",
      "    \"entities\": {\n",
      "        \"hashtags\": [\n",
      "            {\n",
      "                \"indices\": [\n",
      "                    46,\n",
      "                    54\n",
      "                ],\n",
      "                \"text\": \"INFORMS\"\n",
      "            }\n",
      "        ],\n",
      "        \"symbols\": [],\n",
      "        \"urls\": [],\n",
      "        \"user_mentions\": []\n",
      "    },\n",
      "    \"favorite_count\": 0,\n",
      "    \"favorited\": false,\n",
      "    \"geo\": null,\n",
      "    \"id\": 1186315082495602700,\n",
      "    \"id_str\": \"1186315082495602700\",\n",
      "    \"in_reply_to_screen_name\": null,\n",
      "    \"in_reply_to_status_id\": null,\n",
      "    \"in_reply_to_status_id_str\": null,\n",
      "    \"in_reply_to_user_id\": null,\n",
      "    \"in_reply_to_user_id_str\": null,\n",
      "    \"is_quote_status\": false,\n",
      "    \"lang\": \"en\",\n",
      "    \"place\": null,\n",
      "    \"retweet_count\": 0,\n",
      "    \"retweeted\": false,\n",
      "    \"source\": \"<a href=\\\"https://www.hootsuite.com\\\" rel=\\\"nofollow\\\">Hootsuite Inc.</a>\",\n",
      "    \"text\": \"Hoping it's a successful week for everyone at #INFORMS in Seattle! Wiley is pleased to be in the city - say hello to the team at booth #56 \\ud83d\\udc4b\",\n",
      "    \"truncated\": false,\n",
      "    \"user\": {\n",
      "        \"contributors_enabled\": false,\n",
      "        \"created_at\": \"Thu Mar 26 17:53:37 +0000 2009\",\n",
      "        \"default_profile\": false,\n",
      "        \"default_profile_image\": false,\n",
      "        \"description\": \"We publish statistics and math research and books. We\\u2019ll help you build your career, get published and connect you with the latest articles.\",\n",
      "        \"entities\": {\n",
      "            \"description\": {\n",
      "                \"urls\": []\n",
      "            },\n",
      "            \"url\": {\n",
      "                \"urls\": [\n",
      "                    {\n",
      "                        \"display_url\": \"wiley.com\",\n",
      "                        \"expanded_url\": \"http://www.wiley.com\",\n",
      "                        \"indices\": [\n",
      "                            0,\n",
      "                            23\n",
      "                        ],\n",
      "                        \"url\": \"https://t.co/0Src3prFrg\"\n",
      "                    }\n",
      "                ]\n",
      "            }\n",
      "        },\n",
      "        \"favourites_count\": 77,\n",
      "        \"follow_request_sent\": false,\n",
      "        \"followers_count\": 4579,\n",
      "        \"following\": true,\n",
      "        \"friends_count\": 715,\n",
      "        \"geo_enabled\": false,\n",
      "        \"has_extended_profile\": false,\n",
      "        \"id\": 26804376,\n",
      "        \"id_str\": \"26804376\",\n",
      "        \"is_translation_enabled\": false,\n",
      "        \"is_translator\": false,\n",
      "        \"lang\": null,\n",
      "        \"listed_count\": 178,\n",
      "        \"location\": \"\",\n",
      "        \"name\": \"Wiley Statistics and Math\",\n",
      "        \"notifications\": false,\n",
      "        \"profile_background_color\": \"17B0E8\",\n",
      "        \"profile_background_image_url\": \"http://abs.twimg.com/images/themes/theme10/bg.gif\",\n",
      "        \"profile_background_image_url_https\": \"https://abs.twimg.com/images/themes/theme10/bg.gif\",\n",
      "        \"profile_background_tile\": true,\n",
      "        \"profile_banner_url\": \"https://pbs.twimg.com/profile_banners/26804376/1546960338\",\n",
      "        \"profile_image_url\": \"http://pbs.twimg.com/profile_images/1082656175521452037/4SKqUM0h_normal.jpg\",\n",
      "        \"profile_image_url_https\": \"https://pbs.twimg.com/profile_images/1082656175521452037/4SKqUM0h_normal.jpg\",\n",
      "        \"profile_link_color\": \"981CEB\",\n",
      "        \"profile_sidebar_border_color\": \"FFFFFF\",\n",
      "        \"profile_sidebar_fill_color\": \"7AC3EE\",\n",
      "        \"profile_text_color\": \"3D1957\",\n",
      "        \"profile_use_background_image\": false,\n",
      "        \"protected\": false,\n",
      "        \"screen_name\": \"Wiley_Stats\",\n",
      "        \"statuses_count\": 5528,\n",
      "        \"time_zone\": null,\n",
      "        \"translator_type\": \"none\",\n",
      "        \"url\": \"https://t.co/0Src3prFrg\",\n",
      "        \"utc_offset\": null,\n",
      "        \"verified\": false\n",
      "    }\n",
      "}\n"
     ]
    }
   ],
   "source": [
    "print(json.dumps(parsed, indent=4, sort_keys=True))"
   ]
  },
  {
   "cell_type": "code",
   "execution_count": 21,
   "metadata": {},
   "outputs": [
    {
     "data": {
      "text/plain": [
       "\"Hoping it's a successful week for everyone at #INFORMS in Seattle! Wiley is pleased to be in the city - say hello to the team at booth #56 👋\""
      ]
     },
     "execution_count": 21,
     "metadata": {},
     "output_type": "execute_result"
    }
   ],
   "source": [
    "parsed['text']"
   ]
  },
  {
   "cell_type": "code",
   "execution_count": 22,
   "metadata": {},
   "outputs": [
    {
     "data": {
      "text/plain": [
       "\"Hoping it's a successful week for everyone at #INFORMS in Seattle! Wiley is pleased to be in the city - say hello to the team at booth #56 👋\""
      ]
     },
     "execution_count": 22,
     "metadata": {},
     "output_type": "execute_result"
    }
   ],
   "source": [
    "status.text"
   ]
  },
  {
   "cell_type": "code",
   "execution_count": 30,
   "metadata": {},
   "outputs": [],
   "source": [
    "class TweetMiner(object):\n",
    "\n",
    "    result_limit    =   20    \n",
    "    data            =   []\n",
    "    api             =   False\n",
    "    \n",
    "    twitter_keys = {\n",
    "        'consumer_key':        'g3OU7SzfpnE2AoPzWzC7My8O9',\n",
    "        'consumer_secret':     'kIOJAjk4Zun00BvCNCgK4NCSq2X5suMb88IJ12UcSzQUhVLiie',\n",
    "        'access_token_key':    '953693483012902912-fXIsILeot5yu6LLk7BBxUiEfi4DwrQD',\n",
    "        'access_token_secret': 'vNhUqPByb1SZQMIVuGwhJX8BaGAkROiEMVQ3N6JyYEB2l'\n",
    "    }\n",
    "    \n",
    "    \n",
    "    def __init__(self, keys_dict=twitter_keys, api=api, result_limit = 20):\n",
    "        \n",
    "        self.twitter_keys = keys_dict\n",
    "        \n",
    "        auth = tw.OAuthHandler(keys_dict['consumer_key'], keys_dict['consumer_secret'])\n",
    "        auth.set_access_token(keys_dict['access_token_key'], keys_dict['access_token_secret'])\n",
    "        \n",
    "        self.api = tw.API(auth)\n",
    "        self.twitter_keys = keys_dict\n",
    "        \n",
    "        self.result_limit = result_limit\n",
    "        \n",
    "\n",
    "    def mine_user_tweets(self, user=\"dril\", #BECAUSE WHO ELSE!\n",
    "                         mine_rewteets=False,\n",
    "                         max_pages=5):\n",
    "\n",
    "        data           =  []\n",
    "        last_tweet_id  =  False\n",
    "        page           =  1\n",
    "        \n",
    "        while page <= max_pages:\n",
    "            if last_tweet_id:\n",
    "                statuses   =   self.api.user_timeline(screen_name=user,\n",
    "                                                     count=self.result_limit,\n",
    "                                                     max_id=last_tweet_id - 1,\n",
    "                                                     tweet_mode = 'extended',\n",
    "                                                     include_retweets=True\n",
    "                                                    )        \n",
    "            else:\n",
    "                statuses   =   self.api.user_timeline(screen_name=user,\n",
    "                                                        count=self.result_limit,\n",
    "                                                        tweet_mode = 'extended',\n",
    "                                                        include_retweets=True)\n",
    "                \n",
    "            for item in statuses:\n",
    "\n",
    "                mined = {\n",
    "                    'tweet_id':        item.id,\n",
    "                    'name':            item.user.name,\n",
    "                    'screen_name':     item.user.screen_name,\n",
    "                    'retweet_count':   item.retweet_count,\n",
    "                    'text':            item.full_text,\n",
    "                    'mined_at':        datetime.datetime.now(),\n",
    "                    'created_at':      item.created_at,\n",
    "                    'favourite_count': item.favorite_count,\n",
    "                    'hashtags':        item.entities['hashtags'],\n",
    "                    'status_count':    item.user.statuses_count,\n",
    "                    'location':        item.place,\n",
    "                    'source_device':   item.source\n",
    "                }\n",
    "                \n",
    "                try:\n",
    "                    mined['retweet_text'] = item.retweeted_status.full_text\n",
    "                except:\n",
    "                    mined['retweet_text'] = 'None'\n",
    "                try:\n",
    "                    mined['quote_text'] = item.quoted_status.full_text\n",
    "                    mined['quote_screen_name'] = status.quoted_status.user.screen_name\n",
    "                except:\n",
    "                    mined['quote_text'] = 'None'\n",
    "                    mined['quote_screen_name'] = 'None'\n",
    "                \n",
    "                last_tweet_id = item.id\n",
    "                data.append(mined)\n",
    "                \n",
    "            page += 1\n",
    "            \n",
    "        return data \n"
   ]
  },
  {
   "cell_type": "code",
   "execution_count": 31,
   "metadata": {},
   "outputs": [],
   "source": [
    "miner=TweetMiner()"
   ]
  },
  {
   "cell_type": "code",
   "execution_count": 34,
   "metadata": {},
   "outputs": [],
   "source": [
    "mined_tweets = miner.mine_user_tweets(user='Grzegor64792783', max_pages=3)\n",
    "mined_tweets_df= pd.DataFrame(mined_tweets)"
   ]
  },
  {
   "cell_type": "code",
   "execution_count": 35,
   "metadata": {},
   "outputs": [
    {
     "data": {
      "text/html": [
       "<div>\n",
       "<style scoped>\n",
       "    .dataframe tbody tr th:only-of-type {\n",
       "        vertical-align: middle;\n",
       "    }\n",
       "\n",
       "    .dataframe tbody tr th {\n",
       "        vertical-align: top;\n",
       "    }\n",
       "\n",
       "    .dataframe thead th {\n",
       "        text-align: right;\n",
       "    }\n",
       "</style>\n",
       "<table border=\"1\" class=\"dataframe\">\n",
       "  <thead>\n",
       "    <tr style=\"text-align: right;\">\n",
       "      <th></th>\n",
       "      <th>tweet_id</th>\n",
       "      <th>name</th>\n",
       "      <th>screen_name</th>\n",
       "      <th>retweet_count</th>\n",
       "      <th>text</th>\n",
       "      <th>mined_at</th>\n",
       "      <th>created_at</th>\n",
       "      <th>favourite_count</th>\n",
       "      <th>hashtags</th>\n",
       "      <th>status_count</th>\n",
       "      <th>location</th>\n",
       "      <th>source_device</th>\n",
       "      <th>retweet_text</th>\n",
       "      <th>quote_text</th>\n",
       "      <th>quote_screen_name</th>\n",
       "    </tr>\n",
       "  </thead>\n",
       "  <tbody>\n",
       "    <tr>\n",
       "      <td>0</td>\n",
       "      <td>1149794406964314112</td>\n",
       "      <td>Grzegorz</td>\n",
       "      <td>Grzegor64792783</td>\n",
       "      <td>5</td>\n",
       "      <td>RT @BernoulliSoc: We would like to remind all ...</td>\n",
       "      <td>2019-10-21 18:53:48.236455</td>\n",
       "      <td>2019-07-12 21:35:23</td>\n",
       "      <td>0</td>\n",
       "      <td>[]</td>\n",
       "      <td>1</td>\n",
       "      <td>None</td>\n",
       "      <td>Twitter for Android</td>\n",
       "      <td>We would like to remind all our members to ren...</td>\n",
       "      <td>None</td>\n",
       "      <td>None</td>\n",
       "    </tr>\n",
       "  </tbody>\n",
       "</table>\n",
       "</div>"
      ],
      "text/plain": [
       "              tweet_id      name      screen_name  retweet_count  \\\n",
       "0  1149794406964314112  Grzegorz  Grzegor64792783              5   \n",
       "\n",
       "                                                text  \\\n",
       "0  RT @BernoulliSoc: We would like to remind all ...   \n",
       "\n",
       "                    mined_at          created_at  favourite_count hashtags  \\\n",
       "0 2019-10-21 18:53:48.236455 2019-07-12 21:35:23                0       []   \n",
       "\n",
       "   status_count location        source_device  \\\n",
       "0             1     None  Twitter for Android   \n",
       "\n",
       "                                        retweet_text quote_text  \\\n",
       "0  We would like to remind all our members to ren...       None   \n",
       "\n",
       "  quote_screen_name  \n",
       "0              None  "
      ]
     },
     "execution_count": 35,
     "metadata": {},
     "output_type": "execute_result"
    }
   ],
   "source": [
    "mined_tweets_df"
   ]
  },
  {
   "cell_type": "code",
   "execution_count": 36,
   "metadata": {},
   "outputs": [],
   "source": [
    "handle_list= ['list of handles you want the timelines of']\n",
    "\n",
    "twitter_dict={}\n",
    "counter=0\n",
    "\n",
    "for name in handle_list:\n",
    "    try:\n",
    "      twitter_dict[name]=[]\n",
    "      twitter_dict[name].append(miner.mine_user_tweets(user=name, max_pages=17))\n",
    "      counter = counter +1\n",
    "      if counter%40==0:\n",
    "        time.sleep(900) #15 minute sleep time\n",
    "    #if name invalid print name and remove key\n",
    "    except:\n",
    "      print(name, 'is invalid or locked')\n",
    "      twitter_dict.pop(name)\n",
    "    \n",
    "all_tweets=pd.concat([pd.DataFrame(twitter_dict[i][0]) for i in twitter_dict])"
   ]
  },
  {
   "cell_type": "code",
   "execution_count": 38,
   "metadata": {},
   "outputs": [
    {
     "data": {
      "text/plain": [
       "['list of handles you want the timelines of']"
      ]
     },
     "execution_count": 38,
     "metadata": {},
     "output_type": "execute_result"
    }
   ],
   "source": [
    "handle_list"
   ]
  },
  {
   "cell_type": "code",
   "execution_count": null,
   "metadata": {},
   "outputs": [],
   "source": []
  }
 ],
 "metadata": {
  "kernelspec": {
   "display_name": "Python 3",
   "language": "python",
   "name": "python3"
  },
  "language_info": {
   "codemirror_mode": {
    "name": "ipython",
    "version": 3
   },
   "file_extension": ".py",
   "mimetype": "text/x-python",
   "name": "python",
   "nbconvert_exporter": "python",
   "pygments_lexer": "ipython3",
   "version": "3.7.4"
  }
 },
 "nbformat": 4,
 "nbformat_minor": 2
}
